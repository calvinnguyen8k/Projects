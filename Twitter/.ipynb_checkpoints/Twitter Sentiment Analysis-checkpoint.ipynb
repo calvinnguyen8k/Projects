{
 "cells": [
  {
   "cell_type": "code",
   "execution_count": 55,
   "metadata": {},
   "outputs": [],
   "source": [
    "# DataFrame\n",
    "import pandas as pd\n",
    "\n",
    "# Matplot\n",
    "import matplotlib.pyplot as plt\n",
    "%matplotlib inline\n",
    "\n",
    "# Scikit-learn\n",
    "from sklearn.model_selection import train_test_split\n",
    "from sklearn.preprocessing import LabelEncoder\n",
    "from sklearn.metrics import confusion_matrix, classification_report, accuracy_score\n",
    "from sklearn.manifold import TSNE\n",
    "from sklearn.feature_extraction.text import TfidfVectorizer\n",
    "\n",
    "# Keras\n",
    "import tensorflow as tf\n",
    "from tensorflow import keras\n",
    "\n",
    "from tensorflow.keras.preprocessing.text import Tokenizer\n",
    "from tensorflow.keras.preprocessing.sequence import pad_sequences\n",
    "from tensorflow.keras.models import Sequential\n",
    "from tensorflow.keras.layers import Activation, Dense, Dropout, Embedding, Flatten, Conv1D, MaxPooling1D, LSTM\n",
    "from tensorflow.keras import utils\n",
    "from tensorflow.keras.callbacks import ReduceLROnPlateau, EarlyStopping\n",
    "\n",
    "# nltk\n",
    "import nltk\n",
    "from nltk.corpus import stopwords\n",
    "from  nltk.stem import SnowballStemmer\n",
    "\n",
    "# Word2vec\n",
    "import gensim\n",
    "\n",
    "# Utility\n",
    "import re\n",
    "import numpy as np\n",
    "import os\n",
    "from collections import Counter\n",
    "import logging\n",
    "import time\n",
    "import pickle\n",
    "import itertools\n",
    "\n",
    "# Set log\n",
    "logging.basicConfig(format='%(asctime)s : %(levelname)s : %(message)s', level=logging.INFO)"
   ]
  },
  {
   "cell_type": "code",
   "execution_count": 57,
   "metadata": {},
   "outputs": [
    {
     "name": "stderr",
     "output_type": "stream",
     "text": [
      "[nltk_data] Downloading package stopwords to\n",
      "[nltk_data]     C:\\Users\\nguye\\AppData\\Roaming\\nltk_data...\n",
      "[nltk_data]   Package stopwords is already up-to-date!\n"
     ]
    },
    {
     "data": {
      "text/plain": [
       "True"
      ]
     },
     "execution_count": 57,
     "metadata": {},
     "output_type": "execute_result"
    }
   ],
   "source": [
    "nltk.download('stopwords')"
   ]
  },
  {
   "cell_type": "markdown",
   "metadata": {},
   "source": [
    "### Setting"
   ]
  },
  {
   "cell_type": "code",
   "execution_count": 3,
   "metadata": {},
   "outputs": [],
   "source": [
    "# DATASET\n",
    "DATASET_COLUMNS = [\"target\", \"ids\", \"date\", \"flag\", \"user\", \"text\"]\n",
    "DATASET_ENCODING = \"ISO-8859-1\"\n",
    "TRAIN_SIZE = 0.8\n",
    "\n",
    "# TEXT CLENAING\n",
    "TEXT_CLEANING_RE = \"@\\S+|https?:\\S+|http?:\\S|[^A-Za-z0-9]+\"\n",
    "\n",
    "# WORD2VEC \n",
    "W2V_SIZE = 300\n",
    "W2V_WINDOW = 7\n",
    "W2V_EPOCH = 32\n",
    "W2V_MIN_COUNT = 10\n",
    "\n",
    "# KERAS\n",
    "SEQUENCE_LENGTH = 300\n",
    "EPOCHS = 8\n",
    "BATCH_SIZE = 512\n",
    "\n",
    "# SENTIMENT\n",
    "POSITIVE = \"POSITIVE\"\n",
    "NEGATIVE = \"NEGATIVE\"\n",
    "NEUTRAL = \"NEUTRAL\"\n",
    "SENTIMENT_THRESHOLDS = (0.4, 0.7)\n",
    "\n",
    "# EXPORT\n",
    "KERAS_MODEL = \"model.h5\"\n",
    "WORD2VEC_MODEL = \"model.w2v\"\n",
    "TOKENIZER_MODEL = \"tokenizer.pkl\"\n",
    "ENCODER_MODEL = \"encoder.pkl\""
   ]
  },
  {
   "cell_type": "markdown",
   "metadata": {},
   "source": [
    "### Read Dataset"
   ]
  },
  {
   "cell_type": "markdown",
   "metadata": {},
   "source": [
    "### Dataset details\n",
    "* **target**: the polarity of the tweet (0 = negative, 2 = neutral, 4 = positive)\n",
    "* **ids**: The id of the tweet ( 2087)\n",
    "* **date**: the date of the tweet (Sat May 16 23:58:44 UTC 2009)\n",
    "* **flag**: The query (lyx). If there is no query, then this value is NO_QUERY.\n",
    "* **user**: the user that tweeted (robotickilldozr)\n",
    "* **text**: the text of the tweet (Lyx is cool)"
   ]
  },
  {
   "cell_type": "code",
   "execution_count": 4,
   "metadata": {},
   "outputs": [
    {
     "name": "stdout",
     "output_type": "stream",
     "text": [
      "Open file: .\\data\\training.1600000.processed.noemoticon.csv\n",
      "Dataset size: 1600000\n"
     ]
    }
   ],
   "source": [
    "dataset_filename = os.listdir(\"./data\")[0]\n",
    "dataset_path = os.path.join(\".\",\"data\",dataset_filename)\n",
    "print(\"Open file:\", dataset_path)\n",
    "df = pd.read_csv(dataset_path, encoding =DATASET_ENCODING , names=DATASET_COLUMNS)\n",
    "print(\"Dataset size:\", len(df))"
   ]
  },
  {
   "cell_type": "code",
   "execution_count": 5,
   "metadata": {},
   "outputs": [
    {
     "data": {
      "text/html": [
       "<div>\n",
       "<style scoped>\n",
       "    .dataframe tbody tr th:only-of-type {\n",
       "        vertical-align: middle;\n",
       "    }\n",
       "\n",
       "    .dataframe tbody tr th {\n",
       "        vertical-align: top;\n",
       "    }\n",
       "\n",
       "    .dataframe thead th {\n",
       "        text-align: right;\n",
       "    }\n",
       "</style>\n",
       "<table border=\"1\" class=\"dataframe\">\n",
       "  <thead>\n",
       "    <tr style=\"text-align: right;\">\n",
       "      <th></th>\n",
       "      <th>target</th>\n",
       "      <th>ids</th>\n",
       "      <th>date</th>\n",
       "      <th>flag</th>\n",
       "      <th>user</th>\n",
       "      <th>text</th>\n",
       "    </tr>\n",
       "  </thead>\n",
       "  <tbody>\n",
       "    <tr>\n",
       "      <th>0</th>\n",
       "      <td>0</td>\n",
       "      <td>1467810369</td>\n",
       "      <td>Mon Apr 06 22:19:45 PDT 2009</td>\n",
       "      <td>NO_QUERY</td>\n",
       "      <td>_TheSpecialOne_</td>\n",
       "      <td>@switchfoot http://twitpic.com/2y1zl - Awww, t...</td>\n",
       "    </tr>\n",
       "    <tr>\n",
       "      <th>1</th>\n",
       "      <td>0</td>\n",
       "      <td>1467810672</td>\n",
       "      <td>Mon Apr 06 22:19:49 PDT 2009</td>\n",
       "      <td>NO_QUERY</td>\n",
       "      <td>scotthamilton</td>\n",
       "      <td>is upset that he can't update his Facebook by ...</td>\n",
       "    </tr>\n",
       "    <tr>\n",
       "      <th>2</th>\n",
       "      <td>0</td>\n",
       "      <td>1467810917</td>\n",
       "      <td>Mon Apr 06 22:19:53 PDT 2009</td>\n",
       "      <td>NO_QUERY</td>\n",
       "      <td>mattycus</td>\n",
       "      <td>@Kenichan I dived many times for the ball. Man...</td>\n",
       "    </tr>\n",
       "    <tr>\n",
       "      <th>3</th>\n",
       "      <td>0</td>\n",
       "      <td>1467811184</td>\n",
       "      <td>Mon Apr 06 22:19:57 PDT 2009</td>\n",
       "      <td>NO_QUERY</td>\n",
       "      <td>ElleCTF</td>\n",
       "      <td>my whole body feels itchy and like its on fire</td>\n",
       "    </tr>\n",
       "    <tr>\n",
       "      <th>4</th>\n",
       "      <td>0</td>\n",
       "      <td>1467811193</td>\n",
       "      <td>Mon Apr 06 22:19:57 PDT 2009</td>\n",
       "      <td>NO_QUERY</td>\n",
       "      <td>Karoli</td>\n",
       "      <td>@nationwideclass no, it's not behaving at all....</td>\n",
       "    </tr>\n",
       "  </tbody>\n",
       "</table>\n",
       "</div>"
      ],
      "text/plain": [
       "   target         ids                          date      flag  \\\n",
       "0       0  1467810369  Mon Apr 06 22:19:45 PDT 2009  NO_QUERY   \n",
       "1       0  1467810672  Mon Apr 06 22:19:49 PDT 2009  NO_QUERY   \n",
       "2       0  1467810917  Mon Apr 06 22:19:53 PDT 2009  NO_QUERY   \n",
       "3       0  1467811184  Mon Apr 06 22:19:57 PDT 2009  NO_QUERY   \n",
       "4       0  1467811193  Mon Apr 06 22:19:57 PDT 2009  NO_QUERY   \n",
       "\n",
       "              user                                               text  \n",
       "0  _TheSpecialOne_  @switchfoot http://twitpic.com/2y1zl - Awww, t...  \n",
       "1    scotthamilton  is upset that he can't update his Facebook by ...  \n",
       "2         mattycus  @Kenichan I dived many times for the ball. Man...  \n",
       "3          ElleCTF    my whole body feels itchy and like its on fire   \n",
       "4           Karoli  @nationwideclass no, it's not behaving at all....  "
      ]
     },
     "execution_count": 5,
     "metadata": {},
     "output_type": "execute_result"
    }
   ],
   "source": [
    "df.head(5)"
   ]
  },
  {
   "cell_type": "markdown",
   "metadata": {},
   "source": [
    "### Map target label to String\n",
    "* **0** -> **NEGATIVE**\n",
    "* **2** -> **NEUTRAL**\n",
    "* **4** -> **POSITIVE**"
   ]
  },
  {
   "cell_type": "code",
   "execution_count": 6,
   "metadata": {},
   "outputs": [],
   "source": [
    "decode_map = {0: \"NEGATIVE\", 2: \"NEUTRAL\", 4: \"POSITIVE\"}\n",
    "def decode_sentiment(label):\n",
    "    return decode_map[int(label)]"
   ]
  },
  {
   "cell_type": "code",
   "execution_count": 7,
   "metadata": {},
   "outputs": [
    {
     "name": "stdout",
     "output_type": "stream",
     "text": [
      "Wall time: 377 ms\n"
     ]
    }
   ],
   "source": [
    "%%time\n",
    "df.target = df.target.apply(lambda x: decode_sentiment(x))"
   ]
  },
  {
   "cell_type": "code",
   "execution_count": 8,
   "metadata": {},
   "outputs": [
    {
     "data": {
      "text/plain": [
       "Text(0.5, 1.0, 'Dataset labels distribuition')"
      ]
     },
     "execution_count": 8,
     "metadata": {},
     "output_type": "execute_result"
    },
    {
     "data": {
      "image/png": "[encoded data removed]",
      "text/plain": [
       "<Figure size 1152x576 with 1 Axes>"
      ]
     },
     "metadata": {
      "needs_background": "light"
     },
     "output_type": "display_data"
    }
   ],
   "source": [
    "target_cnt = Counter(df.target)\n",
    "\n",
    "plt.figure(figsize=(16,8))\n",
    "plt.bar(target_cnt.keys(), target_cnt.values())\n",
    "plt.title(\"Dataset labels distribuition\")"
   ]
  },
  {
   "cell_type": "markdown",
   "metadata": {},
   "source": [
    "### Pre-Process dataset"
   ]
  },
  {
   "cell_type": "code",
   "execution_count": 9,
   "metadata": {},
   "outputs": [],
   "source": [
    "stop_words = stopwords.words(\"english\")\n",
    "stemmer = SnowballStemmer(\"english\")"
   ]
  },
  {
   "cell_type": "code",
   "execution_count": 10,
   "metadata": {},
   "outputs": [],
   "source": [
    "def preprocess(text, stem=False):\n",
    "    # Remove link,user and special characters\n",
    "    text = re.sub(TEXT_CLEANING_RE, ' ', str(text).lower()).strip()\n",
    "    tokens = []\n",
    "    for token in text.split():\n",
    "        if token not in stop_words:\n",
    "            if stem:\n",
    "                tokens.append(stemmer.stem(token))\n",
    "            else:\n",
    "                tokens.append(token)\n",
    "    return \" \".join(tokens)"
   ]
  },
  {
   "cell_type": "code",
   "execution_count": 11,
   "metadata": {},
   "outputs": [
    {
     "name": "stdout",
     "output_type": "stream",
     "text": [
      "Wall time: 43.1 s\n"
     ]
    }
   ],
   "source": [
    "%%time\n",
    "df.text = df.text.apply(lambda x: preprocess(x))"
   ]
  },
  {
   "cell_type": "markdown",
   "metadata": {},
   "source": [
    "### Split train and test"
   ]
  },
  {
   "cell_type": "code",
   "execution_count": 12,
   "metadata": {},
   "outputs": [
    {
     "name": "stdout",
     "output_type": "stream",
     "text": [
      "TRAIN size: 1280000\n",
      "TEST size: 320000\n"
     ]
    }
   ],
   "source": [
    "df_train, df_test = train_test_split(df, test_size=1-TRAIN_SIZE, random_state=42)\n",
    "print(\"TRAIN size:\", len(df_train))\n",
    "print(\"TEST size:\", len(df_test))"
   ]
  },
  {
   "cell_type": "markdown",
   "metadata": {},
   "source": [
    "### Word2Vec "
   ]
  },
  {
   "cell_type": "code",
   "execution_count": 13,
   "metadata": {},
   "outputs": [
    {
     "name": "stdout",
     "output_type": "stream",
     "text": [
      "Wall time: 2.74 s\n"
     ]
    }
   ],
   "source": [
    "%%time\n",
    "documents = [_text.split() for _text in df_train.text] "
   ]
  },
  {
   "cell_type": "code",
   "execution_count": 14,
   "metadata": {},
   "outputs": [
    {
     "name": "stderr",
     "output_type": "stream",
     "text": [
      "2021-06-21 17:57:32,076 : INFO : Word2Vec lifecycle event {'params': 'Word2Vec(vocab=0, vector_size=300, alpha=0.025)', 'datetime': '2021-06-21T17:57:32.076753', 'gensim': '4.0.1', 'python': '3.8.8 (default, Apr 13 2021, 15:08:03) [MSC v.1916 64 bit (AMD64)]', 'platform': 'Windows-10-10.0.19041-SP0', 'event': 'created'}\n"
     ]
    }
   ],
   "source": [
    "w2v_model = gensim.models.word2vec.Word2Vec(vector_size=W2V_SIZE, \n",
    "                                            window=W2V_WINDOW, \n",
    "                                            min_count=W2V_MIN_COUNT, \n",
    "                                            workers=8)"
   ]
  },
  {
   "cell_type": "code",
   "execution_count": 15,
   "metadata": {},
   "outputs": [
    {
     "name": "stderr",
     "output_type": "stream",
     "text": [
      "2021-06-21 17:57:32,092 : INFO : collecting all words and their counts\n",
      "2021-06-21 17:57:32,092 : INFO : PROGRESS: at sentence #0, processed 0 words, keeping 0 word types\n",
      "2021-06-21 17:57:32,107 : INFO : PROGRESS: at sentence #10000, processed 72565 words, keeping 14005 word types\n",
      "2021-06-21 17:57:32,124 : INFO : PROGRESS: at sentence #20000, processed 144393 words, keeping 21587 word types\n",
      "2021-06-21 17:57:32,140 : INFO : PROGRESS: at sentence #30000, processed 215826 words, keeping 27541 word types\n",
      "2021-06-21 17:57:32,158 : INFO : PROGRESS: at sentence #40000, processed 288271 words, keeping 32764 word types\n",
      "2021-06-21 17:57:32,174 : INFO : PROGRESS: at sentence #50000, processed 359772 words, keeping 37587 word types\n",
      "2021-06-21 17:57:32,191 : INFO : PROGRESS: at sentence #60000, processed 431431 words, keeping 42198 word types\n",
      "2021-06-21 17:57:32,208 : INFO : PROGRESS: at sentence #70000, processed 503103 words, keeping 46458 word types\n",
      "2021-06-21 17:57:32,223 : INFO : PROGRESS: at sentence #80000, processed 575709 words, keeping 50476 word types\n",
      "2021-06-21 17:57:32,238 : INFO : PROGRESS: at sentence #90000, processed 647100 words, keeping 54140 word types\n",
      "2021-06-21 17:57:32,253 : INFO : PROGRESS: at sentence #100000, processed 718681 words, keeping 57777 word types\n",
      "2021-06-21 17:57:32,272 : INFO : PROGRESS: at sentence #110000, processed 790696 words, keeping 61207 word types\n",
      "2021-06-21 17:57:32,288 : INFO : PROGRESS: at sentence #120000, processed 863134 words, keeping 64583 word types\n",
      "2021-06-21 17:57:32,304 : INFO : PROGRESS: at sentence #130000, processed 935111 words, keeping 67865 word types\n",
      "2021-06-21 17:57:32,318 : INFO : PROGRESS: at sentence #140000, processed 1006668 words, keeping 70966 word types\n",
      "2021-06-21 17:57:32,335 : INFO : PROGRESS: at sentence #150000, processed 1078512 words, keeping 74119 word types\n",
      "2021-06-21 17:57:32,352 : INFO : PROGRESS: at sentence #160000, processed 1149914 words, keeping 77187 word types\n",
      "2021-06-21 17:57:32,368 : INFO : PROGRESS: at sentence #170000, processed 1222145 words, keeping 80267 word types\n",
      "2021-06-21 17:57:32,385 : INFO : PROGRESS: at sentence #180000, processed 1294708 words, keeping 83393 word types\n",
      "2021-06-21 17:57:32,402 : INFO : PROGRESS: at sentence #190000, processed 1367608 words, keeping 86329 word types\n",
      "2021-06-21 17:57:32,420 : INFO : PROGRESS: at sentence #200000, processed 1439469 words, keeping 89103 word types\n",
      "2021-06-21 17:57:32,436 : INFO : PROGRESS: at sentence #210000, processed 1512099 words, keeping 91840 word types\n",
      "2021-06-21 17:57:32,453 : INFO : PROGRESS: at sentence #220000, processed 1584149 words, keeping 94636 word types\n",
      "2021-06-21 17:57:32,469 : INFO : PROGRESS: at sentence #230000, processed 1656354 words, keeping 97353 word types\n",
      "2021-06-21 17:57:32,485 : INFO : PROGRESS: at sentence #240000, processed 1728573 words, keeping 99975 word types\n",
      "2021-06-21 17:57:32,501 : INFO : PROGRESS: at sentence #250000, processed 1801102 words, keeping 102594 word types\n",
      "2021-06-21 17:57:32,520 : INFO : PROGRESS: at sentence #260000, processed 1873103 words, keeping 105162 word types\n",
      "2021-06-21 17:57:32,538 : INFO : PROGRESS: at sentence #270000, processed 1945245 words, keeping 107626 word types\n",
      "2021-06-21 17:57:32,555 : INFO : PROGRESS: at sentence #280000, processed 2017163 words, keeping 110141 word types\n",
      "2021-06-21 17:57:32,572 : INFO : PROGRESS: at sentence #290000, processed 2089574 words, keeping 112539 word types\n",
      "2021-06-21 17:57:32,595 : INFO : PROGRESS: at sentence #300000, processed 2160996 words, keeping 114893 word types\n",
      "2021-06-21 17:57:32,615 : INFO : PROGRESS: at sentence #310000, processed 2232913 words, keeping 117298 word types\n",
      "2021-06-21 17:57:32,633 : INFO : PROGRESS: at sentence #320000, processed 2305039 words, keeping 119693 word types\n",
      "2021-06-21 17:57:32,651 : INFO : PROGRESS: at sentence #330000, processed 2377119 words, keeping 122131 word types\n",
      "2021-06-21 17:57:32,668 : INFO : PROGRESS: at sentence #340000, processed 2449370 words, keeping 124416 word types\n",
      "2021-06-21 17:57:32,685 : INFO : PROGRESS: at sentence #350000, processed 2521564 words, keeping 126669 word types\n",
      "2021-06-21 17:57:32,702 : INFO : PROGRESS: at sentence #360000, processed 2593681 words, keeping 128912 word types\n",
      "2021-06-21 17:57:32,719 : INFO : PROGRESS: at sentence #370000, processed 2665692 words, keeping 131135 word types\n",
      "2021-06-21 17:57:32,736 : INFO : PROGRESS: at sentence #380000, processed 2737859 words, keeping 133403 word types\n",
      "2021-06-21 17:57:32,754 : INFO : PROGRESS: at sentence #390000, processed 2809848 words, keeping 135551 word types\n",
      "2021-06-21 17:57:32,770 : INFO : PROGRESS: at sentence #400000, processed 2882438 words, keeping 137742 word types\n",
      "2021-06-21 17:57:32,788 : INFO : PROGRESS: at sentence #410000, processed 2954075 words, keeping 139909 word types\n",
      "2021-06-21 17:57:32,805 : INFO : PROGRESS: at sentence #420000, processed 3026247 words, keeping 142144 word types\n",
      "2021-06-21 17:57:32,823 : INFO : PROGRESS: at sentence #430000, processed 3098659 words, keeping 144364 word types\n",
      "2021-06-21 17:57:32,841 : INFO : PROGRESS: at sentence #440000, processed 3170663 words, keeping 146439 word types\n",
      "2021-06-21 17:57:32,859 : INFO : PROGRESS: at sentence #450000, processed 3243344 words, keeping 148526 word types\n",
      "2021-06-21 17:57:32,875 : INFO : PROGRESS: at sentence #460000, processed 3315466 words, keeping 150610 word types\n",
      "2021-06-21 17:57:32,891 : INFO : PROGRESS: at sentence #470000, processed 3388295 words, keeping 152737 word types\n",
      "2021-06-21 17:57:32,908 : INFO : PROGRESS: at sentence #480000, processed 3460120 words, keeping 154757 word types\n",
      "2021-06-21 17:57:32,923 : INFO : PROGRESS: at sentence #490000, processed 3531883 words, keeping 156825 word types\n",
      "2021-06-21 17:57:32,939 : INFO : PROGRESS: at sentence #500000, processed 3604217 words, keeping 158859 word types\n",
      "2021-06-21 17:57:32,956 : INFO : PROGRESS: at sentence #510000, processed 3676427 words, keeping 160852 word types\n",
      "2021-06-21 17:57:32,972 : INFO : PROGRESS: at sentence #520000, processed 3749045 words, keeping 162863 word types\n",
      "2021-06-21 17:57:32,988 : INFO : PROGRESS: at sentence #530000, processed 3821622 words, keeping 164929 word types\n",
      "2021-06-21 17:57:33,005 : INFO : PROGRESS: at sentence #540000, processed 3893627 words, keeping 166840 word types\n",
      "2021-06-21 17:57:33,021 : INFO : PROGRESS: at sentence #550000, processed 3965477 words, keeping 168799 word types\n",
      "2021-06-21 17:57:33,037 : INFO : PROGRESS: at sentence #560000, processed 4038050 words, keeping 170802 word types\n",
      "2021-06-21 17:57:33,054 : INFO : PROGRESS: at sentence #570000, processed 4110296 words, keeping 172760 word types\n",
      "2021-06-21 17:57:33,071 : INFO : PROGRESS: at sentence #580000, processed 4182385 words, keeping 174635 word types\n",
      "2021-06-21 17:57:33,091 : INFO : PROGRESS: at sentence #590000, processed 4254632 words, keeping 176470 word types\n",
      "2021-06-21 17:57:33,109 : INFO : PROGRESS: at sentence #600000, processed 4326859 words, keeping 178350 word types\n",
      "2021-06-21 17:57:33,127 : INFO : PROGRESS: at sentence #610000, processed 4399183 words, keeping 180290 word types\n",
      "2021-06-21 17:57:33,146 : INFO : PROGRESS: at sentence #620000, processed 4471343 words, keeping 182129 word types\n",
      "2021-06-21 17:57:33,164 : INFO : PROGRESS: at sentence #630000, processed 4543286 words, keeping 184005 word types\n",
      "2021-06-21 17:57:33,182 : INFO : PROGRESS: at sentence #640000, processed 4615780 words, keeping 185835 word types\n",
      "2021-06-21 17:57:33,199 : INFO : PROGRESS: at sentence #650000, processed 4688481 words, keeping 187705 word types\n",
      "2021-06-21 17:57:33,217 : INFO : PROGRESS: at sentence #660000, processed 4760481 words, keeping 189439 word types\n",
      "2021-06-21 17:57:33,236 : INFO : PROGRESS: at sentence #670000, processed 4833024 words, keeping 191232 word types\n",
      "2021-06-21 17:57:33,254 : INFO : PROGRESS: at sentence #680000, processed 4904516 words, keeping 193177 word types\n",
      "2021-06-21 17:57:33,271 : INFO : PROGRESS: at sentence #690000, processed 4976968 words, keeping 194960 word types\n",
      "2021-06-21 17:57:33,288 : INFO : PROGRESS: at sentence #700000, processed 5049412 words, keeping 196725 word types\n",
      "2021-06-21 17:57:33,304 : INFO : PROGRESS: at sentence #710000, processed 5121976 words, keeping 198516 word types\n"
     ]
    },
    {
     "name": "stderr",
     "output_type": "stream",
     "text": [
      "2021-06-21 17:57:33,319 : INFO : PROGRESS: at sentence #720000, processed 5193881 words, keeping 200325 word types\n",
      "2021-06-21 17:57:33,336 : INFO : PROGRESS: at sentence #730000, processed 5265467 words, keeping 202133 word types\n",
      "2021-06-21 17:57:33,352 : INFO : PROGRESS: at sentence #740000, processed 5337518 words, keeping 203818 word types\n",
      "2021-06-21 17:57:33,368 : INFO : PROGRESS: at sentence #750000, processed 5409321 words, keeping 205535 word types\n",
      "2021-06-21 17:57:33,383 : INFO : PROGRESS: at sentence #760000, processed 5481512 words, keeping 207282 word types\n",
      "2021-06-21 17:57:33,399 : INFO : PROGRESS: at sentence #770000, processed 5554093 words, keeping 209076 word types\n",
      "2021-06-21 17:57:33,414 : INFO : PROGRESS: at sentence #780000, processed 5625382 words, keeping 210805 word types\n",
      "2021-06-21 17:57:33,431 : INFO : PROGRESS: at sentence #790000, processed 5698066 words, keeping 212618 word types\n",
      "2021-06-21 17:57:33,448 : INFO : PROGRESS: at sentence #800000, processed 5770880 words, keeping 214374 word types\n",
      "2021-06-21 17:57:33,467 : INFO : PROGRESS: at sentence #810000, processed 5843418 words, keeping 216009 word types\n",
      "2021-06-21 17:57:33,485 : INFO : PROGRESS: at sentence #820000, processed 5915628 words, keeping 217804 word types\n",
      "2021-06-21 17:57:33,503 : INFO : PROGRESS: at sentence #830000, processed 5987499 words, keeping 219585 word types\n",
      "2021-06-21 17:57:33,522 : INFO : PROGRESS: at sentence #840000, processed 6058973 words, keeping 221344 word types\n",
      "2021-06-21 17:57:33,539 : INFO : PROGRESS: at sentence #850000, processed 6131125 words, keeping 223002 word types\n",
      "2021-06-21 17:57:33,557 : INFO : PROGRESS: at sentence #860000, processed 6202951 words, keeping 224643 word types\n",
      "2021-06-21 17:57:33,575 : INFO : PROGRESS: at sentence #870000, processed 6275461 words, keeping 226362 word types\n",
      "2021-06-21 17:57:33,592 : INFO : PROGRESS: at sentence #880000, processed 6347661 words, keeping 227986 word types\n",
      "2021-06-21 17:57:33,610 : INFO : PROGRESS: at sentence #890000, processed 6419806 words, keeping 229634 word types\n",
      "2021-06-21 17:57:33,628 : INFO : PROGRESS: at sentence #900000, processed 6491644 words, keeping 231389 word types\n",
      "2021-06-21 17:57:33,647 : INFO : PROGRESS: at sentence #910000, processed 6564022 words, keeping 233050 word types\n",
      "2021-06-21 17:57:33,665 : INFO : PROGRESS: at sentence #920000, processed 6636228 words, keeping 234686 word types\n",
      "2021-06-21 17:57:33,682 : INFO : PROGRESS: at sentence #930000, processed 6708573 words, keeping 236393 word types\n",
      "2021-06-21 17:57:33,701 : INFO : PROGRESS: at sentence #940000, processed 6779956 words, keeping 238052 word types\n",
      "2021-06-21 17:57:33,719 : INFO : PROGRESS: at sentence #950000, processed 6852599 words, keeping 239716 word types\n",
      "2021-06-21 17:57:33,736 : INFO : PROGRESS: at sentence #960000, processed 6924717 words, keeping 241354 word types\n",
      "2021-06-21 17:57:33,754 : INFO : PROGRESS: at sentence #970000, processed 6996992 words, keeping 242980 word types\n",
      "2021-06-21 17:57:33,770 : INFO : PROGRESS: at sentence #980000, processed 7068402 words, keeping 244646 word types\n",
      "2021-06-21 17:57:33,786 : INFO : PROGRESS: at sentence #990000, processed 7140346 words, keeping 246186 word types\n",
      "2021-06-21 17:57:33,803 : INFO : PROGRESS: at sentence #1000000, processed 7211757 words, keeping 247726 word types\n",
      "2021-06-21 17:57:33,819 : INFO : PROGRESS: at sentence #1010000, processed 7283267 words, keeping 249288 word types\n",
      "2021-06-21 17:57:33,835 : INFO : PROGRESS: at sentence #1020000, processed 7355299 words, keeping 250860 word types\n",
      "2021-06-21 17:57:33,850 : INFO : PROGRESS: at sentence #1030000, processed 7426918 words, keeping 252366 word types\n",
      "2021-06-21 17:57:33,867 : INFO : PROGRESS: at sentence #1040000, processed 7498815 words, keeping 253930 word types\n",
      "2021-06-21 17:57:33,882 : INFO : PROGRESS: at sentence #1050000, processed 7570499 words, keeping 255471 word types\n",
      "2021-06-21 17:57:33,899 : INFO : PROGRESS: at sentence #1060000, processed 7643251 words, keeping 257035 word types\n",
      "2021-06-21 17:57:33,917 : INFO : PROGRESS: at sentence #1070000, processed 7714721 words, keeping 258509 word types\n",
      "2021-06-21 17:57:33,934 : INFO : PROGRESS: at sentence #1080000, processed 7787371 words, keeping 260071 word types\n",
      "2021-06-21 17:57:33,953 : INFO : PROGRESS: at sentence #1090000, processed 7859336 words, keeping 261683 word types\n",
      "2021-06-21 17:57:33,970 : INFO : PROGRESS: at sentence #1100000, processed 7932029 words, keeping 263278 word types\n",
      "2021-06-21 17:57:33,989 : INFO : PROGRESS: at sentence #1110000, processed 8004146 words, keeping 264800 word types\n",
      "2021-06-21 17:57:34,008 : INFO : PROGRESS: at sentence #1120000, processed 8075880 words, keeping 266309 word types\n",
      "2021-06-21 17:57:34,026 : INFO : PROGRESS: at sentence #1130000, processed 8148163 words, keeping 267826 word types\n",
      "2021-06-21 17:57:34,045 : INFO : PROGRESS: at sentence #1140000, processed 8220487 words, keeping 269391 word types\n",
      "2021-06-21 17:57:34,063 : INFO : PROGRESS: at sentence #1150000, processed 8292498 words, keeping 270894 word types\n",
      "2021-06-21 17:57:34,080 : INFO : PROGRESS: at sentence #1160000, processed 8363838 words, keeping 272400 word types\n",
      "2021-06-21 17:57:34,097 : INFO : PROGRESS: at sentence #1170000, processed 8435510 words, keeping 273970 word types\n",
      "2021-06-21 17:57:34,113 : INFO : PROGRESS: at sentence #1180000, processed 8507795 words, keeping 275521 word types\n",
      "2021-06-21 17:57:34,129 : INFO : PROGRESS: at sentence #1190000, processed 8579080 words, keeping 277007 word types\n",
      "2021-06-21 17:57:34,147 : INFO : PROGRESS: at sentence #1200000, processed 8650606 words, keeping 278457 word types\n",
      "2021-06-21 17:57:34,165 : INFO : PROGRESS: at sentence #1210000, processed 8721893 words, keeping 279959 word types\n",
      "2021-06-21 17:57:34,183 : INFO : PROGRESS: at sentence #1220000, processed 8793795 words, keeping 281427 word types\n",
      "2021-06-21 17:57:34,199 : INFO : PROGRESS: at sentence #1230000, processed 8865726 words, keeping 282981 word types\n",
      "2021-06-21 17:57:34,214 : INFO : PROGRESS: at sentence #1240000, processed 8938173 words, keeping 284542 word types\n",
      "2021-06-21 17:57:34,230 : INFO : PROGRESS: at sentence #1250000, processed 9010842 words, keeping 286064 word types\n",
      "2021-06-21 17:57:34,246 : INFO : PROGRESS: at sentence #1260000, processed 9083261 words, keeping 287521 word types\n",
      "2021-06-21 17:57:34,262 : INFO : PROGRESS: at sentence #1270000, processed 9155616 words, keeping 288987 word types\n",
      "2021-06-21 17:57:34,278 : INFO : collected 290418 word types from a corpus of 9227204 raw words and 1280000 sentences\n",
      "2021-06-21 17:57:34,278 : INFO : Creating a fresh vocabulary\n",
      "2021-06-21 17:57:34,468 : INFO : Word2Vec lifecycle event {'msg': 'effective_min_count=10 retains 30369 unique words (10.456996467161126%% of original 290418, drops 260049)', 'datetime': '2021-06-21T17:57:34.468389', 'gensim': '4.0.1', 'python': '3.8.8 (default, Apr 13 2021, 15:08:03) [MSC v.1916 64 bit (AMD64)]', 'platform': 'Windows-10-10.0.19041-SP0', 'event': 'prepare_vocab'}\n",
      "2021-06-21 17:57:34,469 : INFO : Word2Vec lifecycle event {'msg': 'effective_min_count=10 leaves 8780739 word corpus (95.16142701516083%% of original 9227204, drops 446465)', 'datetime': '2021-06-21T17:57:34.469387', 'gensim': '4.0.1', 'python': '3.8.8 (default, Apr 13 2021, 15:08:03) [MSC v.1916 64 bit (AMD64)]', 'platform': 'Windows-10-10.0.19041-SP0', 'event': 'prepare_vocab'}\n",
      "2021-06-21 17:57:34,618 : INFO : deleting the raw counts dictionary of 290418 items\n",
      "2021-06-21 17:57:34,623 : INFO : sample=0.001 downsamples 45 most-common words\n",
      "2021-06-21 17:57:34,624 : INFO : Word2Vec lifecycle event {'msg': 'downsampling leaves estimated 8222658.616429881 word corpus (93.6%% of prior 8780739)', 'datetime': '2021-06-21T17:57:34.624392', 'gensim': '4.0.1', 'python': '3.8.8 (default, Apr 13 2021, 15:08:03) [MSC v.1916 64 bit (AMD64)]', 'platform': 'Windows-10-10.0.19041-SP0', 'event': 'prepare_vocab'}\n",
      "2021-06-21 17:57:34,870 : INFO : estimated required memory for 30369 words and 300 dimensions: 88070100 bytes\n",
      "2021-06-21 17:57:34,871 : INFO : resetting layer weights\n",
      "2021-06-21 17:57:34,902 : INFO : Word2Vec lifecycle event {'update': False, 'trim_rule': 'None', 'datetime': '2021-06-21T17:57:34.902388', 'gensim': '4.0.1', 'python': '3.8.8 (default, Apr 13 2021, 15:08:03) [MSC v.1916 64 bit (AMD64)]', 'platform': 'Windows-10-10.0.19041-SP0', 'event': 'build_vocab'}\n"
     ]
    }
   ],
   "source": [
    "w2v_model.build_vocab(documents)"
   ]
  },
  {
   "cell_type": "code",
   "execution_count": 16,
   "metadata": {},
   "outputs": [
    {
     "name": "stdout",
     "output_type": "stream",
     "text": [
      "Vocab size 30369\n"
     ]
    }
   ],
   "source": [
    "# words = w2v_model.wv.vocab.keys()\n",
    "words = w2v_model.wv.key_to_index\n",
    "vocab_size = len(words)\n",
    "print(\"Vocab size\", vocab_size)"
   ]
  },
  {
   "cell_type": "code",
   "execution_count": 17,
   "metadata": {
    "scrolled": true
   },
   "outputs": [
    {
     "name": "stderr",
     "output_type": "stream",
     "text": [
      "2021-06-21 17:57:34,938 : INFO : Word2Vec lifecycle event {'msg': 'training model with 8 workers on 30369 vocabulary and 300 features, using sg=0 hs=0 sample=0.001 negative=5 window=7', 'datetime': '2021-06-21T17:57:34.938005', 'gensim': '4.0.1', 'python': '3.8.8 (default, Apr 13 2021, 15:08:03) [MSC v.1916 64 bit (AMD64)]', 'platform': 'Windows-10-10.0.19041-SP0', 'event': 'train'}\n",
      "2021-06-21 17:57:35,954 : INFO : EPOCH 1 - PROGRESS: at 17.68% examples, 1451131 words/s, in_qsize 15, out_qsize 0\n",
      "2021-06-21 17:57:36,960 : INFO : EPOCH 1 - PROGRESS: at 36.08% examples, 1478350 words/s, in_qsize 15, out_qsize 0\n",
      "2021-06-21 17:57:37,964 : INFO : EPOCH 1 - PROGRESS: at 54.46% examples, 1488208 words/s, in_qsize 14, out_qsize 1\n",
      "2021-06-21 17:57:38,965 : INFO : EPOCH 1 - PROGRESS: at 70.70% examples, 1449732 words/s, in_qsize 15, out_qsize 0\n",
      "2021-06-21 17:57:39,966 : INFO : EPOCH 1 - PROGRESS: at 87.40% examples, 1433782 words/s, in_qsize 14, out_qsize 1\n",
      "2021-06-21 17:57:40,608 : INFO : worker thread finished; awaiting finish of 7 more threads\n",
      "2021-06-21 17:57:40,610 : INFO : worker thread finished; awaiting finish of 6 more threads\n",
      "2021-06-21 17:57:40,624 : INFO : worker thread finished; awaiting finish of 5 more threads\n",
      "2021-06-21 17:57:40,626 : INFO : worker thread finished; awaiting finish of 4 more threads\n",
      "2021-06-21 17:57:40,629 : INFO : worker thread finished; awaiting finish of 3 more threads\n",
      "2021-06-21 17:57:40,632 : INFO : worker thread finished; awaiting finish of 2 more threads\n",
      "2021-06-21 17:57:40,634 : INFO : worker thread finished; awaiting finish of 1 more threads\n",
      "2021-06-21 17:57:40,638 : INFO : worker thread finished; awaiting finish of 0 more threads\n",
      "2021-06-21 17:57:40,638 : INFO : EPOCH - 1 : training on 9227204 raw words (8221889 effective words) took 5.7s, 1446190 effective words/s\n",
      "2021-06-21 17:57:41,666 : INFO : EPOCH 2 - PROGRESS: at 17.68% examples, 1432621 words/s, in_qsize 15, out_qsize 0\n",
      "2021-06-21 17:57:42,668 : INFO : EPOCH 2 - PROGRESS: at 35.21% examples, 1436872 words/s, in_qsize 15, out_qsize 0\n",
      "2021-06-21 17:57:43,669 : INFO : EPOCH 2 - PROGRESS: at 53.38% examples, 1456582 words/s, in_qsize 16, out_qsize 0\n",
      "2021-06-21 17:57:44,676 : INFO : EPOCH 2 - PROGRESS: at 71.24% examples, 1457341 words/s, in_qsize 15, out_qsize 0\n",
      "2021-06-21 17:57:45,689 : INFO : EPOCH 2 - PROGRESS: at 89.56% examples, 1462886 words/s, in_qsize 15, out_qsize 0\n",
      "2021-06-21 17:57:46,257 : INFO : worker thread finished; awaiting finish of 7 more threads\n",
      "2021-06-21 17:57:46,259 : INFO : worker thread finished; awaiting finish of 6 more threads\n",
      "2021-06-21 17:57:46,268 : INFO : worker thread finished; awaiting finish of 5 more threads\n",
      "2021-06-21 17:57:46,272 : INFO : worker thread finished; awaiting finish of 4 more threads\n",
      "2021-06-21 17:57:46,277 : INFO : worker thread finished; awaiting finish of 3 more threads\n",
      "2021-06-21 17:57:46,282 : INFO : worker thread finished; awaiting finish of 2 more threads\n",
      "2021-06-21 17:57:46,285 : INFO : worker thread finished; awaiting finish of 1 more threads\n",
      "2021-06-21 17:57:46,288 : INFO : worker thread finished; awaiting finish of 0 more threads\n",
      "2021-06-21 17:57:46,289 : INFO : EPOCH - 2 : training on 9227204 raw words (8223075 effective words) took 5.6s, 1459047 effective words/s\n",
      "2021-06-21 17:57:47,322 : INFO : EPOCH 3 - PROGRESS: at 18.00% examples, 1465221 words/s, in_qsize 15, out_qsize 0\n",
      "2021-06-21 17:57:48,324 : INFO : EPOCH 3 - PROGRESS: at 36.72% examples, 1501517 words/s, in_qsize 15, out_qsize 0\n",
      "2021-06-21 17:57:49,333 : INFO : EPOCH 3 - PROGRESS: at 56.29% examples, 1534057 words/s, in_qsize 15, out_qsize 0\n",
      "2021-06-21 17:57:50,334 : INFO : EPOCH 3 - PROGRESS: at 75.78% examples, 1550548 words/s, in_qsize 15, out_qsize 0\n",
      "2021-06-21 17:57:51,344 : INFO : EPOCH 3 - PROGRESS: at 94.47% examples, 1543892 words/s, in_qsize 15, out_qsize 0\n",
      "2021-06-21 17:57:51,600 : INFO : worker thread finished; awaiting finish of 7 more threads\n",
      "2021-06-21 17:57:51,604 : INFO : worker thread finished; awaiting finish of 6 more threads\n",
      "2021-06-21 17:57:51,607 : INFO : worker thread finished; awaiting finish of 5 more threads\n",
      "2021-06-21 17:57:51,609 : INFO : worker thread finished; awaiting finish of 4 more threads\n",
      "2021-06-21 17:57:51,610 : INFO : worker thread finished; awaiting finish of 3 more threads\n",
      "2021-06-21 17:57:51,622 : INFO : worker thread finished; awaiting finish of 2 more threads\n",
      "2021-06-21 17:57:51,628 : INFO : worker thread finished; awaiting finish of 1 more threads\n",
      "2021-06-21 17:57:51,629 : INFO : worker thread finished; awaiting finish of 0 more threads\n",
      "2021-06-21 17:57:51,630 : INFO : EPOCH - 3 : training on 9227204 raw words (8222117 effective words) took 5.3s, 1546445 effective words/s\n",
      "2021-06-21 17:57:52,647 : INFO : EPOCH 4 - PROGRESS: at 18.00% examples, 1476029 words/s, in_qsize 15, out_qsize 0\n",
      "2021-06-21 17:57:53,652 : INFO : EPOCH 4 - PROGRESS: at 36.29% examples, 1487473 words/s, in_qsize 15, out_qsize 0\n",
      "2021-06-21 17:57:54,656 : INFO : EPOCH 4 - PROGRESS: at 54.78% examples, 1497891 words/s, in_qsize 15, out_qsize 0\n",
      "2021-06-21 17:57:55,657 : INFO : EPOCH 4 - PROGRESS: at 73.83% examples, 1515029 words/s, in_qsize 15, out_qsize 0\n",
      "2021-06-21 17:57:56,657 : INFO : EPOCH 4 - PROGRESS: at 92.39% examples, 1516550 words/s, in_qsize 15, out_qsize 0\n",
      "2021-06-21 17:57:57,036 : INFO : worker thread finished; awaiting finish of 7 more threads\n",
      "2021-06-21 17:57:57,040 : INFO : worker thread finished; awaiting finish of 6 more threads\n",
      "2021-06-21 17:57:57,047 : INFO : worker thread finished; awaiting finish of 5 more threads\n",
      "2021-06-21 17:57:57,049 : INFO : worker thread finished; awaiting finish of 4 more threads\n",
      "2021-06-21 17:57:57,051 : INFO : worker thread finished; awaiting finish of 3 more threads\n",
      "2021-06-21 17:57:57,059 : INFO : worker thread finished; awaiting finish of 2 more threads\n",
      "2021-06-21 17:57:57,061 : INFO : worker thread finished; awaiting finish of 1 more threads\n",
      "2021-06-21 17:57:57,065 : INFO : worker thread finished; awaiting finish of 0 more threads\n",
      "2021-06-21 17:57:57,066 : INFO : EPOCH - 4 : training on 9227204 raw words (8222998 effective words) took 5.4s, 1517263 effective words/s\n",
      "2021-06-21 17:57:58,088 : INFO : EPOCH 5 - PROGRESS: at 17.68% examples, 1444382 words/s, in_qsize 15, out_qsize 0\n",
      "2021-06-21 17:57:59,091 : INFO : EPOCH 5 - PROGRESS: at 36.83% examples, 1507842 words/s, in_qsize 15, out_qsize 0\n",
      "2021-06-21 17:58:00,095 : INFO : EPOCH 5 - PROGRESS: at 55.32% examples, 1511111 words/s, in_qsize 15, out_qsize 0\n",
      "2021-06-21 17:58:01,096 : INFO : EPOCH 5 - PROGRESS: at 74.27% examples, 1522722 words/s, in_qsize 15, out_qsize 0\n",
      "2021-06-21 17:58:02,100 : INFO : EPOCH 5 - PROGRESS: at 92.39% examples, 1514336 words/s, in_qsize 16, out_qsize 1\n",
      "2021-06-21 17:58:02,468 : INFO : worker thread finished; awaiting finish of 7 more threads\n",
      "2021-06-21 17:58:02,471 : INFO : worker thread finished; awaiting finish of 6 more threads\n",
      "2021-06-21 17:58:02,479 : INFO : worker thread finished; awaiting finish of 5 more threads\n",
      "2021-06-21 17:58:02,480 : INFO : worker thread finished; awaiting finish of 4 more threads\n",
      "2021-06-21 17:58:02,482 : INFO : worker thread finished; awaiting finish of 3 more threads\n",
      "2021-06-21 17:58:02,490 : INFO : worker thread finished; awaiting finish of 2 more threads\n",
      "2021-06-21 17:58:02,493 : INFO : worker thread finished; awaiting finish of 1 more threads\n",
      "2021-06-21 17:58:02,498 : INFO : worker thread finished; awaiting finish of 0 more threads\n",
      "2021-06-21 17:58:02,499 : INFO : EPOCH - 5 : training on 9227204 raw words (8223201 effective words) took 5.4s, 1518070 effective words/s\n",
      "2021-06-21 17:58:03,522 : INFO : EPOCH 6 - PROGRESS: at 18.32% examples, 1500018 words/s, in_qsize 15, out_qsize 0\n",
      "2021-06-21 17:58:04,538 : INFO : EPOCH 6 - PROGRESS: at 38.14% examples, 1553551 words/s, in_qsize 15, out_qsize 0\n",
      "2021-06-21 17:58:05,540 : INFO : EPOCH 6 - PROGRESS: at 57.92% examples, 1578259 words/s, in_qsize 15, out_qsize 0\n",
      "2021-06-21 17:58:06,545 : INFO : EPOCH 6 - PROGRESS: at 76.77% examples, 1568899 words/s, in_qsize 16, out_qsize 0\n",
      "2021-06-21 17:58:07,552 : INFO : EPOCH 6 - PROGRESS: at 96.64% examples, 1578918 words/s, in_qsize 15, out_qsize 0\n",
      "2021-06-21 17:58:07,693 : INFO : worker thread finished; awaiting finish of 7 more threads\n"
     ]
    },
    {
     "name": "stderr",
     "output_type": "stream",
     "text": [
      "2021-06-21 17:58:07,695 : INFO : worker thread finished; awaiting finish of 6 more threads\n",
      "2021-06-21 17:58:07,696 : INFO : worker thread finished; awaiting finish of 5 more threads\n",
      "2021-06-21 17:58:07,700 : INFO : worker thread finished; awaiting finish of 4 more threads\n",
      "2021-06-21 17:58:07,702 : INFO : worker thread finished; awaiting finish of 3 more threads\n",
      "2021-06-21 17:58:07,709 : INFO : worker thread finished; awaiting finish of 2 more threads\n",
      "2021-06-21 17:58:07,714 : INFO : worker thread finished; awaiting finish of 1 more threads\n",
      "2021-06-21 17:58:07,719 : INFO : worker thread finished; awaiting finish of 0 more threads\n",
      "2021-06-21 17:58:07,719 : INFO : EPOCH - 6 : training on 9227204 raw words (8222524 effective words) took 5.2s, 1581369 effective words/s\n",
      "2021-06-21 17:58:08,748 : INFO : EPOCH 7 - PROGRESS: at 17.78% examples, 1452958 words/s, in_qsize 14, out_qsize 1\n",
      "2021-06-21 17:58:09,753 : INFO : EPOCH 7 - PROGRESS: at 36.61% examples, 1497935 words/s, in_qsize 15, out_qsize 0\n",
      "2021-06-21 17:58:10,758 : INFO : EPOCH 7 - PROGRESS: at 54.89% examples, 1498492 words/s, in_qsize 15, out_qsize 0\n",
      "2021-06-21 17:58:11,760 : INFO : EPOCH 7 - PROGRESS: at 73.30% examples, 1501666 words/s, in_qsize 15, out_qsize 0\n",
      "2021-06-21 17:58:12,769 : INFO : EPOCH 7 - PROGRESS: at 92.07% examples, 1506594 words/s, in_qsize 15, out_qsize 0\n",
      "2021-06-21 17:58:13,173 : INFO : worker thread finished; awaiting finish of 7 more threads\n",
      "2021-06-21 17:58:13,176 : INFO : worker thread finished; awaiting finish of 6 more threads\n",
      "2021-06-21 17:58:13,178 : INFO : worker thread finished; awaiting finish of 5 more threads\n",
      "2021-06-21 17:58:13,181 : INFO : worker thread finished; awaiting finish of 4 more threads\n",
      "2021-06-21 17:58:13,185 : INFO : worker thread finished; awaiting finish of 3 more threads\n",
      "2021-06-21 17:58:13,187 : INFO : worker thread finished; awaiting finish of 2 more threads\n",
      "2021-06-21 17:58:13,189 : INFO : worker thread finished; awaiting finish of 1 more threads\n",
      "2021-06-21 17:58:13,200 : INFO : worker thread finished; awaiting finish of 0 more threads\n",
      "2021-06-21 17:58:13,201 : INFO : EPOCH - 7 : training on 9227204 raw words (8222767 effective words) took 5.5s, 1506816 effective words/s\n",
      "2021-06-21 17:58:14,223 : INFO : EPOCH 8 - PROGRESS: at 15.41% examples, 1261862 words/s, in_qsize 15, out_qsize 0\n",
      "2021-06-21 17:58:15,223 : INFO : EPOCH 8 - PROGRESS: at 33.38% examples, 1369432 words/s, in_qsize 16, out_qsize 0\n",
      "2021-06-21 17:58:16,223 : INFO : EPOCH 8 - PROGRESS: at 50.99% examples, 1396861 words/s, in_qsize 13, out_qsize 2\n",
      "2021-06-21 17:58:17,231 : INFO : EPOCH 8 - PROGRESS: at 70.59% examples, 1447984 words/s, in_qsize 15, out_qsize 0\n",
      "2021-06-21 17:58:18,239 : INFO : EPOCH 8 - PROGRESS: at 86.85% examples, 1423478 words/s, in_qsize 15, out_qsize 0\n",
      "2021-06-21 17:58:18,938 : INFO : worker thread finished; awaiting finish of 7 more threads\n",
      "2021-06-21 17:58:18,940 : INFO : worker thread finished; awaiting finish of 6 more threads\n",
      "2021-06-21 17:58:18,941 : INFO : worker thread finished; awaiting finish of 5 more threads\n",
      "2021-06-21 17:58:18,954 : INFO : worker thread finished; awaiting finish of 4 more threads\n",
      "2021-06-21 17:58:18,957 : INFO : worker thread finished; awaiting finish of 3 more threads\n",
      "2021-06-21 17:58:18,962 : INFO : worker thread finished; awaiting finish of 2 more threads\n",
      "2021-06-21 17:58:18,962 : INFO : worker thread finished; awaiting finish of 1 more threads\n",
      "2021-06-21 17:58:18,965 : INFO : worker thread finished; awaiting finish of 0 more threads\n",
      "2021-06-21 17:58:18,966 : INFO : EPOCH - 8 : training on 9227204 raw words (8222959 effective words) took 5.7s, 1430998 effective words/s\n",
      "2021-06-21 17:58:19,984 : INFO : EPOCH 9 - PROGRESS: at 18.43% examples, 1512570 words/s, in_qsize 15, out_qsize 0\n",
      "2021-06-21 17:58:20,986 : INFO : EPOCH 9 - PROGRESS: at 37.92% examples, 1557015 words/s, in_qsize 15, out_qsize 0\n",
      "2021-06-21 17:58:21,993 : INFO : EPOCH 9 - PROGRESS: at 58.14% examples, 1589591 words/s, in_qsize 15, out_qsize 0\n",
      "2021-06-21 17:58:23,004 : INFO : EPOCH 9 - PROGRESS: at 77.31% examples, 1581731 words/s, in_qsize 15, out_qsize 0\n",
      "2021-06-21 17:58:24,012 : INFO : EPOCH 9 - PROGRESS: at 95.77% examples, 1565987 words/s, in_qsize 15, out_qsize 0\n",
      "2021-06-21 17:58:24,192 : INFO : worker thread finished; awaiting finish of 7 more threads\n",
      "2021-06-21 17:58:24,199 : INFO : worker thread finished; awaiting finish of 6 more threads\n",
      "2021-06-21 17:58:24,201 : INFO : worker thread finished; awaiting finish of 5 more threads\n",
      "2021-06-21 17:58:24,202 : INFO : worker thread finished; awaiting finish of 4 more threads\n",
      "2021-06-21 17:58:24,206 : INFO : worker thread finished; awaiting finish of 3 more threads\n",
      "2021-06-21 17:58:24,215 : INFO : worker thread finished; awaiting finish of 2 more threads\n",
      "2021-06-21 17:58:24,216 : INFO : worker thread finished; awaiting finish of 1 more threads\n",
      "2021-06-21 17:58:24,217 : INFO : worker thread finished; awaiting finish of 0 more threads\n",
      "2021-06-21 17:58:24,218 : INFO : EPOCH - 9 : training on 9227204 raw words (8222634 effective words) took 5.2s, 1570774 effective words/s\n",
      "2021-06-21 17:58:25,240 : INFO : EPOCH 10 - PROGRESS: at 17.46% examples, 1431635 words/s, in_qsize 15, out_qsize 0\n",
      "2021-06-21 17:58:26,240 : INFO : EPOCH 10 - PROGRESS: at 36.61% examples, 1504060 words/s, in_qsize 15, out_qsize 0\n",
      "2021-06-21 17:58:27,244 : INFO : EPOCH 10 - PROGRESS: at 55.42% examples, 1517702 words/s, in_qsize 15, out_qsize 0\n",
      "2021-06-21 17:58:28,254 : INFO : EPOCH 10 - PROGRESS: at 73.62% examples, 1508934 words/s, in_qsize 16, out_qsize 1\n",
      "2021-06-21 17:58:29,272 : INFO : EPOCH 10 - PROGRESS: at 92.28% examples, 1507958 words/s, in_qsize 15, out_qsize 0\n",
      "2021-06-21 17:58:29,601 : INFO : worker thread finished; awaiting finish of 7 more threads\n",
      "2021-06-21 17:58:29,604 : INFO : worker thread finished; awaiting finish of 6 more threads\n",
      "2021-06-21 17:58:29,605 : INFO : worker thread finished; awaiting finish of 5 more threads\n",
      "2021-06-21 17:58:29,607 : INFO : worker thread finished; awaiting finish of 4 more threads\n",
      "2021-06-21 17:58:29,611 : INFO : worker thread finished; awaiting finish of 3 more threads\n",
      "2021-06-21 17:58:29,618 : INFO : worker thread finished; awaiting finish of 2 more threads\n",
      "2021-06-21 17:58:29,622 : INFO : worker thread finished; awaiting finish of 1 more threads\n",
      "2021-06-21 17:58:29,633 : INFO : worker thread finished; awaiting finish of 0 more threads\n",
      "2021-06-21 17:58:29,634 : INFO : EPOCH - 10 : training on 9227204 raw words (8222981 effective words) took 5.4s, 1524054 effective words/s\n",
      "2021-06-21 17:58:30,661 : INFO : EPOCH 11 - PROGRESS: at 17.89% examples, 1459813 words/s, in_qsize 15, out_qsize 0\n",
      "2021-06-21 17:58:31,661 : INFO : EPOCH 11 - PROGRESS: at 36.72% examples, 1504635 words/s, in_qsize 15, out_qsize 0\n",
      "2021-06-21 17:58:32,665 : INFO : EPOCH 11 - PROGRESS: at 55.86% examples, 1527032 words/s, in_qsize 15, out_qsize 0\n",
      "2021-06-21 17:58:33,683 : INFO : EPOCH 11 - PROGRESS: at 74.16% examples, 1514655 words/s, in_qsize 15, out_qsize 0\n",
      "2021-06-21 17:58:34,685 : INFO : EPOCH 11 - PROGRESS: at 92.28% examples, 1508599 words/s, in_qsize 16, out_qsize 1\n",
      "2021-06-21 17:58:35,038 : INFO : worker thread finished; awaiting finish of 7 more threads\n",
      "2021-06-21 17:58:35,047 : INFO : worker thread finished; awaiting finish of 6 more threads\n",
      "2021-06-21 17:58:35,053 : INFO : worker thread finished; awaiting finish of 5 more threads\n",
      "2021-06-21 17:58:35,057 : INFO : worker thread finished; awaiting finish of 4 more threads\n",
      "2021-06-21 17:58:35,061 : INFO : worker thread finished; awaiting finish of 3 more threads\n",
      "2021-06-21 17:58:35,063 : INFO : worker thread finished; awaiting finish of 2 more threads\n",
      "2021-06-21 17:58:35,072 : INFO : worker thread finished; awaiting finish of 1 more threads\n",
      "2021-06-21 17:58:35,096 : INFO : worker thread finished; awaiting finish of 0 more threads\n",
      "2021-06-21 17:58:35,097 : INFO : EPOCH - 11 : training on 9227204 raw words (8222199 effective words) took 5.4s, 1510758 effective words/s\n",
      "2021-06-21 17:58:36,111 : INFO : EPOCH 12 - PROGRESS: at 18.22% examples, 1489797 words/s, in_qsize 15, out_qsize 0\n",
      "2021-06-21 17:58:37,116 : INFO : EPOCH 12 - PROGRESS: at 37.92% examples, 1551156 words/s, in_qsize 16, out_qsize 0\n"
     ]
    },
    {
     "name": "stderr",
     "output_type": "stream",
     "text": [
      "2021-06-21 17:58:38,124 : INFO : EPOCH 12 - PROGRESS: at 56.18% examples, 1531932 words/s, in_qsize 15, out_qsize 0\n",
      "2021-06-21 17:58:39,126 : INFO : EPOCH 12 - PROGRESS: at 75.14% examples, 1538115 words/s, in_qsize 15, out_qsize 0\n",
      "2021-06-21 17:58:40,139 : INFO : EPOCH 12 - PROGRESS: at 94.47% examples, 1543435 words/s, in_qsize 15, out_qsize 0\n",
      "2021-06-21 17:58:40,381 : INFO : worker thread finished; awaiting finish of 7 more threads\n",
      "2021-06-21 17:58:40,386 : INFO : worker thread finished; awaiting finish of 6 more threads\n",
      "2021-06-21 17:58:40,387 : INFO : worker thread finished; awaiting finish of 5 more threads\n",
      "2021-06-21 17:58:40,389 : INFO : worker thread finished; awaiting finish of 4 more threads\n",
      "2021-06-21 17:58:40,399 : INFO : worker thread finished; awaiting finish of 3 more threads\n",
      "2021-06-21 17:58:40,400 : INFO : worker thread finished; awaiting finish of 2 more threads\n",
      "2021-06-21 17:58:40,406 : INFO : worker thread finished; awaiting finish of 1 more threads\n",
      "2021-06-21 17:58:40,409 : INFO : worker thread finished; awaiting finish of 0 more threads\n",
      "2021-06-21 17:58:40,409 : INFO : EPOCH - 12 : training on 9227204 raw words (8221691 effective words) took 5.3s, 1550319 effective words/s\n",
      "2021-06-21 17:58:41,428 : INFO : EPOCH 13 - PROGRESS: at 18.32% examples, 1497358 words/s, in_qsize 15, out_qsize 0\n",
      "2021-06-21 17:58:42,429 : INFO : EPOCH 13 - PROGRESS: at 37.05% examples, 1519321 words/s, in_qsize 15, out_qsize 0\n",
      "2021-06-21 17:58:43,434 : INFO : EPOCH 13 - PROGRESS: at 55.64% examples, 1521006 words/s, in_qsize 15, out_qsize 0\n",
      "2021-06-21 17:58:44,460 : INFO : EPOCH 13 - PROGRESS: at 74.70% examples, 1523031 words/s, in_qsize 15, out_qsize 0\n",
      "2021-06-21 17:58:45,461 : INFO : EPOCH 13 - PROGRESS: at 93.70% examples, 1529572 words/s, in_qsize 15, out_qsize 0\n",
      "2021-06-21 17:58:45,756 : INFO : worker thread finished; awaiting finish of 7 more threads\n",
      "2021-06-21 17:58:45,758 : INFO : worker thread finished; awaiting finish of 6 more threads\n",
      "2021-06-21 17:58:45,765 : INFO : worker thread finished; awaiting finish of 5 more threads\n",
      "2021-06-21 17:58:45,767 : INFO : worker thread finished; awaiting finish of 4 more threads\n",
      "2021-06-21 17:58:45,769 : INFO : worker thread finished; awaiting finish of 3 more threads\n",
      "2021-06-21 17:58:45,773 : INFO : worker thread finished; awaiting finish of 2 more threads\n",
      "2021-06-21 17:58:45,782 : INFO : worker thread finished; awaiting finish of 1 more threads\n",
      "2021-06-21 17:58:45,784 : INFO : worker thread finished; awaiting finish of 0 more threads\n",
      "2021-06-21 17:58:45,785 : INFO : EPOCH - 13 : training on 9227204 raw words (8221660 effective words) took 5.4s, 1533733 effective words/s\n",
      "2021-06-21 17:58:46,804 : INFO : EPOCH 14 - PROGRESS: at 17.68% examples, 1450976 words/s, in_qsize 15, out_qsize 0\n",
      "2021-06-21 17:58:47,804 : INFO : EPOCH 14 - PROGRESS: at 36.51% examples, 1500377 words/s, in_qsize 16, out_qsize 0\n",
      "2021-06-21 17:58:48,813 : INFO : EPOCH 14 - PROGRESS: at 54.89% examples, 1500655 words/s, in_qsize 15, out_qsize 0\n",
      "2021-06-21 17:58:49,820 : INFO : EPOCH 14 - PROGRESS: at 72.97% examples, 1494953 words/s, in_qsize 16, out_qsize 0\n",
      "2021-06-21 17:58:50,822 : INFO : EPOCH 14 - PROGRESS: at 90.33% examples, 1480387 words/s, in_qsize 15, out_qsize 0\n",
      "2021-06-21 17:58:51,311 : INFO : worker thread finished; awaiting finish of 7 more threads\n",
      "2021-06-21 17:58:51,313 : INFO : worker thread finished; awaiting finish of 6 more threads\n",
      "2021-06-21 17:58:51,317 : INFO : worker thread finished; awaiting finish of 5 more threads\n",
      "2021-06-21 17:58:51,318 : INFO : worker thread finished; awaiting finish of 4 more threads\n",
      "2021-06-21 17:58:51,323 : INFO : worker thread finished; awaiting finish of 3 more threads\n",
      "2021-06-21 17:58:51,336 : INFO : worker thread finished; awaiting finish of 2 more threads\n",
      "2021-06-21 17:58:51,339 : INFO : worker thread finished; awaiting finish of 1 more threads\n",
      "2021-06-21 17:58:51,340 : INFO : worker thread finished; awaiting finish of 0 more threads\n",
      "2021-06-21 17:58:51,341 : INFO : EPOCH - 14 : training on 9227204 raw words (8223082 effective words) took 5.5s, 1485068 effective words/s\n",
      "2021-06-21 17:58:52,371 : INFO : EPOCH 15 - PROGRESS: at 17.57% examples, 1441144 words/s, in_qsize 15, out_qsize 0\n",
      "2021-06-21 17:58:53,376 : INFO : EPOCH 15 - PROGRESS: at 35.65% examples, 1461839 words/s, in_qsize 15, out_qsize 0\n",
      "2021-06-21 17:58:54,380 : INFO : EPOCH 15 - PROGRESS: at 53.48% examples, 1462240 words/s, in_qsize 15, out_qsize 0\n",
      "2021-06-21 17:58:55,383 : INFO : EPOCH 15 - PROGRESS: at 72.10% examples, 1478644 words/s, in_qsize 15, out_qsize 0\n",
      "2021-06-21 17:58:56,387 : INFO : EPOCH 15 - PROGRESS: at 90.32% examples, 1481013 words/s, in_qsize 14, out_qsize 1\n",
      "2021-06-21 17:58:56,832 : INFO : worker thread finished; awaiting finish of 7 more threads\n",
      "2021-06-21 17:58:56,836 : INFO : worker thread finished; awaiting finish of 6 more threads\n",
      "2021-06-21 17:58:56,847 : INFO : worker thread finished; awaiting finish of 5 more threads\n",
      "2021-06-21 17:58:56,849 : INFO : worker thread finished; awaiting finish of 4 more threads\n",
      "2021-06-21 17:58:56,850 : INFO : worker thread finished; awaiting finish of 3 more threads\n",
      "2021-06-21 17:58:56,855 : INFO : worker thread finished; awaiting finish of 2 more threads\n",
      "2021-06-21 17:58:56,858 : INFO : worker thread finished; awaiting finish of 1 more threads\n",
      "2021-06-21 17:58:56,865 : INFO : worker thread finished; awaiting finish of 0 more threads\n",
      "2021-06-21 17:58:56,866 : INFO : EPOCH - 15 : training on 9227204 raw words (8223003 effective words) took 5.5s, 1496355 effective words/s\n",
      "2021-06-21 17:58:57,888 : INFO : EPOCH 16 - PROGRESS: at 18.43% examples, 1511475 words/s, in_qsize 15, out_qsize 0\n",
      "2021-06-21 17:58:58,894 : INFO : EPOCH 16 - PROGRESS: at 37.59% examples, 1540192 words/s, in_qsize 15, out_qsize 0\n",
      "2021-06-21 17:58:59,898 : INFO : EPOCH 16 - PROGRESS: at 56.51% examples, 1544809 words/s, in_qsize 15, out_qsize 0\n",
      "2021-06-21 17:59:00,898 : INFO : EPOCH 16 - PROGRESS: at 75.89% examples, 1556868 words/s, in_qsize 15, out_qsize 0\n",
      "2021-06-21 17:59:01,899 : INFO : EPOCH 16 - PROGRESS: at 95.55% examples, 1567630 words/s, in_qsize 15, out_qsize 0\n",
      "2021-06-21 17:59:02,097 : INFO : worker thread finished; awaiting finish of 7 more threads\n",
      "2021-06-21 17:59:02,101 : INFO : worker thread finished; awaiting finish of 6 more threads\n",
      "2021-06-21 17:59:02,107 : INFO : worker thread finished; awaiting finish of 5 more threads\n",
      "2021-06-21 17:59:02,108 : INFO : worker thread finished; awaiting finish of 4 more threads\n",
      "2021-06-21 17:59:02,118 : INFO : worker thread finished; awaiting finish of 3 more threads\n",
      "2021-06-21 17:59:02,120 : INFO : worker thread finished; awaiting finish of 2 more threads\n",
      "2021-06-21 17:59:02,122 : INFO : worker thread finished; awaiting finish of 1 more threads\n",
      "2021-06-21 17:59:02,123 : INFO : worker thread finished; awaiting finish of 0 more threads\n",
      "2021-06-21 17:59:02,123 : INFO : EPOCH - 16 : training on 9227204 raw words (8223035 effective words) took 5.2s, 1570407 effective words/s\n",
      "2021-06-21 17:59:03,148 : INFO : EPOCH 17 - PROGRESS: at 18.43% examples, 1508231 words/s, in_qsize 15, out_qsize 0\n",
      "2021-06-21 17:59:04,153 : INFO : EPOCH 17 - PROGRESS: at 36.94% examples, 1512600 words/s, in_qsize 15, out_qsize 0\n",
      "2021-06-21 17:59:05,154 : INFO : EPOCH 17 - PROGRESS: at 55.86% examples, 1527702 words/s, in_qsize 15, out_qsize 0\n",
      "2021-06-21 17:59:06,155 : INFO : EPOCH 17 - PROGRESS: at 73.73% examples, 1512590 words/s, in_qsize 15, out_qsize 1\n",
      "2021-06-21 17:59:07,161 : INFO : EPOCH 17 - PROGRESS: at 92.72% examples, 1520020 words/s, in_qsize 15, out_qsize 0\n",
      "2021-06-21 17:59:07,491 : INFO : worker thread finished; awaiting finish of 7 more threads\n",
      "2021-06-21 17:59:07,494 : INFO : worker thread finished; awaiting finish of 6 more threads\n",
      "2021-06-21 17:59:07,495 : INFO : worker thread finished; awaiting finish of 5 more threads\n",
      "2021-06-21 17:59:07,500 : INFO : worker thread finished; awaiting finish of 4 more threads\n",
      "2021-06-21 17:59:07,502 : INFO : worker thread finished; awaiting finish of 3 more threads\n",
      "2021-06-21 17:59:07,505 : INFO : worker thread finished; awaiting finish of 2 more threads\n",
      "2021-06-21 17:59:07,508 : INFO : worker thread finished; awaiting finish of 1 more threads\n"
     ]
    },
    {
     "name": "stderr",
     "output_type": "stream",
     "text": [
      "2021-06-21 17:59:07,514 : INFO : worker thread finished; awaiting finish of 0 more threads\n",
      "2021-06-21 17:59:07,515 : INFO : EPOCH - 17 : training on 9227204 raw words (8222536 effective words) took 5.4s, 1531102 effective words/s\n",
      "2021-06-21 17:59:08,564 : INFO : EPOCH 18 - PROGRESS: at 19.62% examples, 1581091 words/s, in_qsize 16, out_qsize 0\n",
      "2021-06-21 17:59:09,564 : INFO : EPOCH 18 - PROGRESS: at 40.08% examples, 1631983 words/s, in_qsize 16, out_qsize 0\n",
      "2021-06-21 17:59:10,572 : INFO : EPOCH 18 - PROGRESS: at 59.76% examples, 1624068 words/s, in_qsize 15, out_qsize 0\n",
      "2021-06-21 17:59:11,582 : INFO : EPOCH 18 - PROGRESS: at 79.16% examples, 1612715 words/s, in_qsize 15, out_qsize 0\n",
      "2021-06-21 17:59:12,543 : INFO : worker thread finished; awaiting finish of 7 more threads\n",
      "2021-06-21 17:59:12,545 : INFO : worker thread finished; awaiting finish of 6 more threads\n",
      "2021-06-21 17:59:12,548 : INFO : worker thread finished; awaiting finish of 5 more threads\n",
      "2021-06-21 17:59:12,551 : INFO : worker thread finished; awaiting finish of 4 more threads\n",
      "2021-06-21 17:59:12,560 : INFO : worker thread finished; awaiting finish of 3 more threads\n",
      "2021-06-21 17:59:12,563 : INFO : worker thread finished; awaiting finish of 2 more threads\n",
      "2021-06-21 17:59:12,568 : INFO : worker thread finished; awaiting finish of 1 more threads\n",
      "2021-06-21 17:59:12,573 : INFO : worker thread finished; awaiting finish of 0 more threads\n",
      "2021-06-21 17:59:12,574 : INFO : EPOCH - 18 : training on 9227204 raw words (8222148 effective words) took 5.0s, 1634681 effective words/s\n",
      "2021-06-21 17:59:13,590 : INFO : EPOCH 19 - PROGRESS: at 19.30% examples, 1583193 words/s, in_qsize 15, out_qsize 0\n",
      "2021-06-21 17:59:14,593 : INFO : EPOCH 19 - PROGRESS: at 37.81% examples, 1551260 words/s, in_qsize 16, out_qsize 0\n",
      "2021-06-21 17:59:15,593 : INFO : EPOCH 19 - PROGRESS: at 57.06% examples, 1562825 words/s, in_qsize 14, out_qsize 1\n",
      "2021-06-21 17:59:16,607 : INFO : EPOCH 19 - PROGRESS: at 76.00% examples, 1556470 words/s, in_qsize 15, out_qsize 0\n",
      "2021-06-21 17:59:17,622 : INFO : EPOCH 19 - PROGRESS: at 95.55% examples, 1560994 words/s, in_qsize 15, out_qsize 0\n",
      "2021-06-21 17:59:17,803 : INFO : worker thread finished; awaiting finish of 7 more threads\n",
      "2021-06-21 17:59:17,808 : INFO : worker thread finished; awaiting finish of 6 more threads\n",
      "2021-06-21 17:59:17,812 : INFO : worker thread finished; awaiting finish of 5 more threads\n",
      "2021-06-21 17:59:17,814 : INFO : worker thread finished; awaiting finish of 4 more threads\n",
      "2021-06-21 17:59:17,814 : INFO : worker thread finished; awaiting finish of 3 more threads\n",
      "2021-06-21 17:59:17,820 : INFO : worker thread finished; awaiting finish of 2 more threads\n",
      "2021-06-21 17:59:17,824 : INFO : worker thread finished; awaiting finish of 1 more threads\n",
      "2021-06-21 17:59:17,830 : INFO : worker thread finished; awaiting finish of 0 more threads\n",
      "2021-06-21 17:59:17,831 : INFO : EPOCH - 19 : training on 9227204 raw words (8222371 effective words) took 5.2s, 1568740 effective words/s\n",
      "2021-06-21 17:59:18,848 : INFO : EPOCH 20 - PROGRESS: at 19.40% examples, 1585099 words/s, in_qsize 14, out_qsize 1\n",
      "2021-06-21 17:59:19,851 : INFO : EPOCH 20 - PROGRESS: at 39.65% examples, 1623331 words/s, in_qsize 15, out_qsize 0\n",
      "2021-06-21 17:59:20,851 : INFO : EPOCH 20 - PROGRESS: at 59.01% examples, 1613920 words/s, in_qsize 15, out_qsize 0\n",
      "2021-06-21 17:59:21,855 : INFO : EPOCH 20 - PROGRESS: at 78.40% examples, 1607367 words/s, in_qsize 14, out_qsize 1\n",
      "2021-06-21 17:59:22,860 : INFO : EPOCH 20 - PROGRESS: at 97.71% examples, 1601355 words/s, in_qsize 15, out_qsize 0\n",
      "2021-06-21 17:59:22,939 : INFO : worker thread finished; awaiting finish of 7 more threads\n",
      "2021-06-21 17:59:22,943 : INFO : worker thread finished; awaiting finish of 6 more threads\n",
      "2021-06-21 17:59:22,948 : INFO : worker thread finished; awaiting finish of 5 more threads\n",
      "2021-06-21 17:59:22,952 : INFO : worker thread finished; awaiting finish of 4 more threads\n",
      "2021-06-21 17:59:22,956 : INFO : worker thread finished; awaiting finish of 3 more threads\n",
      "2021-06-21 17:59:22,960 : INFO : worker thread finished; awaiting finish of 2 more threads\n",
      "2021-06-21 17:59:22,966 : INFO : worker thread finished; awaiting finish of 1 more threads\n",
      "2021-06-21 17:59:22,969 : INFO : worker thread finished; awaiting finish of 0 more threads\n",
      "2021-06-21 17:59:22,969 : INFO : EPOCH - 20 : training on 9227204 raw words (8223306 effective words) took 5.1s, 1603915 effective words/s\n",
      "2021-06-21 17:59:23,983 : INFO : EPOCH 21 - PROGRESS: at 18.87% examples, 1549386 words/s, in_qsize 16, out_qsize 0\n",
      "2021-06-21 17:59:24,991 : INFO : EPOCH 21 - PROGRESS: at 37.59% examples, 1539129 words/s, in_qsize 15, out_qsize 0\n",
      "2021-06-21 17:59:25,995 : INFO : EPOCH 21 - PROGRESS: at 56.51% examples, 1544008 words/s, in_qsize 16, out_qsize 0\n",
      "2021-06-21 17:59:26,999 : INFO : EPOCH 21 - PROGRESS: at 75.46% examples, 1546161 words/s, in_qsize 15, out_qsize 0\n",
      "2021-06-21 17:59:28,001 : INFO : EPOCH 21 - PROGRESS: at 94.58% examples, 1549591 words/s, in_qsize 15, out_qsize 0\n",
      "2021-06-21 17:59:28,230 : INFO : worker thread finished; awaiting finish of 7 more threads\n",
      "2021-06-21 17:59:28,232 : INFO : worker thread finished; awaiting finish of 6 more threads\n",
      "2021-06-21 17:59:28,238 : INFO : worker thread finished; awaiting finish of 5 more threads\n",
      "2021-06-21 17:59:28,239 : INFO : worker thread finished; awaiting finish of 4 more threads\n",
      "2021-06-21 17:59:28,245 : INFO : worker thread finished; awaiting finish of 3 more threads\n",
      "2021-06-21 17:59:28,247 : INFO : worker thread finished; awaiting finish of 2 more threads\n",
      "2021-06-21 17:59:28,252 : INFO : worker thread finished; awaiting finish of 1 more threads\n",
      "2021-06-21 17:59:28,255 : INFO : worker thread finished; awaiting finish of 0 more threads\n",
      "2021-06-21 17:59:28,256 : INFO : EPOCH - 21 : training on 9227204 raw words (8222146 effective words) took 5.3s, 1558957 effective words/s\n",
      "2021-06-21 17:59:29,285 : INFO : EPOCH 22 - PROGRESS: at 19.08% examples, 1562302 words/s, in_qsize 15, out_qsize 0\n",
      "2021-06-21 17:59:30,287 : INFO : EPOCH 22 - PROGRESS: at 39.33% examples, 1612818 words/s, in_qsize 15, out_qsize 0\n",
      "2021-06-21 17:59:31,291 : INFO : EPOCH 22 - PROGRESS: at 59.44% examples, 1626058 words/s, in_qsize 15, out_qsize 0\n",
      "2021-06-21 17:59:32,295 : INFO : EPOCH 22 - PROGRESS: at 79.49% examples, 1629939 words/s, in_qsize 15, out_qsize 0\n",
      "2021-06-21 17:59:33,244 : INFO : worker thread finished; awaiting finish of 7 more threads\n",
      "2021-06-21 17:59:33,247 : INFO : worker thread finished; awaiting finish of 6 more threads\n",
      "2021-06-21 17:59:33,251 : INFO : worker thread finished; awaiting finish of 5 more threads\n",
      "2021-06-21 17:59:33,257 : INFO : worker thread finished; awaiting finish of 4 more threads\n",
      "2021-06-21 17:59:33,261 : INFO : worker thread finished; awaiting finish of 3 more threads\n",
      "2021-06-21 17:59:33,265 : INFO : worker thread finished; awaiting finish of 2 more threads\n",
      "2021-06-21 17:59:33,266 : INFO : worker thread finished; awaiting finish of 1 more threads\n",
      "2021-06-21 17:59:33,268 : INFO : worker thread finished; awaiting finish of 0 more threads\n",
      "2021-06-21 17:59:33,270 : INFO : EPOCH - 22 : training on 9227204 raw words (8223076 effective words) took 5.0s, 1648800 effective words/s\n",
      "2021-06-21 17:59:34,307 : INFO : EPOCH 23 - PROGRESS: at 18.76% examples, 1538896 words/s, in_qsize 15, out_qsize 0\n",
      "2021-06-21 17:59:35,313 : INFO : EPOCH 23 - PROGRESS: at 37.92% examples, 1553705 words/s, in_qsize 16, out_qsize 0\n",
      "2021-06-21 17:59:36,313 : INFO : EPOCH 23 - PROGRESS: at 57.06% examples, 1561067 words/s, in_qsize 15, out_qsize 0\n",
      "2021-06-21 17:59:37,325 : INFO : EPOCH 23 - PROGRESS: at 76.55% examples, 1567134 words/s, in_qsize 16, out_qsize 1\n",
      "2021-06-21 17:59:38,330 : INFO : EPOCH 23 - PROGRESS: at 95.34% examples, 1559816 words/s, in_qsize 15, out_qsize 0\n",
      "2021-06-21 17:59:38,535 : INFO : worker thread finished; awaiting finish of 7 more threads\n",
      "2021-06-21 17:59:38,537 : INFO : worker thread finished; awaiting finish of 6 more threads\n",
      "2021-06-21 17:59:38,539 : INFO : worker thread finished; awaiting finish of 5 more threads\n",
      "2021-06-21 17:59:38,551 : INFO : worker thread finished; awaiting finish of 4 more threads\n",
      "2021-06-21 17:59:38,553 : INFO : worker thread finished; awaiting finish of 3 more threads\n"
     ]
    },
    {
     "name": "stderr",
     "output_type": "stream",
     "text": [
      "2021-06-21 17:59:38,555 : INFO : worker thread finished; awaiting finish of 2 more threads\n",
      "2021-06-21 17:59:38,557 : INFO : worker thread finished; awaiting finish of 1 more threads\n",
      "2021-06-21 17:59:38,560 : INFO : worker thread finished; awaiting finish of 0 more threads\n",
      "2021-06-21 17:59:38,560 : INFO : EPOCH - 23 : training on 9227204 raw words (8222292 effective words) took 5.3s, 1564773 effective words/s\n",
      "2021-06-21 17:59:39,587 : INFO : EPOCH 24 - PROGRESS: at 19.62% examples, 1604786 words/s, in_qsize 15, out_qsize 0\n",
      "2021-06-21 17:59:40,600 : INFO : EPOCH 24 - PROGRESS: at 40.19% examples, 1638038 words/s, in_qsize 15, out_qsize 0\n",
      "2021-06-21 17:59:41,604 : INFO : EPOCH 24 - PROGRESS: at 59.44% examples, 1618968 words/s, in_qsize 16, out_qsize 0\n",
      "2021-06-21 17:59:42,609 : INFO : EPOCH 24 - PROGRESS: at 78.84% examples, 1610973 words/s, in_qsize 15, out_qsize 0\n",
      "2021-06-21 17:59:43,619 : INFO : EPOCH 24 - PROGRESS: at 98.25% examples, 1604165 words/s, in_qsize 15, out_qsize 0\n",
      "2021-06-21 17:59:43,670 : INFO : worker thread finished; awaiting finish of 7 more threads\n",
      "2021-06-21 17:59:43,672 : INFO : worker thread finished; awaiting finish of 6 more threads\n",
      "2021-06-21 17:59:43,672 : INFO : worker thread finished; awaiting finish of 5 more threads\n",
      "2021-06-21 17:59:43,674 : INFO : worker thread finished; awaiting finish of 4 more threads\n",
      "2021-06-21 17:59:43,680 : INFO : worker thread finished; awaiting finish of 3 more threads\n",
      "2021-06-21 17:59:43,684 : INFO : worker thread finished; awaiting finish of 2 more threads\n",
      "2021-06-21 17:59:43,687 : INFO : worker thread finished; awaiting finish of 1 more threads\n",
      "2021-06-21 17:59:43,689 : INFO : worker thread finished; awaiting finish of 0 more threads\n",
      "2021-06-21 17:59:43,690 : INFO : EPOCH - 24 : training on 9227204 raw words (8223837 effective words) took 5.1s, 1610052 effective words/s\n",
      "2021-06-21 17:59:44,703 : INFO : EPOCH 25 - PROGRESS: at 18.54% examples, 1521711 words/s, in_qsize 15, out_qsize 0\n",
      "2021-06-21 17:59:45,705 : INFO : EPOCH 25 - PROGRESS: at 38.68% examples, 1587259 words/s, in_qsize 15, out_qsize 0\n",
      "2021-06-21 17:59:46,710 : INFO : EPOCH 25 - PROGRESS: at 58.58% examples, 1602030 words/s, in_qsize 16, out_qsize 0\n",
      "2021-06-21 17:59:47,718 : INFO : EPOCH 25 - PROGRESS: at 78.73% examples, 1612163 words/s, in_qsize 15, out_qsize 0\n",
      "2021-06-21 17:59:48,723 : INFO : EPOCH 25 - PROGRESS: at 98.36% examples, 1610644 words/s, in_qsize 14, out_qsize 1\n",
      "2021-06-21 17:59:48,769 : INFO : worker thread finished; awaiting finish of 7 more threads\n",
      "2021-06-21 17:59:48,770 : INFO : worker thread finished; awaiting finish of 6 more threads\n",
      "2021-06-21 17:59:48,772 : INFO : worker thread finished; awaiting finish of 5 more threads\n",
      "2021-06-21 17:59:48,780 : INFO : worker thread finished; awaiting finish of 4 more threads\n",
      "2021-06-21 17:59:48,781 : INFO : worker thread finished; awaiting finish of 3 more threads\n",
      "2021-06-21 17:59:48,785 : INFO : worker thread finished; awaiting finish of 2 more threads\n",
      "2021-06-21 17:59:48,793 : INFO : worker thread finished; awaiting finish of 1 more threads\n",
      "2021-06-21 17:59:48,799 : INFO : worker thread finished; awaiting finish of 0 more threads\n",
      "2021-06-21 17:59:48,800 : INFO : EPOCH - 25 : training on 9227204 raw words (8222916 effective words) took 5.1s, 1612893 effective words/s\n",
      "2021-06-21 17:59:49,836 : INFO : EPOCH 26 - PROGRESS: at 19.19% examples, 1563793 words/s, in_qsize 15, out_qsize 0\n",
      "2021-06-21 17:59:50,839 : INFO : EPOCH 26 - PROGRESS: at 38.35% examples, 1568264 words/s, in_qsize 15, out_qsize 0\n",
      "2021-06-21 17:59:51,840 : INFO : EPOCH 26 - PROGRESS: at 55.86% examples, 1526075 words/s, in_qsize 15, out_qsize 0\n",
      "2021-06-21 17:59:52,852 : INFO : EPOCH 26 - PROGRESS: at 73.62% examples, 1505078 words/s, in_qsize 15, out_qsize 0\n",
      "2021-06-21 17:59:53,857 : INFO : EPOCH 26 - PROGRESS: at 91.09% examples, 1489594 words/s, in_qsize 14, out_qsize 1\n",
      "2021-06-21 17:59:54,313 : INFO : worker thread finished; awaiting finish of 7 more threads\n",
      "2021-06-21 17:59:54,315 : INFO : worker thread finished; awaiting finish of 6 more threads\n",
      "2021-06-21 17:59:54,317 : INFO : worker thread finished; awaiting finish of 5 more threads\n",
      "2021-06-21 17:59:54,320 : INFO : worker thread finished; awaiting finish of 4 more threads\n",
      "2021-06-21 17:59:54,324 : INFO : worker thread finished; awaiting finish of 3 more threads\n",
      "2021-06-21 17:59:54,326 : INFO : worker thread finished; awaiting finish of 2 more threads\n",
      "2021-06-21 17:59:54,338 : INFO : worker thread finished; awaiting finish of 1 more threads\n",
      "2021-06-21 17:59:54,346 : INFO : worker thread finished; awaiting finish of 0 more threads\n",
      "2021-06-21 17:59:54,348 : INFO : EPOCH - 26 : training on 9227204 raw words (8222417 effective words) took 5.5s, 1489706 effective words/s\n",
      "2021-06-21 17:59:55,375 : INFO : EPOCH 27 - PROGRESS: at 18.43% examples, 1512794 words/s, in_qsize 15, out_qsize 0\n",
      "2021-06-21 17:59:56,376 : INFO : EPOCH 27 - PROGRESS: at 35.54% examples, 1459111 words/s, in_qsize 15, out_qsize 0\n",
      "2021-06-21 17:59:57,381 : INFO : EPOCH 27 - PROGRESS: at 52.84% examples, 1446141 words/s, in_qsize 15, out_qsize 0\n",
      "2021-06-21 17:59:58,410 : INFO : EPOCH 27 - PROGRESS: at 70.70% examples, 1441402 words/s, in_qsize 16, out_qsize 0\n",
      "2021-06-21 17:59:59,414 : INFO : EPOCH 27 - PROGRESS: at 89.13% examples, 1454690 words/s, in_qsize 15, out_qsize 0\n",
      "2021-06-21 18:00:00,005 : INFO : worker thread finished; awaiting finish of 7 more threads\n",
      "2021-06-21 18:00:00,008 : INFO : worker thread finished; awaiting finish of 6 more threads\n",
      "2021-06-21 18:00:00,011 : INFO : worker thread finished; awaiting finish of 5 more threads\n",
      "2021-06-21 18:00:00,015 : INFO : worker thread finished; awaiting finish of 4 more threads\n",
      "2021-06-21 18:00:00,016 : INFO : worker thread finished; awaiting finish of 3 more threads\n",
      "2021-06-21 18:00:00,020 : INFO : worker thread finished; awaiting finish of 2 more threads\n",
      "2021-06-21 18:00:00,027 : INFO : worker thread finished; awaiting finish of 1 more threads\n",
      "2021-06-21 18:00:00,037 : INFO : worker thread finished; awaiting finish of 0 more threads\n",
      "2021-06-21 18:00:00,038 : INFO : EPOCH - 27 : training on 9227204 raw words (8223477 effective words) took 5.7s, 1452094 effective words/s\n",
      "2021-06-21 18:00:01,062 : INFO : EPOCH 28 - PROGRESS: at 18.00% examples, 1470347 words/s, in_qsize 15, out_qsize 0\n",
      "2021-06-21 18:00:02,073 : INFO : EPOCH 28 - PROGRESS: at 35.86% examples, 1462728 words/s, in_qsize 15, out_qsize 0\n",
      "2021-06-21 18:00:03,081 : INFO : EPOCH 28 - PROGRESS: at 53.70% examples, 1461189 words/s, in_qsize 15, out_qsize 0\n",
      "2021-06-21 18:00:04,083 : INFO : EPOCH 28 - PROGRESS: at 71.24% examples, 1456191 words/s, in_qsize 15, out_qsize 0\n",
      "2021-06-21 18:00:05,088 : INFO : EPOCH 28 - PROGRESS: at 87.94% examples, 1437802 words/s, in_qsize 15, out_qsize 0\n",
      "2021-06-21 18:00:05,732 : INFO : worker thread finished; awaiting finish of 7 more threads\n",
      "2021-06-21 18:00:05,733 : INFO : worker thread finished; awaiting finish of 6 more threads\n",
      "2021-06-21 18:00:05,734 : INFO : worker thread finished; awaiting finish of 5 more threads\n",
      "2021-06-21 18:00:05,745 : INFO : worker thread finished; awaiting finish of 4 more threads\n",
      "2021-06-21 18:00:05,750 : INFO : worker thread finished; awaiting finish of 3 more threads\n",
      "2021-06-21 18:00:05,757 : INFO : worker thread finished; awaiting finish of 2 more threads\n",
      "2021-06-21 18:00:05,759 : INFO : worker thread finished; awaiting finish of 1 more threads\n",
      "2021-06-21 18:00:05,762 : INFO : worker thread finished; awaiting finish of 0 more threads\n",
      "2021-06-21 18:00:05,762 : INFO : EPOCH - 28 : training on 9227204 raw words (8222410 effective words) took 5.7s, 1441211 effective words/s\n",
      "2021-06-21 18:00:06,785 : INFO : EPOCH 29 - PROGRESS: at 17.89% examples, 1466626 words/s, in_qsize 15, out_qsize 0\n",
      "2021-06-21 18:00:07,800 : INFO : EPOCH 29 - PROGRESS: at 36.94% examples, 1505789 words/s, in_qsize 15, out_qsize 0\n",
      "2021-06-21 18:00:08,801 : INFO : EPOCH 29 - PROGRESS: at 55.42% examples, 1510817 words/s, in_qsize 15, out_qsize 0\n",
      "2021-06-21 18:00:09,818 : INFO : EPOCH 29 - PROGRESS: at 73.73% examples, 1503190 words/s, in_qsize 15, out_qsize 0\n",
      "2021-06-21 18:00:10,828 : INFO : EPOCH 29 - PROGRESS: at 90.33% examples, 1472247 words/s, in_qsize 14, out_qsize 1\n"
     ]
    },
    {
     "name": "stderr",
     "output_type": "stream",
     "text": [
      "2021-06-21 18:00:11,310 : INFO : worker thread finished; awaiting finish of 7 more threads\n",
      "2021-06-21 18:00:11,312 : INFO : worker thread finished; awaiting finish of 6 more threads\n",
      "2021-06-21 18:00:11,317 : INFO : worker thread finished; awaiting finish of 5 more threads\n",
      "2021-06-21 18:00:11,331 : INFO : worker thread finished; awaiting finish of 4 more threads\n",
      "2021-06-21 18:00:11,332 : INFO : worker thread finished; awaiting finish of 3 more threads\n",
      "2021-06-21 18:00:11,336 : INFO : worker thread finished; awaiting finish of 2 more threads\n",
      "2021-06-21 18:00:11,338 : INFO : worker thread finished; awaiting finish of 1 more threads\n",
      "2021-06-21 18:00:11,339 : INFO : worker thread finished; awaiting finish of 0 more threads\n",
      "2021-06-21 18:00:11,340 : INFO : EPOCH - 29 : training on 9227204 raw words (8222862 effective words) took 5.6s, 1479607 effective words/s\n",
      "2021-06-21 18:00:12,368 : INFO : EPOCH 30 - PROGRESS: at 18.22% examples, 1488399 words/s, in_qsize 15, out_qsize 1\n",
      "2021-06-21 18:00:13,381 : INFO : EPOCH 30 - PROGRESS: at 36.18% examples, 1474802 words/s, in_qsize 15, out_qsize 0\n",
      "2021-06-21 18:00:14,381 : INFO : EPOCH 30 - PROGRESS: at 53.92% examples, 1470033 words/s, in_qsize 14, out_qsize 1\n",
      "2021-06-21 18:00:15,386 : INFO : EPOCH 30 - PROGRESS: at 71.88% examples, 1471059 words/s, in_qsize 15, out_qsize 0\n",
      "2021-06-21 18:00:16,389 : INFO : EPOCH 30 - PROGRESS: at 89.56% examples, 1466225 words/s, in_qsize 15, out_qsize 0\n",
      "2021-06-21 18:00:16,916 : INFO : worker thread finished; awaiting finish of 7 more threads\n",
      "2021-06-21 18:00:16,918 : INFO : worker thread finished; awaiting finish of 6 more threads\n",
      "2021-06-21 18:00:16,933 : INFO : worker thread finished; awaiting finish of 5 more threads\n",
      "2021-06-21 18:00:16,934 : INFO : worker thread finished; awaiting finish of 4 more threads\n",
      "2021-06-21 18:00:16,935 : INFO : worker thread finished; awaiting finish of 3 more threads\n",
      "2021-06-21 18:00:16,940 : INFO : worker thread finished; awaiting finish of 2 more threads\n",
      "2021-06-21 18:00:16,941 : INFO : worker thread finished; awaiting finish of 1 more threads\n",
      "2021-06-21 18:00:16,946 : INFO : worker thread finished; awaiting finish of 0 more threads\n",
      "2021-06-21 18:00:16,947 : INFO : EPOCH - 30 : training on 9227204 raw words (8223496 effective words) took 5.6s, 1472771 effective words/s\n",
      "2021-06-21 18:00:17,972 : INFO : EPOCH 31 - PROGRESS: at 16.70% examples, 1365547 words/s, in_qsize 15, out_qsize 0\n",
      "2021-06-21 18:00:18,973 : INFO : EPOCH 31 - PROGRESS: at 34.46% examples, 1412396 words/s, in_qsize 15, out_qsize 0\n",
      "2021-06-21 18:00:19,975 : INFO : EPOCH 31 - PROGRESS: at 51.97% examples, 1421811 words/s, in_qsize 15, out_qsize 0\n",
      "2021-06-21 18:00:20,979 : INFO : EPOCH 31 - PROGRESS: at 69.39% examples, 1423159 words/s, in_qsize 15, out_qsize 0\n",
      "2021-06-21 18:00:21,980 : INFO : EPOCH 31 - PROGRESS: at 86.42% examples, 1417785 words/s, in_qsize 15, out_qsize 0\n",
      "2021-06-21 18:00:22,691 : INFO : worker thread finished; awaiting finish of 7 more threads\n",
      "2021-06-21 18:00:22,697 : INFO : worker thread finished; awaiting finish of 6 more threads\n",
      "2021-06-21 18:00:22,699 : INFO : worker thread finished; awaiting finish of 5 more threads\n",
      "2021-06-21 18:00:22,701 : INFO : worker thread finished; awaiting finish of 4 more threads\n",
      "2021-06-21 18:00:22,714 : INFO : worker thread finished; awaiting finish of 3 more threads\n",
      "2021-06-21 18:00:22,717 : INFO : worker thread finished; awaiting finish of 2 more threads\n",
      "2021-06-21 18:00:22,719 : INFO : worker thread finished; awaiting finish of 1 more threads\n",
      "2021-06-21 18:00:22,722 : INFO : worker thread finished; awaiting finish of 0 more threads\n",
      "2021-06-21 18:00:22,723 : INFO : EPOCH - 31 : training on 9227204 raw words (8222553 effective words) took 5.8s, 1428712 effective words/s\n",
      "2021-06-21 18:00:23,744 : INFO : EPOCH 32 - PROGRESS: at 17.68% examples, 1445703 words/s, in_qsize 15, out_qsize 0\n",
      "2021-06-21 18:00:24,754 : INFO : EPOCH 32 - PROGRESS: at 34.68% examples, 1415161 words/s, in_qsize 15, out_qsize 0\n",
      "2021-06-21 18:00:25,765 : INFO : EPOCH 32 - PROGRESS: at 52.40% examples, 1425503 words/s, in_qsize 14, out_qsize 1\n",
      "2021-06-21 18:00:26,770 : INFO : EPOCH 32 - PROGRESS: at 69.72% examples, 1423520 words/s, in_qsize 15, out_qsize 0\n",
      "2021-06-21 18:00:27,774 : INFO : EPOCH 32 - PROGRESS: at 88.26% examples, 1442211 words/s, in_qsize 14, out_qsize 1\n",
      "2021-06-21 18:00:28,364 : INFO : worker thread finished; awaiting finish of 7 more threads\n",
      "2021-06-21 18:00:28,371 : INFO : worker thread finished; awaiting finish of 6 more threads\n",
      "2021-06-21 18:00:28,373 : INFO : worker thread finished; awaiting finish of 5 more threads\n",
      "2021-06-21 18:00:28,377 : INFO : worker thread finished; awaiting finish of 4 more threads\n",
      "2021-06-21 18:00:28,390 : INFO : worker thread finished; awaiting finish of 3 more threads\n",
      "2021-06-21 18:00:28,394 : INFO : worker thread finished; awaiting finish of 2 more threads\n",
      "2021-06-21 18:00:28,395 : INFO : worker thread finished; awaiting finish of 1 more threads\n",
      "2021-06-21 18:00:28,399 : INFO : worker thread finished; awaiting finish of 0 more threads\n",
      "2021-06-21 18:00:28,400 : INFO : EPOCH - 32 : training on 9227204 raw words (8222907 effective words) took 5.7s, 1452821 effective words/s\n",
      "2021-06-21 18:00:28,401 : INFO : Word2Vec lifecycle event {'msg': 'training on 295270528 raw words (263126565 effective words) took 173.5s, 1516914 effective words/s', 'datetime': '2021-06-21T18:00:28.401070', 'gensim': '4.0.1', 'python': '3.8.8 (default, Apr 13 2021, 15:08:03) [MSC v.1916 64 bit (AMD64)]', 'platform': 'Windows-10-10.0.19041-SP0', 'event': 'train'}\n"
     ]
    },
    {
     "name": "stdout",
     "output_type": "stream",
     "text": [
      "Wall time: 2min 53s\n"
     ]
    },
    {
     "data": {
      "text/plain": [
       "(263126565, 295270528)"
      ]
     },
     "execution_count": 17,
     "metadata": {},
     "output_type": "execute_result"
    }
   ],
   "source": [
    "%%time\n",
    "w2v_model.train(documents, total_examples=len(documents), epochs=W2V_EPOCH)"
   ]
  },
  {
   "cell_type": "code",
   "execution_count": 18,
   "metadata": {},
   "outputs": [
    {
     "data": {
      "text/plain": [
       "[('luv', 0.5699203610420227),\n",
       " ('loves', 0.5477333664894104),\n",
       " ('loved', 0.5340612530708313),\n",
       " ('adore', 0.5176572203636169),\n",
       " ('amazing', 0.510532796382904),\n",
       " ('looove', 0.48347243666648865),\n",
       " ('awesome', 0.47277045249938965),\n",
       " ('loveee', 0.4569583833217621),\n",
       " ('lovee', 0.44810619950294495),\n",
       " ('loooove', 0.4383262097835541),\n",
       " ('miss', 0.43268653750419617),\n",
       " ('loove', 0.42199963331222534),\n",
       " ('loving', 0.42111414670944214),\n",
       " ('looooove', 0.40484434366226196),\n",
       " ('loveeee', 0.3958132266998291),\n",
       " ('loveeeee', 0.38271859288215637),\n",
       " ('sings', 0.3817518353462219),\n",
       " ('ilove', 0.3687688410282135),\n",
       " ('amaze', 0.3685853183269501),\n",
       " ('inspire', 0.3514540493488312)]"
      ]
     },
     "execution_count": 18,
     "metadata": {},
     "output_type": "execute_result"
    }
   ],
   "source": [
    "w2v_model.wv.most_similar(\"love\", topn=20)"
   ]
  },
  {
   "cell_type": "markdown",
   "metadata": {},
   "source": [
    "### Tokenize Text"
   ]
  },
  {
   "cell_type": "code",
   "execution_count": 19,
   "metadata": {},
   "outputs": [
    {
     "name": "stdout",
     "output_type": "stream",
     "text": [
      "Total words 290419\n",
      "Wall time: 15.2 s\n"
     ]
    }
   ],
   "source": [
    "%%time\n",
    "tokenizer = Tokenizer()\n",
    "tokenizer.fit_on_texts(df_train.text)\n",
    "\n",
    "vocab_size = len(tokenizer.word_index) + 1\n",
    "print(\"Total words\", vocab_size)"
   ]
  },
  {
   "cell_type": "code",
   "execution_count": 20,
   "metadata": {},
   "outputs": [
    {
     "name": "stdout",
     "output_type": "stream",
     "text": [
      "Wall time: 22 s\n"
     ]
    }
   ],
   "source": [
    "%%time\n",
    "x_train = pad_sequences(tokenizer.texts_to_sequences(df_train.text), maxlen=SEQUENCE_LENGTH)\n",
    "x_test = pad_sequences(tokenizer.texts_to_sequences(df_test.text), maxlen=SEQUENCE_LENGTH)"
   ]
  },
  {
   "cell_type": "markdown",
   "metadata": {},
   "source": [
    "### Label Encoder "
   ]
  },
  {
   "cell_type": "code",
   "execution_count": 21,
   "metadata": {},
   "outputs": [
    {
     "data": {
      "text/plain": [
       "['POSITIVE', 'NEGATIVE', 'NEUTRAL']"
      ]
     },
     "execution_count": 21,
     "metadata": {},
     "output_type": "execute_result"
    }
   ],
   "source": [
    "labels = df_train.target.unique().tolist()\n",
    "labels.append(NEUTRAL)\n",
    "labels"
   ]
  },
  {
   "cell_type": "code",
   "execution_count": 22,
   "metadata": {},
   "outputs": [
    {
     "name": "stdout",
     "output_type": "stream",
     "text": [
      "y_train (1280000, 1)\n",
      "y_test (320000, 1)\n"
     ]
    }
   ],
   "source": [
    "encoder = LabelEncoder()\n",
    "encoder.fit(df_train.target.tolist())\n",
    "\n",
    "y_train = encoder.transform(df_train.target.tolist())\n",
    "y_test = encoder.transform(df_test.target.tolist())\n",
    "\n",
    "y_train = y_train.reshape(-1,1)\n",
    "y_test = y_test.reshape(-1,1)\n",
    "\n",
    "print(\"y_train\",y_train.shape)\n",
    "print(\"y_test\",y_test.shape)"
   ]
  },
  {
   "cell_type": "code",
   "execution_count": 23,
   "metadata": {},
   "outputs": [
    {
     "name": "stdout",
     "output_type": "stream",
     "text": [
      "x_train (1280000, 300)\n",
      "y_train (1280000, 1)\n",
      "\n",
      "x_test (320000, 300)\n",
      "y_test (320000, 1)\n"
     ]
    }
   ],
   "source": [
    "print(\"x_train\", x_train.shape)\n",
    "print(\"y_train\", y_train.shape)\n",
    "print()\n",
    "print(\"x_test\", x_test.shape)\n",
    "print(\"y_test\", y_test.shape)"
   ]
  },
  {
   "cell_type": "code",
   "execution_count": 24,
   "metadata": {},
   "outputs": [
    {
     "data": {
      "text/plain": [
       "array([[1],\n",
       "       [1],\n",
       "       [1],\n",
       "       [0],\n",
       "       [1],\n",
       "       [1],\n",
       "       [1],\n",
       "       [1],\n",
       "       [1],\n",
       "       [1]], dtype=int64)"
      ]
     },
     "execution_count": 24,
     "metadata": {},
     "output_type": "execute_result"
    }
   ],
   "source": [
    "y_train[:10]"
   ]
  },
  {
   "cell_type": "markdown",
   "metadata": {},
   "source": [
    "### Embedding layer"
   ]
  },
  {
   "cell_type": "code",
   "execution_count": 25,
   "metadata": {},
   "outputs": [
    {
     "name": "stdout",
     "output_type": "stream",
     "text": [
      "(290419, 300)\n"
     ]
    }
   ],
   "source": [
    "embedding_matrix = np.zeros((vocab_size, W2V_SIZE))\n",
    "for word, i in tokenizer.word_index.items():\n",
    "    if word in w2v_model.wv:\n",
    "        embedding_matrix[i] = w2v_model.wv[word]\n",
    "print(embedding_matrix.shape)"
   ]
  },
  {
   "cell_type": "code",
   "execution_count": 26,
   "metadata": {},
   "outputs": [],
   "source": [
    "embedding_layer = Embedding(vocab_size, W2V_SIZE, weights=[embedding_matrix], input_length=SEQUENCE_LENGTH, trainable=False)"
   ]
  },
  {
   "cell_type": "markdown",
   "metadata": {},
   "source": [
    "### Build Model"
   ]
  },
  {
   "cell_type": "code",
   "execution_count": 31,
   "metadata": {},
   "outputs": [
    {
     "name": "stdout",
     "output_type": "stream",
     "text": [
      "Model: \"sequential_1\"\n",
      "_________________________________________________________________\n",
      "Layer (type)                 Output Shape              Param #   \n",
      "=================================================================\n",
      "embedding (Embedding)        (None, 300, 300)          87125700  \n",
      "_________________________________________________________________\n",
      "dropout_1 (Dropout)          (None, 300, 300)          0         \n",
      "_________________________________________________________________\n",
      "lstm_1 (LSTM)                (None, 100)               160400    \n",
      "_________________________________________________________________\n",
      "dense_1 (Dense)              (None, 1)                 101       \n",
      "=================================================================\n",
      "Total params: 87,286,201\n",
      "Trainable params: 160,501\n",
      "Non-trainable params: 87,125,700\n",
      "_________________________________________________________________\n"
     ]
    }
   ],
   "source": [
    "# Can use cuDNN (GPU) for training\n",
    "model = Sequential()\n",
    "model.add(embedding_layer)\n",
    "model.add(Dropout(0.5))\n",
    "model.add(LSTM(100, dropout=0.2, recurrent_dropout=0))\n",
    "model.add(Dense(1, activation='tanh')) \n",
    "\n",
    "model.summary()\n",
    "\n",
    "\n",
    "# can not use cuDNN (GPU) for training\n",
    "# model = Sequential()\n",
    "# model.add(embedding_layer)\n",
    "# model.add(Dropout(0.5))\n",
    "# model.add(LSTM(100, dropout=0.2, recurrent_dropout=0.2))\n",
    "# model.add(Dense(1, activation='sigmoid')) \n",
    "\n",
    "# model.summary()\n"
   ]
  },
  {
   "cell_type": "markdown",
   "metadata": {},
   "source": [
    "### Compile model"
   ]
  },
  {
   "cell_type": "code",
   "execution_count": 32,
   "metadata": {},
   "outputs": [],
   "source": [
    "model.compile(loss='binary_crossentropy',\n",
    "              optimizer=\"adam\",\n",
    "              metrics=['accuracy'])"
   ]
  },
  {
   "cell_type": "markdown",
   "metadata": {},
   "source": [
    "### Callbacks"
   ]
  },
  {
   "cell_type": "code",
   "execution_count": 33,
   "metadata": {},
   "outputs": [],
   "source": [
    "callbacks = [ ReduceLROnPlateau(monitor='val_loss', patience=5, cooldown=0),\n",
    "              EarlyStopping(monitor='val_accuracy', min_delta=1e-4, patience=5)] #monitor=val_acc"
   ]
  },
  {
   "cell_type": "markdown",
   "metadata": {},
   "source": [
    "### Train"
   ]
  },
  {
   "cell_type": "code",
   "execution_count": 34,
   "metadata": {},
   "outputs": [
    {
     "name": "stdout",
     "output_type": "stream",
     "text": [
      "Epoch 1/8\n",
      "2250/2250 [==============================] - 209s 91ms/step - loss: 0.6434 - accuracy: 0.6741 - val_loss: 0.5264 - val_accuracy: 0.7447\n",
      "WARNING:tensorflow:Early stopping conditioned on metric `val_acc` which is not available. Available metrics are: loss,accuracy,val_loss,val_accuracy,lr\n"
     ]
    },
    {
     "name": "stderr",
     "output_type": "stream",
     "text": [
      "2021-06-21 18:20:42,821 : WARNING : Early stopping conditioned on metric `val_acc` which is not available. Available metrics are: loss,accuracy,val_loss,val_accuracy,lr\n"
     ]
    },
    {
     "name": "stdout",
     "output_type": "stream",
     "text": [
      "Epoch 2/8\n",
      "2250/2250 [==============================] - 212s 94ms/step - loss: 0.5310 - accuracy: 0.7378 - val_loss: 0.4914 - val_accuracy: 0.7647\n",
      "WARNING:tensorflow:Early stopping conditioned on metric `val_acc` which is not available. Available metrics are: loss,accuracy,val_loss,val_accuracy,lr\n"
     ]
    },
    {
     "name": "stderr",
     "output_type": "stream",
     "text": [
      "2021-06-21 18:24:15,305 : WARNING : Early stopping conditioned on metric `val_acc` which is not available. Available metrics are: loss,accuracy,val_loss,val_accuracy,lr\n"
     ]
    },
    {
     "name": "stdout",
     "output_type": "stream",
     "text": [
      "Epoch 3/8\n",
      "2250/2250 [==============================] - 211s 94ms/step - loss: 0.5163 - accuracy: 0.7469 - val_loss: 0.4836 - val_accuracy: 0.7680\n",
      "WARNING:tensorflow:Early stopping conditioned on metric `val_acc` which is not available. Available metrics are: loss,accuracy,val_loss,val_accuracy,lr\n"
     ]
    },
    {
     "name": "stderr",
     "output_type": "stream",
     "text": [
      "2021-06-21 18:27:46,395 : WARNING : Early stopping conditioned on metric `val_acc` which is not available. Available metrics are: loss,accuracy,val_loss,val_accuracy,lr\n"
     ]
    },
    {
     "name": "stdout",
     "output_type": "stream",
     "text": [
      "Epoch 4/8\n",
      "2250/2250 [==============================] - 214s 95ms/step - loss: 0.5110 - accuracy: 0.7490 - val_loss: 0.4900 - val_accuracy: 0.7684\n",
      "WARNING:tensorflow:Early stopping conditioned on metric `val_acc` which is not available. Available metrics are: loss,accuracy,val_loss,val_accuracy,lr\n"
     ]
    },
    {
     "name": "stderr",
     "output_type": "stream",
     "text": [
      "2021-06-21 18:31:20,286 : WARNING : Early stopping conditioned on metric `val_acc` which is not available. Available metrics are: loss,accuracy,val_loss,val_accuracy,lr\n"
     ]
    },
    {
     "name": "stdout",
     "output_type": "stream",
     "text": [
      "Epoch 5/8\n",
      "2250/2250 [==============================] - 220s 98ms/step - loss: 0.5065 - accuracy: 0.7535 - val_loss: 0.4787 - val_accuracy: 0.7716\n",
      "WARNING:tensorflow:Early stopping conditioned on metric `val_acc` which is not available. Available metrics are: loss,accuracy,val_loss,val_accuracy,lr\n"
     ]
    },
    {
     "name": "stderr",
     "output_type": "stream",
     "text": [
      "2021-06-21 18:35:00,293 : WARNING : Early stopping conditioned on metric `val_acc` which is not available. Available metrics are: loss,accuracy,val_loss,val_accuracy,lr\n"
     ]
    },
    {
     "name": "stdout",
     "output_type": "stream",
     "text": [
      "Epoch 6/8\n",
      "2250/2250 [==============================] - 220s 98ms/step - loss: 0.4976 - accuracy: 0.7583 - val_loss: 0.4735 - val_accuracy: 0.7747\n",
      "WARNING:tensorflow:Early stopping conditioned on metric `val_acc` which is not available. Available metrics are: loss,accuracy,val_loss,val_accuracy,lr\n"
     ]
    },
    {
     "name": "stderr",
     "output_type": "stream",
     "text": [
      "2021-06-21 18:38:39,946 : WARNING : Early stopping conditioned on metric `val_acc` which is not available. Available metrics are: loss,accuracy,val_loss,val_accuracy,lr\n"
     ]
    },
    {
     "name": "stdout",
     "output_type": "stream",
     "text": [
      "Epoch 7/8\n",
      "2250/2250 [==============================] - 219s 97ms/step - loss: 0.4966 - accuracy: 0.7603 - val_loss: 0.4759 - val_accuracy: 0.7764\n",
      "WARNING:tensorflow:Early stopping conditioned on metric `val_acc` which is not available. Available metrics are: loss,accuracy,val_loss,val_accuracy,lr\n"
     ]
    },
    {
     "name": "stderr",
     "output_type": "stream",
     "text": [
      "2021-06-21 18:42:18,954 : WARNING : Early stopping conditioned on metric `val_acc` which is not available. Available metrics are: loss,accuracy,val_loss,val_accuracy,lr\n"
     ]
    },
    {
     "name": "stdout",
     "output_type": "stream",
     "text": [
      "Epoch 8/8\n",
      "2250/2250 [==============================] - 219s 97ms/step - loss: 0.5007 - accuracy: 0.7589 - val_loss: 0.4714 - val_accuracy: 0.7761\n",
      "WARNING:tensorflow:Early stopping conditioned on metric `val_acc` which is not available. Available metrics are: loss,accuracy,val_loss,val_accuracy,lr\n"
     ]
    },
    {
     "name": "stderr",
     "output_type": "stream",
     "text": [
      "2021-06-21 18:45:57,534 : WARNING : Early stopping conditioned on metric `val_acc` which is not available. Available metrics are: loss,accuracy,val_loss,val_accuracy,lr\n"
     ]
    },
    {
     "name": "stdout",
     "output_type": "stream",
     "text": [
      "Wall time: 28min 43s\n"
     ]
    }
   ],
   "source": [
    "%%time\n",
    "history = model.fit(x_train, y_train,\n",
    "                    batch_size=BATCH_SIZE,\n",
    "                    epochs=EPOCHS,\n",
    "                    validation_split=0.2, #0.1\n",
    "                    verbose=1,\n",
    "                    callbacks=callbacks)"
   ]
  },
  {
   "cell_type": "code",
   "execution_count": 38,
   "metadata": {},
   "outputs": [
    {
     "data": {
      "text/plain": [
       "{'loss': [0.6433804631233215,\n",
       "  0.5309802293777466,\n",
       "  0.5163442492485046,\n",
       "  0.5109666585922241,\n",
       "  0.5064899921417236,\n",
       "  0.49760738015174866,\n",
       "  0.49664637446403503,\n",
       "  0.5007408261299133],\n",
       " 'accuracy': [0.6741345524787903,\n",
       "  0.7377803921699524,\n",
       "  0.746948778629303,\n",
       "  0.749019980430603,\n",
       "  0.7535486221313477,\n",
       "  0.7582855820655823,\n",
       "  0.7603350877761841,\n",
       "  0.7589218616485596],\n",
       " 'val_loss': [0.5263693332672119,\n",
       "  0.4914410412311554,\n",
       "  0.4836093485355377,\n",
       "  0.4899986684322357,\n",
       "  0.4786616563796997,\n",
       "  0.47349655628204346,\n",
       "  0.47593432664871216,\n",
       "  0.4713513255119324],\n",
       " 'val_accuracy': [0.7447031140327454,\n",
       "  0.7647343873977661,\n",
       "  0.7680000066757202,\n",
       "  0.768429696559906,\n",
       "  0.7716405987739563,\n",
       "  0.7747109532356262,\n",
       "  0.7763828039169312,\n",
       "  0.7760624885559082],\n",
       " 'lr': [0.001, 0.001, 0.001, 0.001, 0.001, 0.001, 0.001, 0.001]}"
      ]
     },
     "execution_count": 38,
     "metadata": {},
     "output_type": "execute_result"
    }
   ],
   "source": [
    "history.history"
   ]
  },
  {
   "cell_type": "markdown",
   "metadata": {},
   "source": [
    "### Evaluate"
   ]
  },
  {
   "cell_type": "code",
   "execution_count": 35,
   "metadata": {},
   "outputs": [
    {
     "name": "stdout",
     "output_type": "stream",
     "text": [
      "625/625 [==============================] - 29s 46ms/step - loss: 0.4697 - accuracy: 0.7768\n",
      "\n",
      "ACCURACY: 0.7767968773841858\n",
      "LOSS: 0.46972379088401794\n",
      "Wall time: 28.6 s\n"
     ]
    }
   ],
   "source": [
    "%%time\n",
    "score = model.evaluate(x_test, y_test, batch_size=BATCH_SIZE)\n",
    "print()\n",
    "print(\"ACCURACY:\",score[1])\n",
    "print(\"LOSS:\",score[0])"
   ]
  },
  {
   "cell_type": "code",
   "execution_count": 39,
   "metadata": {},
   "outputs": [
    {
     "data": {
      "image/png": "[encoded data removed]",
      "text/plain": [
       "<Figure size 432x288 with 1 Axes>"
      ]
     },
     "metadata": {
      "needs_background": "light"
     },
     "output_type": "display_data"
    },
    {
     "data": {
      "image/png": "[encoded data removed]",
      "text/plain": [
       "<Figure size 432x288 with 1 Axes>"
      ]
     },
     "metadata": {
      "needs_background": "light"
     },
     "output_type": "display_data"
    }
   ],
   "source": [
    "acc = history.history['accuracy']\n",
    "val_acc = history.history['val_accuracy']\n",
    "loss = history.history['loss']\n",
    "val_loss = history.history['val_loss']\n",
    " \n",
    "epochs = range(len(acc))\n",
    " \n",
    "plt.plot(epochs, acc, 'b', label='Training acc')\n",
    "plt.plot(epochs, val_acc, 'r', label='Validation acc')\n",
    "plt.title('Training and validation accuracy')\n",
    "plt.legend()\n",
    " \n",
    "plt.figure()\n",
    " \n",
    "plt.plot(epochs, loss, 'b', label='Training loss')\n",
    "plt.plot(epochs, val_loss, 'r', label='Validation loss')\n",
    "plt.title('Training and validation loss')\n",
    "plt.legend()\n",
    " \n",
    "plt.show()"
   ]
  },
  {
   "cell_type": "markdown",
   "metadata": {},
   "source": [
    "### Predict"
   ]
  },
  {
   "cell_type": "code",
   "execution_count": 40,
   "metadata": {},
   "outputs": [],
   "source": [
    "def decode_sentiment(score, include_neutral=True):\n",
    "    if include_neutral:        \n",
    "        label = NEUTRAL\n",
    "        if score <= SENTIMENT_THRESHOLDS[0]:\n",
    "            label = NEGATIVE\n",
    "        elif score >= SENTIMENT_THRESHOLDS[1]:\n",
    "            label = POSITIVE\n",
    "\n",
    "        return label\n",
    "    else:\n",
    "        return NEGATIVE if score < 0.5 else POSITIVE"
   ]
  },
  {
   "cell_type": "code",
   "execution_count": 41,
   "metadata": {},
   "outputs": [],
   "source": [
    "def predict(text, include_neutral=True):\n",
    "    start_at = time.time()\n",
    "    # Tokenize text\n",
    "    x_test = pad_sequences(tokenizer.texts_to_sequences([text]), maxlen=SEQUENCE_LENGTH)\n",
    "    # Predict\n",
    "    score = model.predict([x_test])[0]\n",
    "    # Decode sentiment\n",
    "    label = decode_sentiment(score, include_neutral=include_neutral)\n",
    "\n",
    "    return {\"label\": label, \"score\": float(score),\n",
    "       \"elapsed_time\": time.time()-start_at}  "
   ]
  },
  {
   "cell_type": "code",
   "execution_count": 42,
   "metadata": {},
   "outputs": [
    {
     "data": {
      "text/plain": [
       "{'label': 'POSITIVE',\n",
       " 'score': 0.9669045209884644,\n",
       " 'elapsed_time': 0.3640007972717285}"
      ]
     },
     "execution_count": 42,
     "metadata": {},
     "output_type": "execute_result"
    }
   ],
   "source": [
    "predict(\"I love the music\")"
   ]
  },
  {
   "cell_type": "code",
   "execution_count": 43,
   "metadata": {},
   "outputs": [
    {
     "data": {
      "text/plain": [
       "{'label': 'NEGATIVE',\n",
       " 'score': 0.10078897327184677,\n",
       " 'elapsed_time': 0.041002750396728516}"
      ]
     },
     "execution_count": 43,
     "metadata": {},
     "output_type": "execute_result"
    }
   ],
   "source": [
    "predict(\"I hate the rain\")"
   ]
  },
  {
   "cell_type": "code",
   "execution_count": 44,
   "metadata": {},
   "outputs": [
    {
     "data": {
      "text/plain": [
       "{'label': 'NEUTRAL',\n",
       " 'score': 0.4649919867515564,\n",
       " 'elapsed_time': 0.044469356536865234}"
      ]
     },
     "execution_count": 44,
     "metadata": {},
     "output_type": "execute_result"
    }
   ],
   "source": [
    "predict(\"i don't know what i'm doing\")"
   ]
  },
  {
   "cell_type": "markdown",
   "metadata": {},
   "source": [
    "### Confusion Matrix"
   ]
  },
  {
   "cell_type": "code",
   "execution_count": 49,
   "metadata": {},
   "outputs": [
    {
     "name": "stdout",
     "output_type": "stream",
     "text": [
      "313/313 [==============================] - 27s 86ms/step\n",
      "Wall time: 27.6 s\n"
     ]
    }
   ],
   "source": [
    "%%time\n",
    "y_pred_1d = []\n",
    "y_test_1d = list(df_test.target)\n",
    "scores = model.predict(x_test, verbose=1, batch_size=1024)\n",
    "y_pred_1d = [decode_sentiment(score, include_neutral=False) for score in scores]"
   ]
  },
  {
   "cell_type": "code",
   "execution_count": 50,
   "metadata": {},
   "outputs": [],
   "source": [
    "def plot_confusion_matrix(cm, classes,\n",
    "                          title='Confusion matrix',\n",
    "                          cmap=plt.cm.Blues):\n",
    "    \"\"\"\n",
    "    This function prints and plots the confusion matrix.\n",
    "    Normalization can be applied by setting `normalize=True`.\n",
    "    \"\"\"\n",
    "\n",
    "    cm = cm.astype('float') / cm.sum(axis=1)[:, np.newaxis]\n",
    "\n",
    "    plt.imshow(cm, interpolation='nearest', cmap=cmap)\n",
    "    plt.title(title, fontsize=30)\n",
    "    plt.colorbar()\n",
    "    tick_marks = np.arange(len(classes))\n",
    "    plt.xticks(tick_marks, classes, rotation=90, fontsize=22)\n",
    "    plt.yticks(tick_marks, classes, fontsize=22)\n",
    "\n",
    "    fmt = '.2f'\n",
    "    thresh = cm.max() / 2.\n",
    "    for i, j in itertools.product(range(cm.shape[0]), range(cm.shape[1])):\n",
    "        plt.text(j, i, format(cm[i, j], fmt),\n",
    "                 horizontalalignment=\"center\",\n",
    "                 color=\"white\" if cm[i, j] > thresh else \"black\")\n",
    "\n",
    "    plt.ylabel('True label', fontsize=25)\n",
    "    plt.xlabel('Predicted label', fontsize=25)"
   ]
  },
  {
   "cell_type": "code",
   "execution_count": 51,
   "metadata": {},
   "outputs": [
    {
     "data": {
      "image/png": "[encoded data removed]",
      "text/plain": [
       "<Figure size 864x864 with 2 Axes>"
      ]
     },
     "metadata": {
      "needs_background": "light"
     },
     "output_type": "display_data"
    },
    {
     "name": "stdout",
     "output_type": "stream",
     "text": [
      "Wall time: 1e+03 ms\n"
     ]
    }
   ],
   "source": [
    "%%time\n",
    "\n",
    "cnf_matrix = confusion_matrix(y_test_1d, y_pred_1d)\n",
    "plt.figure(figsize=(12,12))\n",
    "plot_confusion_matrix(cnf_matrix, classes=df_train.target.unique(), title=\"Confusion matrix\")\n",
    "plt.show()"
   ]
  },
  {
   "cell_type": "markdown",
   "metadata": {},
   "source": [
    "### Classification Report"
   ]
  },
  {
   "cell_type": "code",
   "execution_count": 52,
   "metadata": {},
   "outputs": [
    {
     "name": "stdout",
     "output_type": "stream",
     "text": [
      "              precision    recall  f1-score   support\n",
      "\n",
      "    NEGATIVE       0.80      0.74      0.77    159494\n",
      "    POSITIVE       0.76      0.81      0.79    160506\n",
      "\n",
      "    accuracy                           0.78    320000\n",
      "   macro avg       0.78      0.78      0.78    320000\n",
      "weighted avg       0.78      0.78      0.78    320000\n",
      "\n"
     ]
    }
   ],
   "source": [
    "print(classification_report(y_test_1d, y_pred_1d))"
   ]
  },
  {
   "cell_type": "markdown",
   "metadata": {},
   "source": [
    "### Accuracy Score"
   ]
  },
  {
   "cell_type": "code",
   "execution_count": 53,
   "metadata": {},
   "outputs": [
    {
     "data": {
      "text/plain": [
       "0.7768"
      ]
     },
     "execution_count": 53,
     "metadata": {},
     "output_type": "execute_result"
    }
   ],
   "source": [
    "accuracy_score(y_test_1d, y_pred_1d)"
   ]
  },
  {
   "cell_type": "markdown",
   "metadata": {},
   "source": [
    "### Save model"
   ]
  },
  {
   "cell_type": "code",
   "execution_count": 54,
   "metadata": {},
   "outputs": [
    {
     "name": "stderr",
     "output_type": "stream",
     "text": [
      "2021-06-21 18:50:14,647 : INFO : Word2Vec lifecycle event {'fname_or_handle': 'model.w2v', 'separately': 'None', 'sep_limit': 10485760, 'ignore': frozenset(), 'datetime': '2021-06-21T18:50:14.647220', 'gensim': '4.0.1', 'python': '3.8.8 (default, Apr 13 2021, 15:08:03) [MSC v.1916 64 bit (AMD64)]', 'platform': 'Windows-10-10.0.19041-SP0', 'event': 'saving'}\n",
      "2021-06-21 18:50:14,650 : INFO : not storing attribute cum_table\n",
      "2021-06-21 18:50:14,993 : INFO : saved model.w2v\n"
     ]
    }
   ],
   "source": [
    "model.save(KERAS_MODEL)\n",
    "w2v_model.save(WORD2VEC_MODEL)\n",
    "pickle.dump(tokenizer, open(TOKENIZER_MODEL, \"wb\"), protocol=0)\n",
    "pickle.dump(encoder, open(ENCODER_MODEL, \"wb\"), protocol=0)"
   ]
  },
  {
   "cell_type": "code",
   "execution_count": null,
   "metadata": {},
   "outputs": [],
   "source": []
  },
  {
   "cell_type": "code",
   "execution_count": null,
   "metadata": {},
   "outputs": [],
   "source": []
  },
  {
   "cell_type": "code",
   "execution_count": null,
   "metadata": {},
   "outputs": [],
   "source": []
  }
 ],
 "metadata": {
  "kernelspec": {
   "display_name": "Python 3",
   "language": "python",
   "name": "python3"
  },
  "language_info": {
   "codemirror_mode": {
    "name": "ipython",
    "version": 3
   },
   "file_extension": ".py",
   "mimetype": "text/x-python",
   "name": "python",
   "nbconvert_exporter": "python",
   "pygments_lexer": "ipython3",
   "version": "3.8.8"
  }
 },
 "nbformat": 4,
 "nbformat_minor": 4
}
