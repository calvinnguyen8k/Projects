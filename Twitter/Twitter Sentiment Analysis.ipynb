{
 "cells": [
  {
   "cell_type": "code",
   "execution_count": 1,
   "metadata": {},
   "outputs": [
    {
     "name": "stderr",
     "output_type": "stream",
     "text": [
      "c:\\users\\nguye\\anaconda3\\envs\\cuongnguyen_env\\lib\\site-packages\\gensim\\similarities\\__init__.py:15: UserWarning: The gensim.similarities.levenshtein submodule is disabled, because the optional Levenshtein package <https://pypi.org/project/python-Levenshtein/> is unavailable. Install Levenhstein (e.g. `pip install python-Levenshtein`) to suppress this warning.\n",
      "  warnings.warn(msg)\n"
     ]
    }
   ],
   "source": [
    "# DataFrame\n",
    "import pandas as pd\n",
    "\n",
    "# Matplot\n",
    "import matplotlib.pyplot as plt\n",
    "%matplotlib inline\n",
    "\n",
    "# Scikit-learn\n",
    "from sklearn.model_selection import train_test_split\n",
    "from sklearn.preprocessing import LabelEncoder\n",
    "from sklearn.metrics import confusion_matrix, classification_report, accuracy_score\n",
    "from sklearn.manifold import TSNE\n",
    "from sklearn.feature_extraction.text import TfidfVectorizer\n",
    "\n",
    "# Keras\n",
    "import tensorflow as tf\n",
    "from tensorflow import keras\n",
    "\n",
    "from tensorflow.keras.preprocessing.text import Tokenizer\n",
    "from tensorflow.keras.preprocessing.sequence import pad_sequences\n",
    "from tensorflow.keras.models import Sequential\n",
    "from tensorflow.keras.layers import Activation, Dense, Dropout, Embedding, Flatten, Conv1D, MaxPooling1D, LSTM\n",
    "from tensorflow.keras import utils\n",
    "from tensorflow.keras.callbacks import ReduceLROnPlateau, EarlyStopping\n",
    "\n",
    "# nltk\n",
    "import nltk\n",
    "from nltk.corpus import stopwords\n",
    "from  nltk.stem import SnowballStemmer\n",
    "\n",
    "# Word2vec\n",
    "import gensim\n",
    "\n",
    "# Utility\n",
    "import re\n",
    "import numpy as np\n",
    "import os\n",
    "from collections import Counter\n",
    "import logging\n",
    "import time\n",
    "import pickle\n",
    "import itertools\n",
    "\n",
    "# Set log\n",
    "logging.basicConfig(format='%(asctime)s : %(levelname)s : %(message)s', level=logging.INFO)"
   ]
  },
  {
   "cell_type": "code",
   "execution_count": null,
   "metadata": {},
   "outputs": [],
   "source": [
    "!pip install python-Levenshtein"
   ]
  },
  {
   "cell_type": "code",
   "execution_count": 2,
   "metadata": {},
   "outputs": [
    {
     "name": "stderr",
     "output_type": "stream",
     "text": [
      "[nltk_data] Downloading package stopwords to\n",
      "[nltk_data]     C:\\Users\\nguye\\AppData\\Roaming\\nltk_data...\n",
      "[nltk_data]   Package stopwords is already up-to-date!\n"
     ]
    },
    {
     "data": {
      "text/plain": [
       "True"
      ]
     },
     "execution_count": 2,
     "metadata": {},
     "output_type": "execute_result"
    }
   ],
   "source": [
    "nltk.download('stopwords')"
   ]
  },
  {
   "cell_type": "markdown",
   "metadata": {},
   "source": [
    "### Setting"
   ]
  },
  {
   "cell_type": "code",
   "execution_count": 3,
   "metadata": {},
   "outputs": [],
   "source": [
    "# DATASET\n",
    "DATASET_COLUMNS = [\"target\", \"ids\", \"date\", \"flag\", \"user\", \"text\"]\n",
    "DATASET_ENCODING = \"ISO-8859-1\"\n",
    "TRAIN_SIZE = 0.8\n",
    "\n",
    "# TEXT CLENAING\n",
    "TEXT_CLEANING_RE = \"@\\S+|https?:\\S+|http?:\\S|[^A-Za-z0-9]+\"\n",
    "\n",
    "# WORD2VEC \n",
    "W2V_SIZE = 300\n",
    "W2V_WINDOW = 7\n",
    "W2V_EPOCH = 32\n",
    "W2V_MIN_COUNT = 10\n",
    "\n",
    "# KERAS\n",
    "SEQUENCE_LENGTH = 300\n",
    "EPOCHS = 10 #8\n",
    "BATCH_SIZE = 512\n",
    "\n",
    "# SENTIMENT\n",
    "POSITIVE = \"POSITIVE\"\n",
    "NEGATIVE = \"NEGATIVE\"\n",
    "NEUTRAL = \"NEUTRAL\"\n",
    "SENTIMENT_THRESHOLDS = (0.4, 0.7)\n",
    "\n",
    "# EXPORT\n",
    "KERAS_MODEL = \"model.h5\"\n",
    "WORD2VEC_MODEL = \"model.w2v\"\n",
    "TOKENIZER_MODEL = \"tokenizer.pkl\"\n",
    "ENCODER_MODEL = \"encoder.pkl\""
   ]
  },
  {
   "cell_type": "markdown",
   "metadata": {},
   "source": [
    "### Read Dataset"
   ]
  },
  {
   "cell_type": "markdown",
   "metadata": {},
   "source": [
    "### Dataset details\n",
    "* **target**: the polarity of the tweet (0 = negative, 2 = neutral, 4 = positive)\n",
    "* **ids**: The id of the tweet ( 2087)\n",
    "* **date**: the date of the tweet (Sat May 16 23:58:44 UTC 2009)\n",
    "* **flag**: The query (lyx). If there is no query, then this value is NO_QUERY.\n",
    "* **user**: the user that tweeted (robotickilldozr)\n",
    "* **text**: the text of the tweet (Lyx is cool)"
   ]
  },
  {
   "cell_type": "code",
   "execution_count": 4,
   "metadata": {},
   "outputs": [
    {
     "name": "stdout",
     "output_type": "stream",
     "text": [
      "Open file: .\\data\\training.1600000.processed.noemoticon.csv\n",
      "Dataset size: 1600000\n"
     ]
    }
   ],
   "source": [
    "dataset_filename = os.listdir(\"./data\")[0]\n",
    "dataset_path = os.path.join(\".\",\"data\",dataset_filename)\n",
    "print(\"Open file:\", dataset_path)\n",
    "df = pd.read_csv(dataset_path, encoding =DATASET_ENCODING , names=DATASET_COLUMNS)\n",
    "print(\"Dataset size:\", len(df))"
   ]
  },
  {
   "cell_type": "code",
   "execution_count": 5,
   "metadata": {},
   "outputs": [
    {
     "data": {
      "text/html": [
       "<div>\n",
       "<style scoped>\n",
       "    .dataframe tbody tr th:only-of-type {\n",
       "        vertical-align: middle;\n",
       "    }\n",
       "\n",
       "    .dataframe tbody tr th {\n",
       "        vertical-align: top;\n",
       "    }\n",
       "\n",
       "    .dataframe thead th {\n",
       "        text-align: right;\n",
       "    }\n",
       "</style>\n",
       "<table border=\"1\" class=\"dataframe\">\n",
       "  <thead>\n",
       "    <tr style=\"text-align: right;\">\n",
       "      <th></th>\n",
       "      <th>target</th>\n",
       "      <th>ids</th>\n",
       "      <th>date</th>\n",
       "      <th>flag</th>\n",
       "      <th>user</th>\n",
       "      <th>text</th>\n",
       "    </tr>\n",
       "  </thead>\n",
       "  <tbody>\n",
       "    <tr>\n",
       "      <th>0</th>\n",
       "      <td>0</td>\n",
       "      <td>1467810369</td>\n",
       "      <td>Mon Apr 06 22:19:45 PDT 2009</td>\n",
       "      <td>NO_QUERY</td>\n",
       "      <td>_TheSpecialOne_</td>\n",
       "      <td>@switchfoot http://twitpic.com/2y1zl - Awww, t...</td>\n",
       "    </tr>\n",
       "    <tr>\n",
       "      <th>1</th>\n",
       "      <td>0</td>\n",
       "      <td>1467810672</td>\n",
       "      <td>Mon Apr 06 22:19:49 PDT 2009</td>\n",
       "      <td>NO_QUERY</td>\n",
       "      <td>scotthamilton</td>\n",
       "      <td>is upset that he can't update his Facebook by ...</td>\n",
       "    </tr>\n",
       "    <tr>\n",
       "      <th>2</th>\n",
       "      <td>0</td>\n",
       "      <td>1467810917</td>\n",
       "      <td>Mon Apr 06 22:19:53 PDT 2009</td>\n",
       "      <td>NO_QUERY</td>\n",
       "      <td>mattycus</td>\n",
       "      <td>@Kenichan I dived many times for the ball. Man...</td>\n",
       "    </tr>\n",
       "    <tr>\n",
       "      <th>3</th>\n",
       "      <td>0</td>\n",
       "      <td>1467811184</td>\n",
       "      <td>Mon Apr 06 22:19:57 PDT 2009</td>\n",
       "      <td>NO_QUERY</td>\n",
       "      <td>ElleCTF</td>\n",
       "      <td>my whole body feels itchy and like its on fire</td>\n",
       "    </tr>\n",
       "    <tr>\n",
       "      <th>4</th>\n",
       "      <td>0</td>\n",
       "      <td>1467811193</td>\n",
       "      <td>Mon Apr 06 22:19:57 PDT 2009</td>\n",
       "      <td>NO_QUERY</td>\n",
       "      <td>Karoli</td>\n",
       "      <td>@nationwideclass no, it's not behaving at all....</td>\n",
       "    </tr>\n",
       "  </tbody>\n",
       "</table>\n",
       "</div>"
      ],
      "text/plain": [
       "   target         ids                          date      flag  \\\n",
       "0       0  1467810369  Mon Apr 06 22:19:45 PDT 2009  NO_QUERY   \n",
       "1       0  1467810672  Mon Apr 06 22:19:49 PDT 2009  NO_QUERY   \n",
       "2       0  1467810917  Mon Apr 06 22:19:53 PDT 2009  NO_QUERY   \n",
       "3       0  1467811184  Mon Apr 06 22:19:57 PDT 2009  NO_QUERY   \n",
       "4       0  1467811193  Mon Apr 06 22:19:57 PDT 2009  NO_QUERY   \n",
       "\n",
       "              user                                               text  \n",
       "0  _TheSpecialOne_  @switchfoot http://twitpic.com/2y1zl - Awww, t...  \n",
       "1    scotthamilton  is upset that he can't update his Facebook by ...  \n",
       "2         mattycus  @Kenichan I dived many times for the ball. Man...  \n",
       "3          ElleCTF    my whole body feels itchy and like its on fire   \n",
       "4           Karoli  @nationwideclass no, it's not behaving at all....  "
      ]
     },
     "execution_count": 5,
     "metadata": {},
     "output_type": "execute_result"
    }
   ],
   "source": [
    "df.head(5)"
   ]
  },
  {
   "cell_type": "markdown",
   "metadata": {},
   "source": [
    "### Map target label to String\n",
    "* **0** -> **NEGATIVE**\n",
    "* **2** -> **NEUTRAL**\n",
    "* **4** -> **POSITIVE**"
   ]
  },
  {
   "cell_type": "code",
   "execution_count": 6,
   "metadata": {},
   "outputs": [],
   "source": [
    "decode_map = {0: \"NEGATIVE\", 2: \"NEUTRAL\", 4: \"POSITIVE\"}\n",
    "def decode_sentiment(label):\n",
    "    return decode_map[int(label)]"
   ]
  },
  {
   "cell_type": "code",
   "execution_count": 7,
   "metadata": {},
   "outputs": [
    {
     "name": "stdout",
     "output_type": "stream",
     "text": [
      "Wall time: 358 ms\n"
     ]
    }
   ],
   "source": [
    "%%time\n",
    "df.target = df.target.apply(lambda x: decode_sentiment(x))"
   ]
  },
  {
   "cell_type": "code",
   "execution_count": 8,
   "metadata": {},
   "outputs": [
    {
     "data": {
      "text/plain": [
       "Text(0.5, 1.0, 'Dataset labels distribuition')"
      ]
     },
     "execution_count": 8,
     "metadata": {},
     "output_type": "execute_result"
    },
    {
     "data": {
      "image/png": "[encoded data removed]",
      "text/plain": [
       "<Figure size 1152x576 with 1 Axes>"
      ]
     },
     "metadata": {
      "needs_background": "light"
     },
     "output_type": "display_data"
    }
   ],
   "source": [
    "target_cnt = Counter(df.target)\n",
    "\n",
    "plt.figure(figsize=(16,8))\n",
    "plt.bar(target_cnt.keys(), target_cnt.values())\n",
    "plt.title(\"Dataset labels distribuition\")"
   ]
  },
  {
   "cell_type": "markdown",
   "metadata": {},
   "source": [
    "### Pre-Process dataset"
   ]
  },
  {
   "cell_type": "code",
   "execution_count": 9,
   "metadata": {},
   "outputs": [],
   "source": [
    "stop_words = stopwords.words(\"english\")\n",
    "stemmer = SnowballStemmer(\"english\")"
   ]
  },
  {
   "cell_type": "code",
   "execution_count": 10,
   "metadata": {},
   "outputs": [],
   "source": [
    "def preprocess(text, stem=False):\n",
    "    # Remove link,user and special characters\n",
    "    text = re.sub(TEXT_CLEANING_RE, ' ', str(text).lower()).strip()\n",
    "    tokens = []\n",
    "    for token in text.split():\n",
    "        if token not in stop_words:\n",
    "            if stem:\n",
    "                tokens.append(stemmer.stem(token))\n",
    "            else:\n",
    "                tokens.append(token)\n",
    "    return \" \".join(tokens)"
   ]
  },
  {
   "cell_type": "code",
   "execution_count": 11,
   "metadata": {},
   "outputs": [
    {
     "name": "stdout",
     "output_type": "stream",
     "text": [
      "Wall time: 42.9 s\n"
     ]
    }
   ],
   "source": [
    "%%time\n",
    "df.text = df.text.apply(lambda x: preprocess(x))"
   ]
  },
  {
   "cell_type": "markdown",
   "metadata": {},
   "source": [
    "### Split train and test"
   ]
  },
  {
   "cell_type": "code",
   "execution_count": 12,
   "metadata": {},
   "outputs": [
    {
     "name": "stdout",
     "output_type": "stream",
     "text": [
      "TRAIN size: 1280000\n",
      "TEST size: 320000\n"
     ]
    }
   ],
   "source": [
    "df_train, df_test = train_test_split(df, test_size=1-TRAIN_SIZE, random_state=42)\n",
    "print(\"TRAIN size:\", len(df_train))\n",
    "print(\"TEST size:\", len(df_test))"
   ]
  },
  {
   "cell_type": "markdown",
   "metadata": {},
   "source": [
    "### Word2Vec "
   ]
  },
  {
   "cell_type": "code",
   "execution_count": 13,
   "metadata": {},
   "outputs": [
    {
     "name": "stdout",
     "output_type": "stream",
     "text": [
      "Wall time: 2.84 s\n"
     ]
    }
   ],
   "source": [
    "%%time\n",
    "documents = [_text.split() for _text in df_train.text] "
   ]
  },
  {
   "cell_type": "code",
   "execution_count": 14,
   "metadata": {},
   "outputs": [
    {
     "name": "stderr",
     "output_type": "stream",
     "text": [
      "2021-06-26 19:39:44,062 : INFO : Word2Vec lifecycle event {'params': 'Word2Vec(vocab=0, vector_size=300, alpha=0.025)', 'datetime': '2021-06-26T19:39:44.062713', 'gensim': '4.0.1', 'python': '3.8.8 (default, Apr 13 2021, 15:08:03) [MSC v.1916 64 bit (AMD64)]', 'platform': 'Windows-10-10.0.19041-SP0', 'event': 'created'}\n"
     ]
    }
   ],
   "source": [
    "w2v_model = gensim.models.word2vec.Word2Vec(vector_size=W2V_SIZE, \n",
    "                                            window=W2V_WINDOW, \n",
    "                                            min_count=W2V_MIN_COUNT, \n",
    "                                            workers=8)"
   ]
  },
  {
   "cell_type": "code",
   "execution_count": 15,
   "metadata": {},
   "outputs": [
    {
     "name": "stderr",
     "output_type": "stream",
     "text": [
      "2021-06-26 19:39:44,076 : INFO : collecting all words and their counts\n",
      "2021-06-26 19:39:44,077 : INFO : PROGRESS: at sentence #0, processed 0 words, keeping 0 word types\n",
      "2021-06-26 19:39:44,094 : INFO : PROGRESS: at sentence #10000, processed 72565 words, keeping 14005 word types\n",
      "2021-06-26 19:39:44,110 : INFO : PROGRESS: at sentence #20000, processed 144393 words, keeping 21587 word types\n",
      "2021-06-26 19:39:44,129 : INFO : PROGRESS: at sentence #30000, processed 215826 words, keeping 27541 word types\n",
      "2021-06-26 19:39:44,145 : INFO : PROGRESS: at sentence #40000, processed 288271 words, keeping 32764 word types\n",
      "2021-06-26 19:39:44,163 : INFO : PROGRESS: at sentence #50000, processed 359772 words, keeping 37587 word types\n",
      "2021-06-26 19:39:44,182 : INFO : PROGRESS: at sentence #60000, processed 431431 words, keeping 42198 word types\n",
      "2021-06-26 19:39:44,199 : INFO : PROGRESS: at sentence #70000, processed 503103 words, keeping 46458 word types\n",
      "2021-06-26 19:39:44,217 : INFO : PROGRESS: at sentence #80000, processed 575709 words, keeping 50476 word types\n",
      "2021-06-26 19:39:44,236 : INFO : PROGRESS: at sentence #90000, processed 647100 words, keeping 54140 word types\n",
      "2021-06-26 19:39:44,253 : INFO : PROGRESS: at sentence #100000, processed 718681 words, keeping 57777 word types\n",
      "2021-06-26 19:39:44,270 : INFO : PROGRESS: at sentence #110000, processed 790696 words, keeping 61207 word types\n",
      "2021-06-26 19:39:44,293 : INFO : PROGRESS: at sentence #120000, processed 863134 words, keeping 64583 word types\n",
      "2021-06-26 19:39:44,311 : INFO : PROGRESS: at sentence #130000, processed 935111 words, keeping 67865 word types\n",
      "2021-06-26 19:39:44,332 : INFO : PROGRESS: at sentence #140000, processed 1006668 words, keeping 70966 word types\n",
      "2021-06-26 19:39:44,349 : INFO : PROGRESS: at sentence #150000, processed 1078512 words, keeping 74119 word types\n",
      "2021-06-26 19:39:44,369 : INFO : PROGRESS: at sentence #160000, processed 1149914 words, keeping 77187 word types\n",
      "2021-06-26 19:39:44,386 : INFO : PROGRESS: at sentence #170000, processed 1222145 words, keeping 80267 word types\n",
      "2021-06-26 19:39:44,405 : INFO : PROGRESS: at sentence #180000, processed 1294708 words, keeping 83393 word types\n",
      "2021-06-26 19:39:44,426 : INFO : PROGRESS: at sentence #190000, processed 1367608 words, keeping 86329 word types\n",
      "2021-06-26 19:39:44,449 : INFO : PROGRESS: at sentence #200000, processed 1439469 words, keeping 89103 word types\n",
      "2021-06-26 19:39:44,473 : INFO : PROGRESS: at sentence #210000, processed 1512099 words, keeping 91840 word types\n",
      "2021-06-26 19:39:44,490 : INFO : PROGRESS: at sentence #220000, processed 1584149 words, keeping 94636 word types\n",
      "2021-06-26 19:39:44,510 : INFO : PROGRESS: at sentence #230000, processed 1656354 words, keeping 97353 word types\n",
      "2021-06-26 19:39:44,528 : INFO : PROGRESS: at sentence #240000, processed 1728573 words, keeping 99975 word types\n",
      "2021-06-26 19:39:44,549 : INFO : PROGRESS: at sentence #250000, processed 1801102 words, keeping 102594 word types\n",
      "2021-06-26 19:39:44,569 : INFO : PROGRESS: at sentence #260000, processed 1873103 words, keeping 105162 word types\n",
      "2021-06-26 19:39:44,587 : INFO : PROGRESS: at sentence #270000, processed 1945245 words, keeping 107626 word types\n",
      "2021-06-26 19:39:44,605 : INFO : PROGRESS: at sentence #280000, processed 2017163 words, keeping 110141 word types\n",
      "2021-06-26 19:39:44,624 : INFO : PROGRESS: at sentence #290000, processed 2089574 words, keeping 112539 word types\n",
      "2021-06-26 19:39:44,641 : INFO : PROGRESS: at sentence #300000, processed 2160996 words, keeping 114893 word types\n",
      "2021-06-26 19:39:44,662 : INFO : PROGRESS: at sentence #310000, processed 2232913 words, keeping 117298 word types\n",
      "2021-06-26 19:39:44,680 : INFO : PROGRESS: at sentence #320000, processed 2305039 words, keeping 119693 word types\n",
      "2021-06-26 19:39:44,700 : INFO : PROGRESS: at sentence #330000, processed 2377119 words, keeping 122131 word types\n",
      "2021-06-26 19:39:44,719 : INFO : PROGRESS: at sentence #340000, processed 2449370 words, keeping 124416 word types\n",
      "2021-06-26 19:39:44,738 : INFO : PROGRESS: at sentence #350000, processed 2521564 words, keeping 126669 word types\n",
      "2021-06-26 19:39:44,758 : INFO : PROGRESS: at sentence #360000, processed 2593681 words, keeping 128912 word types\n",
      "2021-06-26 19:39:44,777 : INFO : PROGRESS: at sentence #370000, processed 2665692 words, keeping 131135 word types\n",
      "2021-06-26 19:39:44,798 : INFO : PROGRESS: at sentence #380000, processed 2737859 words, keeping 133403 word types\n",
      "2021-06-26 19:39:44,815 : INFO : PROGRESS: at sentence #390000, processed 2809848 words, keeping 135551 word types\n",
      "2021-06-26 19:39:44,835 : INFO : PROGRESS: at sentence #400000, processed 2882438 words, keeping 137742 word types\n",
      "2021-06-26 19:39:44,853 : INFO : PROGRESS: at sentence #410000, processed 2954075 words, keeping 139909 word types\n",
      "2021-06-26 19:39:44,870 : INFO : PROGRESS: at sentence #420000, processed 3026247 words, keeping 142144 word types\n",
      "2021-06-26 19:39:44,891 : INFO : PROGRESS: at sentence #430000, processed 3098659 words, keeping 144364 word types\n",
      "2021-06-26 19:39:44,910 : INFO : PROGRESS: at sentence #440000, processed 3170663 words, keeping 146439 word types\n",
      "2021-06-26 19:39:44,930 : INFO : PROGRESS: at sentence #450000, processed 3243344 words, keeping 148526 word types\n",
      "2021-06-26 19:39:44,948 : INFO : PROGRESS: at sentence #460000, processed 3315466 words, keeping 150610 word types\n",
      "2021-06-26 19:39:44,967 : INFO : PROGRESS: at sentence #470000, processed 3388295 words, keeping 152737 word types\n",
      "2021-06-26 19:39:44,986 : INFO : PROGRESS: at sentence #480000, processed 3460120 words, keeping 154757 word types\n",
      "2021-06-26 19:39:45,004 : INFO : PROGRESS: at sentence #490000, processed 3531883 words, keeping 156825 word types\n",
      "2021-06-26 19:39:45,023 : INFO : PROGRESS: at sentence #500000, processed 3604217 words, keeping 158859 word types\n",
      "2021-06-26 19:39:45,041 : INFO : PROGRESS: at sentence #510000, processed 3676427 words, keeping 160852 word types\n",
      "2021-06-26 19:39:45,060 : INFO : PROGRESS: at sentence #520000, processed 3749045 words, keeping 162863 word types\n",
      "2021-06-26 19:39:45,078 : INFO : PROGRESS: at sentence #530000, processed 3821622 words, keeping 164929 word types\n",
      "2021-06-26 19:39:45,097 : INFO : PROGRESS: at sentence #540000, processed 3893627 words, keeping 166840 word types\n",
      "2021-06-26 19:39:45,114 : INFO : PROGRESS: at sentence #550000, processed 3965477 words, keeping 168799 word types\n",
      "2021-06-26 19:39:45,133 : INFO : PROGRESS: at sentence #560000, processed 4038050 words, keeping 170802 word types\n",
      "2021-06-26 19:39:45,152 : INFO : PROGRESS: at sentence #570000, processed 4110296 words, keeping 172760 word types\n",
      "2021-06-26 19:39:45,170 : INFO : PROGRESS: at sentence #580000, processed 4182385 words, keeping 174635 word types\n",
      "2021-06-26 19:39:45,193 : INFO : PROGRESS: at sentence #590000, processed 4254632 words, keeping 176470 word types\n",
      "2021-06-26 19:39:45,214 : INFO : PROGRESS: at sentence #600000, processed 4326859 words, keeping 178350 word types\n",
      "2021-06-26 19:39:45,231 : INFO : PROGRESS: at sentence #610000, processed 4399183 words, keeping 180290 word types\n",
      "2021-06-26 19:39:45,251 : INFO : PROGRESS: at sentence #620000, processed 4471343 words, keeping 182129 word types\n",
      "2021-06-26 19:39:45,269 : INFO : PROGRESS: at sentence #630000, processed 4543286 words, keeping 184005 word types\n",
      "2021-06-26 19:39:45,290 : INFO : PROGRESS: at sentence #640000, processed 4615780 words, keeping 185835 word types\n",
      "2021-06-26 19:39:45,309 : INFO : PROGRESS: at sentence #650000, processed 4688481 words, keeping 187705 word types\n",
      "2021-06-26 19:39:45,336 : INFO : PROGRESS: at sentence #660000, processed 4760481 words, keeping 189439 word types\n",
      "2021-06-26 19:39:45,354 : INFO : PROGRESS: at sentence #670000, processed 4833024 words, keeping 191232 word types\n",
      "2021-06-26 19:39:45,373 : INFO : PROGRESS: at sentence #680000, processed 4904516 words, keeping 193177 word types\n",
      "2021-06-26 19:39:45,391 : INFO : PROGRESS: at sentence #690000, processed 4976968 words, keeping 194960 word types\n",
      "2021-06-26 19:39:45,410 : INFO : PROGRESS: at sentence #700000, processed 5049412 words, keeping 196725 word types\n",
      "2021-06-26 19:39:45,428 : INFO : PROGRESS: at sentence #710000, processed 5121976 words, keeping 198516 word types\n"
     ]
    },
    {
     "name": "stderr",
     "output_type": "stream",
     "text": [
      "2021-06-26 19:39:45,446 : INFO : PROGRESS: at sentence #720000, processed 5193881 words, keeping 200325 word types\n",
      "2021-06-26 19:39:45,463 : INFO : PROGRESS: at sentence #730000, processed 5265467 words, keeping 202133 word types\n",
      "2021-06-26 19:39:45,481 : INFO : PROGRESS: at sentence #740000, processed 5337518 words, keeping 203818 word types\n",
      "2021-06-26 19:39:45,499 : INFO : PROGRESS: at sentence #750000, processed 5409321 words, keeping 205535 word types\n",
      "2021-06-26 19:39:45,519 : INFO : PROGRESS: at sentence #760000, processed 5481512 words, keeping 207282 word types\n",
      "2021-06-26 19:39:45,539 : INFO : PROGRESS: at sentence #770000, processed 5554093 words, keeping 209076 word types\n",
      "2021-06-26 19:39:45,556 : INFO : PROGRESS: at sentence #780000, processed 5625382 words, keeping 210805 word types\n",
      "2021-06-26 19:39:45,575 : INFO : PROGRESS: at sentence #790000, processed 5698066 words, keeping 212618 word types\n",
      "2021-06-26 19:39:45,592 : INFO : PROGRESS: at sentence #800000, processed 5770880 words, keeping 214374 word types\n",
      "2021-06-26 19:39:45,612 : INFO : PROGRESS: at sentence #810000, processed 5843418 words, keeping 216009 word types\n",
      "2021-06-26 19:39:45,628 : INFO : PROGRESS: at sentence #820000, processed 5915628 words, keeping 217804 word types\n",
      "2021-06-26 19:39:45,647 : INFO : PROGRESS: at sentence #830000, processed 5987499 words, keeping 219585 word types\n",
      "2021-06-26 19:39:45,665 : INFO : PROGRESS: at sentence #840000, processed 6058973 words, keeping 221344 word types\n",
      "2021-06-26 19:39:45,682 : INFO : PROGRESS: at sentence #850000, processed 6131125 words, keeping 223002 word types\n",
      "2021-06-26 19:39:45,701 : INFO : PROGRESS: at sentence #860000, processed 6202951 words, keeping 224643 word types\n",
      "2021-06-26 19:39:45,719 : INFO : PROGRESS: at sentence #870000, processed 6275461 words, keeping 226362 word types\n",
      "2021-06-26 19:39:45,737 : INFO : PROGRESS: at sentence #880000, processed 6347661 words, keeping 227986 word types\n",
      "2021-06-26 19:39:45,755 : INFO : PROGRESS: at sentence #890000, processed 6419806 words, keeping 229634 word types\n",
      "2021-06-26 19:39:45,775 : INFO : PROGRESS: at sentence #900000, processed 6491644 words, keeping 231389 word types\n",
      "2021-06-26 19:39:45,796 : INFO : PROGRESS: at sentence #910000, processed 6564022 words, keeping 233050 word types\n",
      "2021-06-26 19:39:45,818 : INFO : PROGRESS: at sentence #920000, processed 6636228 words, keeping 234686 word types\n",
      "2021-06-26 19:39:45,837 : INFO : PROGRESS: at sentence #930000, processed 6708573 words, keeping 236393 word types\n",
      "2021-06-26 19:39:45,859 : INFO : PROGRESS: at sentence #940000, processed 6779956 words, keeping 238052 word types\n",
      "2021-06-26 19:39:45,876 : INFO : PROGRESS: at sentence #950000, processed 6852599 words, keeping 239716 word types\n",
      "2021-06-26 19:39:45,896 : INFO : PROGRESS: at sentence #960000, processed 6924717 words, keeping 241354 word types\n",
      "2021-06-26 19:39:45,912 : INFO : PROGRESS: at sentence #970000, processed 6996992 words, keeping 242980 word types\n",
      "2021-06-26 19:39:45,931 : INFO : PROGRESS: at sentence #980000, processed 7068402 words, keeping 244646 word types\n",
      "2021-06-26 19:39:45,949 : INFO : PROGRESS: at sentence #990000, processed 7140346 words, keeping 246186 word types\n",
      "2021-06-26 19:39:45,968 : INFO : PROGRESS: at sentence #1000000, processed 7211757 words, keeping 247726 word types\n",
      "2021-06-26 19:39:45,986 : INFO : PROGRESS: at sentence #1010000, processed 7283267 words, keeping 249288 word types\n",
      "2021-06-26 19:39:46,006 : INFO : PROGRESS: at sentence #1020000, processed 7355299 words, keeping 250860 word types\n",
      "2021-06-26 19:39:46,022 : INFO : PROGRESS: at sentence #1030000, processed 7426918 words, keeping 252366 word types\n",
      "2021-06-26 19:39:46,041 : INFO : PROGRESS: at sentence #1040000, processed 7498815 words, keeping 253930 word types\n",
      "2021-06-26 19:39:46,058 : INFO : PROGRESS: at sentence #1050000, processed 7570499 words, keeping 255471 word types\n",
      "2021-06-26 19:39:46,076 : INFO : PROGRESS: at sentence #1060000, processed 7643251 words, keeping 257035 word types\n",
      "2021-06-26 19:39:46,096 : INFO : PROGRESS: at sentence #1070000, processed 7714721 words, keeping 258509 word types\n",
      "2021-06-26 19:39:46,114 : INFO : PROGRESS: at sentence #1080000, processed 7787371 words, keeping 260071 word types\n",
      "2021-06-26 19:39:46,134 : INFO : PROGRESS: at sentence #1090000, processed 7859336 words, keeping 261683 word types\n",
      "2021-06-26 19:39:46,151 : INFO : PROGRESS: at sentence #1100000, processed 7932029 words, keeping 263278 word types\n",
      "2021-06-26 19:39:46,169 : INFO : PROGRESS: at sentence #1110000, processed 8004146 words, keeping 264800 word types\n",
      "2021-06-26 19:39:46,187 : INFO : PROGRESS: at sentence #1120000, processed 8075880 words, keeping 266309 word types\n",
      "2021-06-26 19:39:46,206 : INFO : PROGRESS: at sentence #1130000, processed 8148163 words, keeping 267826 word types\n",
      "2021-06-26 19:39:46,223 : INFO : PROGRESS: at sentence #1140000, processed 8220487 words, keeping 269391 word types\n",
      "2021-06-26 19:39:46,240 : INFO : PROGRESS: at sentence #1150000, processed 8292498 words, keeping 270894 word types\n",
      "2021-06-26 19:39:46,259 : INFO : PROGRESS: at sentence #1160000, processed 8363838 words, keeping 272400 word types\n",
      "2021-06-26 19:39:46,276 : INFO : PROGRESS: at sentence #1170000, processed 8435510 words, keeping 273970 word types\n",
      "2021-06-26 19:39:46,295 : INFO : PROGRESS: at sentence #1180000, processed 8507795 words, keeping 275521 word types\n",
      "2021-06-26 19:39:46,314 : INFO : PROGRESS: at sentence #1190000, processed 8579080 words, keeping 277007 word types\n",
      "2021-06-26 19:39:46,333 : INFO : PROGRESS: at sentence #1200000, processed 8650606 words, keeping 278457 word types\n",
      "2021-06-26 19:39:46,349 : INFO : PROGRESS: at sentence #1210000, processed 8721893 words, keeping 279959 word types\n",
      "2021-06-26 19:39:46,369 : INFO : PROGRESS: at sentence #1220000, processed 8793795 words, keeping 281427 word types\n",
      "2021-06-26 19:39:46,387 : INFO : PROGRESS: at sentence #1230000, processed 8865726 words, keeping 282981 word types\n",
      "2021-06-26 19:39:46,412 : INFO : PROGRESS: at sentence #1240000, processed 8938173 words, keeping 284542 word types\n",
      "2021-06-26 19:39:46,431 : INFO : PROGRESS: at sentence #1250000, processed 9010842 words, keeping 286064 word types\n",
      "2021-06-26 19:39:46,450 : INFO : PROGRESS: at sentence #1260000, processed 9083261 words, keeping 287521 word types\n",
      "2021-06-26 19:39:46,471 : INFO : PROGRESS: at sentence #1270000, processed 9155616 words, keeping 288987 word types\n",
      "2021-06-26 19:39:46,491 : INFO : collected 290418 word types from a corpus of 9227204 raw words and 1280000 sentences\n",
      "2021-06-26 19:39:46,493 : INFO : Creating a fresh vocabulary\n",
      "2021-06-26 19:39:46,694 : INFO : Word2Vec lifecycle event {'msg': 'effective_min_count=10 retains 30369 unique words (10.456996467161126%% of original 290418, drops 260049)', 'datetime': '2021-06-26T19:39:46.694648', 'gensim': '4.0.1', 'python': '3.8.8 (default, Apr 13 2021, 15:08:03) [MSC v.1916 64 bit (AMD64)]', 'platform': 'Windows-10-10.0.19041-SP0', 'event': 'prepare_vocab'}\n",
      "2021-06-26 19:39:46,695 : INFO : Word2Vec lifecycle event {'msg': 'effective_min_count=10 leaves 8780739 word corpus (95.16142701516083%% of original 9227204, drops 446465)', 'datetime': '2021-06-26T19:39:46.695648', 'gensim': '4.0.1', 'python': '3.8.8 (default, Apr 13 2021, 15:08:03) [MSC v.1916 64 bit (AMD64)]', 'platform': 'Windows-10-10.0.19041-SP0', 'event': 'prepare_vocab'}\n",
      "2021-06-26 19:39:46,861 : INFO : deleting the raw counts dictionary of 290418 items\n",
      "2021-06-26 19:39:46,867 : INFO : sample=0.001 downsamples 45 most-common words\n",
      "2021-06-26 19:39:46,867 : INFO : Word2Vec lifecycle event {'msg': 'downsampling leaves estimated 8222658.616429881 word corpus (93.6%% of prior 8780739)', 'datetime': '2021-06-26T19:39:46.867680', 'gensim': '4.0.1', 'python': '3.8.8 (default, Apr 13 2021, 15:08:03) [MSC v.1916 64 bit (AMD64)]', 'platform': 'Windows-10-10.0.19041-SP0', 'event': 'prepare_vocab'}\n",
      "2021-06-26 19:39:47,137 : INFO : estimated required memory for 30369 words and 300 dimensions: 88070100 bytes\n",
      "2021-06-26 19:39:47,138 : INFO : resetting layer weights\n",
      "2021-06-26 19:39:47,175 : INFO : Word2Vec lifecycle event {'update': False, 'trim_rule': 'None', 'datetime': '2021-06-26T19:39:47.175646', 'gensim': '4.0.1', 'python': '3.8.8 (default, Apr 13 2021, 15:08:03) [MSC v.1916 64 bit (AMD64)]', 'platform': 'Windows-10-10.0.19041-SP0', 'event': 'build_vocab'}\n"
     ]
    }
   ],
   "source": [
    "w2v_model.build_vocab(documents)"
   ]
  },
  {
   "cell_type": "code",
   "execution_count": 16,
   "metadata": {},
   "outputs": [
    {
     "name": "stdout",
     "output_type": "stream",
     "text": [
      "Vocab size 30369\n"
     ]
    }
   ],
   "source": [
    "# words = w2v_model.wv.vocab.keys()\n",
    "words = w2v_model.wv.key_to_index\n",
    "vocab_size = len(words)\n",
    "print(\"Vocab size\", vocab_size)"
   ]
  },
  {
   "cell_type": "code",
   "execution_count": 17,
   "metadata": {
    "scrolled": true
   },
   "outputs": [
    {
     "name": "stderr",
     "output_type": "stream",
     "text": [
      "2021-06-26 19:39:47,208 : INFO : Word2Vec lifecycle event {'msg': 'training model with 8 workers on 30369 vocabulary and 300 features, using sg=0 hs=0 sample=0.001 negative=5 window=7', 'datetime': '2021-06-26T19:39:47.208649', 'gensim': '4.0.1', 'python': '3.8.8 (default, Apr 13 2021, 15:08:03) [MSC v.1916 64 bit (AMD64)]', 'platform': 'Windows-10-10.0.19041-SP0', 'event': 'train'}\n",
      "2021-06-26 19:39:48,230 : INFO : EPOCH 1 - PROGRESS: at 16.38% examples, 1338107 words/s, in_qsize 16, out_qsize 0\n",
      "2021-06-26 19:39:49,231 : INFO : EPOCH 1 - PROGRESS: at 34.46% examples, 1411274 words/s, in_qsize 15, out_qsize 0\n",
      "2021-06-26 19:39:50,235 : INFO : EPOCH 1 - PROGRESS: at 52.95% examples, 1447055 words/s, in_qsize 15, out_qsize 0\n",
      "2021-06-26 19:39:51,245 : INFO : EPOCH 1 - PROGRESS: at 70.27% examples, 1438325 words/s, in_qsize 16, out_qsize 0\n",
      "2021-06-26 19:39:52,245 : INFO : EPOCH 1 - PROGRESS: at 87.94% examples, 1440621 words/s, in_qsize 15, out_qsize 0\n",
      "2021-06-26 19:39:52,866 : INFO : worker thread finished; awaiting finish of 7 more threads\n",
      "2021-06-26 19:39:52,868 : INFO : worker thread finished; awaiting finish of 6 more threads\n",
      "2021-06-26 19:39:52,868 : INFO : worker thread finished; awaiting finish of 5 more threads\n",
      "2021-06-26 19:39:52,886 : INFO : worker thread finished; awaiting finish of 4 more threads\n",
      "2021-06-26 19:39:52,888 : INFO : worker thread finished; awaiting finish of 3 more threads\n",
      "2021-06-26 19:39:52,890 : INFO : worker thread finished; awaiting finish of 2 more threads\n",
      "2021-06-26 19:39:52,893 : INFO : worker thread finished; awaiting finish of 1 more threads\n",
      "2021-06-26 19:39:52,896 : INFO : worker thread finished; awaiting finish of 0 more threads\n",
      "2021-06-26 19:39:52,897 : INFO : EPOCH - 1 : training on 9227204 raw words (8223019 effective words) took 5.7s, 1449573 effective words/s\n",
      "2021-06-26 19:39:53,925 : INFO : EPOCH 2 - PROGRESS: at 17.13% examples, 1393712 words/s, in_qsize 15, out_qsize 0\n",
      "2021-06-26 19:39:54,937 : INFO : EPOCH 2 - PROGRESS: at 34.46% examples, 1400571 words/s, in_qsize 15, out_qsize 0\n",
      "2021-06-26 19:39:55,945 : INFO : EPOCH 2 - PROGRESS: at 51.32% examples, 1393473 words/s, in_qsize 15, out_qsize 0\n",
      "2021-06-26 19:39:56,960 : INFO : EPOCH 2 - PROGRESS: at 68.96% examples, 1402929 words/s, in_qsize 16, out_qsize 0\n",
      "2021-06-26 19:39:57,960 : INFO : EPOCH 2 - PROGRESS: at 86.31% examples, 1407245 words/s, in_qsize 15, out_qsize 0\n",
      "2021-06-26 19:39:58,715 : INFO : worker thread finished; awaiting finish of 7 more threads\n",
      "2021-06-26 19:39:58,717 : INFO : worker thread finished; awaiting finish of 6 more threads\n",
      "2021-06-26 19:39:58,718 : INFO : worker thread finished; awaiting finish of 5 more threads\n",
      "2021-06-26 19:39:58,729 : INFO : worker thread finished; awaiting finish of 4 more threads\n",
      "2021-06-26 19:39:58,730 : INFO : worker thread finished; awaiting finish of 3 more threads\n",
      "2021-06-26 19:39:58,736 : INFO : worker thread finished; awaiting finish of 2 more threads\n",
      "2021-06-26 19:39:58,739 : INFO : worker thread finished; awaiting finish of 1 more threads\n",
      "2021-06-26 19:39:58,743 : INFO : worker thread finished; awaiting finish of 0 more threads\n",
      "2021-06-26 19:39:58,744 : INFO : EPOCH - 2 : training on 9227204 raw words (8222268 effective words) took 5.8s, 1410696 effective words/s\n",
      "2021-06-26 19:39:59,767 : INFO : EPOCH 3 - PROGRESS: at 15.73% examples, 1287063 words/s, in_qsize 15, out_qsize 0\n",
      "2021-06-26 19:40:00,781 : INFO : EPOCH 3 - PROGRESS: at 29.70% examples, 1210109 words/s, in_qsize 15, out_qsize 0\n",
      "2021-06-26 19:40:01,782 : INFO : EPOCH 3 - PROGRESS: at 41.59% examples, 1133143 words/s, in_qsize 15, out_qsize 0\n",
      "2021-06-26 19:40:02,789 : INFO : EPOCH 3 - PROGRESS: at 55.32% examples, 1130970 words/s, in_qsize 16, out_qsize 0\n",
      "2021-06-26 19:40:03,790 : INFO : EPOCH 3 - PROGRESS: at 68.10% examples, 1114684 words/s, in_qsize 16, out_qsize 1\n",
      "2021-06-26 19:40:04,801 : INFO : EPOCH 3 - PROGRESS: at 82.21% examples, 1119812 words/s, in_qsize 15, out_qsize 0\n",
      "2021-06-26 19:40:05,811 : INFO : EPOCH 3 - PROGRESS: at 95.66% examples, 1115977 words/s, in_qsize 15, out_qsize 0\n",
      "2021-06-26 19:40:06,112 : INFO : worker thread finished; awaiting finish of 7 more threads\n",
      "2021-06-26 19:40:06,117 : INFO : worker thread finished; awaiting finish of 6 more threads\n",
      "2021-06-26 19:40:06,119 : INFO : worker thread finished; awaiting finish of 5 more threads\n",
      "2021-06-26 19:40:06,127 : INFO : worker thread finished; awaiting finish of 4 more threads\n",
      "2021-06-26 19:40:06,129 : INFO : worker thread finished; awaiting finish of 3 more threads\n",
      "2021-06-26 19:40:06,133 : INFO : worker thread finished; awaiting finish of 2 more threads\n",
      "2021-06-26 19:40:06,141 : INFO : worker thread finished; awaiting finish of 1 more threads\n",
      "2021-06-26 19:40:06,162 : INFO : worker thread finished; awaiting finish of 0 more threads\n",
      "2021-06-26 19:40:06,163 : INFO : EPOCH - 3 : training on 9227204 raw words (8222451 effective words) took 7.4s, 1111153 effective words/s\n",
      "2021-06-26 19:40:07,184 : INFO : EPOCH 4 - PROGRESS: at 12.17% examples, 997157 words/s, in_qsize 15, out_qsize 0\n",
      "2021-06-26 19:40:08,185 : INFO : EPOCH 4 - PROGRESS: at 26.34% examples, 1081378 words/s, in_qsize 15, out_qsize 0\n",
      "2021-06-26 19:40:09,198 : INFO : EPOCH 4 - PROGRESS: at 40.19% examples, 1096030 words/s, in_qsize 15, out_qsize 0\n",
      "2021-06-26 19:40:10,200 : INFO : EPOCH 4 - PROGRESS: at 53.92% examples, 1104339 words/s, in_qsize 16, out_qsize 0\n",
      "2021-06-26 19:40:11,206 : INFO : EPOCH 4 - PROGRESS: at 68.32% examples, 1119081 words/s, in_qsize 15, out_qsize 0\n",
      "2021-06-26 19:40:12,212 : INFO : EPOCH 4 - PROGRESS: at 82.74% examples, 1128777 words/s, in_qsize 15, out_qsize 0\n",
      "2021-06-26 19:40:13,217 : INFO : EPOCH 4 - PROGRESS: at 97.18% examples, 1135934 words/s, in_qsize 15, out_qsize 0\n",
      "2021-06-26 19:40:13,354 : INFO : worker thread finished; awaiting finish of 7 more threads\n",
      "2021-06-26 19:40:13,358 : INFO : worker thread finished; awaiting finish of 6 more threads\n",
      "2021-06-26 19:40:13,359 : INFO : worker thread finished; awaiting finish of 5 more threads\n",
      "2021-06-26 19:40:13,361 : INFO : worker thread finished; awaiting finish of 4 more threads\n",
      "2021-06-26 19:40:13,363 : INFO : worker thread finished; awaiting finish of 3 more threads\n",
      "2021-06-26 19:40:13,378 : INFO : worker thread finished; awaiting finish of 2 more threads\n",
      "2021-06-26 19:40:13,383 : INFO : worker thread finished; awaiting finish of 1 more threads\n",
      "2021-06-26 19:40:13,388 : INFO : worker thread finished; awaiting finish of 0 more threads\n",
      "2021-06-26 19:40:13,389 : INFO : EPOCH - 4 : training on 9227204 raw words (8222374 effective words) took 7.2s, 1141139 effective words/s\n",
      "2021-06-26 19:40:14,406 : INFO : EPOCH 5 - PROGRESS: at 13.68% examples, 1119252 words/s, in_qsize 15, out_qsize 0\n",
      "2021-06-26 19:40:15,413 : INFO : EPOCH 5 - PROGRESS: at 28.07% examples, 1147863 words/s, in_qsize 14, out_qsize 1\n",
      "2021-06-26 19:40:16,416 : INFO : EPOCH 5 - PROGRESS: at 42.46% examples, 1159134 words/s, in_qsize 15, out_qsize 0\n",
      "2021-06-26 19:40:17,423 : INFO : EPOCH 5 - PROGRESS: at 57.49% examples, 1176760 words/s, in_qsize 15, out_qsize 0\n",
      "2021-06-26 19:40:18,433 : INFO : EPOCH 5 - PROGRESS: at 71.02% examples, 1161860 words/s, in_qsize 15, out_qsize 0\n",
      "2021-06-26 19:40:19,435 : INFO : EPOCH 5 - PROGRESS: at 84.59% examples, 1153316 words/s, in_qsize 16, out_qsize 0\n",
      "2021-06-26 19:40:20,440 : INFO : EPOCH 5 - PROGRESS: at 97.93% examples, 1144284 words/s, in_qsize 15, out_qsize 0\n",
      "2021-06-26 19:40:20,526 : INFO : worker thread finished; awaiting finish of 7 more threads\n",
      "2021-06-26 19:40:20,529 : INFO : worker thread finished; awaiting finish of 6 more threads\n",
      "2021-06-26 19:40:20,539 : INFO : worker thread finished; awaiting finish of 5 more threads\n",
      "2021-06-26 19:40:20,541 : INFO : worker thread finished; awaiting finish of 4 more threads\n",
      "2021-06-26 19:40:20,547 : INFO : worker thread finished; awaiting finish of 3 more threads\n",
      "2021-06-26 19:40:20,554 : INFO : worker thread finished; awaiting finish of 2 more threads\n",
      "2021-06-26 19:40:20,563 : INFO : worker thread finished; awaiting finish of 1 more threads\n",
      "2021-06-26 19:40:20,565 : INFO : worker thread finished; awaiting finish of 0 more threads\n",
      "2021-06-26 19:40:20,566 : INFO : EPOCH - 5 : training on 9227204 raw words (8222712 effective words) took 7.2s, 1147813 effective words/s\n"
     ]
    },
    {
     "name": "stderr",
     "output_type": "stream",
     "text": [
      "2021-06-26 19:40:21,601 : INFO : EPOCH 6 - PROGRESS: at 13.14% examples, 1068452 words/s, in_qsize 15, out_qsize 0\n",
      "2021-06-26 19:40:22,608 : INFO : EPOCH 6 - PROGRESS: at 27.64% examples, 1127468 words/s, in_qsize 15, out_qsize 0\n",
      "2021-06-26 19:40:23,615 : INFO : EPOCH 6 - PROGRESS: at 42.46% examples, 1155349 words/s, in_qsize 16, out_qsize 0\n",
      "2021-06-26 19:40:24,617 : INFO : EPOCH 6 - PROGRESS: at 56.84% examples, 1162211 words/s, in_qsize 15, out_qsize 0\n",
      "2021-06-26 19:40:25,628 : INFO : EPOCH 6 - PROGRESS: at 70.91% examples, 1159007 words/s, in_qsize 15, out_qsize 0\n",
      "2021-06-26 19:40:26,634 : INFO : EPOCH 6 - PROGRESS: at 83.72% examples, 1139733 words/s, in_qsize 16, out_qsize 0\n",
      "2021-06-26 19:40:27,642 : INFO : EPOCH 6 - PROGRESS: at 96.85% examples, 1129621 words/s, in_qsize 15, out_qsize 0\n",
      "2021-06-26 19:40:27,819 : INFO : worker thread finished; awaiting finish of 7 more threads\n",
      "2021-06-26 19:40:27,824 : INFO : worker thread finished; awaiting finish of 6 more threads\n",
      "2021-06-26 19:40:27,831 : INFO : worker thread finished; awaiting finish of 5 more threads\n",
      "2021-06-26 19:40:27,832 : INFO : worker thread finished; awaiting finish of 4 more threads\n",
      "2021-06-26 19:40:27,838 : INFO : worker thread finished; awaiting finish of 3 more threads\n",
      "2021-06-26 19:40:27,841 : INFO : worker thread finished; awaiting finish of 2 more threads\n",
      "2021-06-26 19:40:27,852 : INFO : worker thread finished; awaiting finish of 1 more threads\n",
      "2021-06-26 19:40:27,860 : INFO : worker thread finished; awaiting finish of 0 more threads\n",
      "2021-06-26 19:40:27,861 : INFO : EPOCH - 6 : training on 9227204 raw words (8224058 effective words) took 7.3s, 1131382 effective words/s\n",
      "2021-06-26 19:40:28,903 : INFO : EPOCH 7 - PROGRESS: at 14.22% examples, 1150934 words/s, in_qsize 15, out_qsize 0\n",
      "2021-06-26 19:40:29,908 : INFO : EPOCH 7 - PROGRESS: at 28.83% examples, 1174172 words/s, in_qsize 14, out_qsize 1\n",
      "2021-06-26 19:40:30,911 : INFO : EPOCH 7 - PROGRESS: at 43.00% examples, 1170341 words/s, in_qsize 14, out_qsize 1\n",
      "2021-06-26 19:40:31,913 : INFO : EPOCH 7 - PROGRESS: at 57.16% examples, 1169387 words/s, in_qsize 15, out_qsize 0\n",
      "2021-06-26 19:40:32,918 : INFO : EPOCH 7 - PROGRESS: at 71.45% examples, 1169417 words/s, in_qsize 15, out_qsize 0\n",
      "2021-06-26 19:40:33,922 : INFO : EPOCH 7 - PROGRESS: at 85.88% examples, 1171074 words/s, in_qsize 16, out_qsize 1\n",
      "2021-06-26 19:40:34,909 : INFO : worker thread finished; awaiting finish of 7 more threads\n",
      "2021-06-26 19:40:34,911 : INFO : worker thread finished; awaiting finish of 6 more threads\n",
      "2021-06-26 19:40:34,914 : INFO : worker thread finished; awaiting finish of 5 more threads\n",
      "2021-06-26 19:40:34,919 : INFO : worker thread finished; awaiting finish of 4 more threads\n",
      "2021-06-26 19:40:34,929 : INFO : EPOCH 7 - PROGRESS: at 99.67% examples, 1164149 words/s, in_qsize 3, out_qsize 1\n",
      "2021-06-26 19:40:34,931 : INFO : worker thread finished; awaiting finish of 3 more threads\n",
      "2021-06-26 19:40:34,933 : INFO : worker thread finished; awaiting finish of 2 more threads\n",
      "2021-06-26 19:40:34,938 : INFO : worker thread finished; awaiting finish of 1 more threads\n",
      "2021-06-26 19:40:34,947 : INFO : worker thread finished; awaiting finish of 0 more threads\n",
      "2021-06-26 19:40:34,949 : INFO : EPOCH - 7 : training on 9227204 raw words (8222869 effective words) took 7.1s, 1164754 effective words/s\n",
      "2021-06-26 19:40:35,972 : INFO : EPOCH 8 - PROGRESS: at 13.90% examples, 1128755 words/s, in_qsize 15, out_qsize 0\n",
      "2021-06-26 19:40:36,975 : INFO : EPOCH 8 - PROGRESS: at 27.96% examples, 1141652 words/s, in_qsize 15, out_qsize 0\n",
      "2021-06-26 19:40:37,980 : INFO : EPOCH 8 - PROGRESS: at 43.00% examples, 1171749 words/s, in_qsize 15, out_qsize 0\n",
      "2021-06-26 19:40:38,987 : INFO : EPOCH 8 - PROGRESS: at 58.26% examples, 1190888 words/s, in_qsize 15, out_qsize 0\n",
      "2021-06-26 19:40:39,988 : INFO : EPOCH 8 - PROGRESS: at 72.75% examples, 1191156 words/s, in_qsize 14, out_qsize 1\n",
      "2021-06-26 19:40:40,993 : INFO : EPOCH 8 - PROGRESS: at 87.07% examples, 1187602 words/s, in_qsize 15, out_qsize 0\n",
      "2021-06-26 19:40:41,800 : INFO : worker thread finished; awaiting finish of 7 more threads\n",
      "2021-06-26 19:40:41,806 : INFO : worker thread finished; awaiting finish of 6 more threads\n",
      "2021-06-26 19:40:41,814 : INFO : worker thread finished; awaiting finish of 5 more threads\n",
      "2021-06-26 19:40:41,817 : INFO : worker thread finished; awaiting finish of 4 more threads\n",
      "2021-06-26 19:40:41,821 : INFO : worker thread finished; awaiting finish of 3 more threads\n",
      "2021-06-26 19:40:41,824 : INFO : worker thread finished; awaiting finish of 2 more threads\n",
      "2021-06-26 19:40:41,831 : INFO : worker thread finished; awaiting finish of 1 more threads\n",
      "2021-06-26 19:40:41,832 : INFO : worker thread finished; awaiting finish of 0 more threads\n",
      "2021-06-26 19:40:41,834 : INFO : EPOCH - 8 : training on 9227204 raw words (8222320 effective words) took 6.9s, 1196598 effective words/s\n",
      "2021-06-26 19:40:42,866 : INFO : EPOCH 9 - PROGRESS: at 14.01% examples, 1141701 words/s, in_qsize 16, out_qsize 0\n",
      "2021-06-26 19:40:43,876 : INFO : EPOCH 9 - PROGRESS: at 28.40% examples, 1157140 words/s, in_qsize 15, out_qsize 0\n",
      "2021-06-26 19:40:44,879 : INFO : EPOCH 9 - PROGRESS: at 43.11% examples, 1174019 words/s, in_qsize 15, out_qsize 0\n",
      "2021-06-26 19:40:45,889 : INFO : EPOCH 9 - PROGRESS: at 57.38% examples, 1171645 words/s, in_qsize 15, out_qsize 0\n",
      "2021-06-26 19:40:46,890 : INFO : EPOCH 9 - PROGRESS: at 71.57% examples, 1170577 words/s, in_qsize 15, out_qsize 0\n",
      "2021-06-26 19:40:47,894 : INFO : EPOCH 9 - PROGRESS: at 83.62% examples, 1139707 words/s, in_qsize 15, out_qsize 0\n",
      "2021-06-26 19:40:48,901 : INFO : EPOCH 9 - PROGRESS: at 96.96% examples, 1132166 words/s, in_qsize 15, out_qsize 0\n",
      "2021-06-26 19:40:49,063 : INFO : worker thread finished; awaiting finish of 7 more threads\n",
      "2021-06-26 19:40:49,071 : INFO : worker thread finished; awaiting finish of 6 more threads\n",
      "2021-06-26 19:40:49,078 : INFO : worker thread finished; awaiting finish of 5 more threads\n",
      "2021-06-26 19:40:49,086 : INFO : worker thread finished; awaiting finish of 4 more threads\n",
      "2021-06-26 19:40:49,091 : INFO : worker thread finished; awaiting finish of 3 more threads\n",
      "2021-06-26 19:40:49,093 : INFO : worker thread finished; awaiting finish of 2 more threads\n",
      "2021-06-26 19:40:49,102 : INFO : worker thread finished; awaiting finish of 1 more threads\n",
      "2021-06-26 19:40:49,104 : INFO : worker thread finished; awaiting finish of 0 more threads\n",
      "2021-06-26 19:40:49,105 : INFO : EPOCH - 9 : training on 9227204 raw words (8223417 effective words) took 7.2s, 1134976 effective words/s\n",
      "2021-06-26 19:40:50,133 : INFO : EPOCH 10 - PROGRESS: at 14.43% examples, 1182994 words/s, in_qsize 15, out_qsize 0\n",
      "2021-06-26 19:40:51,155 : INFO : EPOCH 10 - PROGRESS: at 28.07% examples, 1140278 words/s, in_qsize 15, out_qsize 0\n",
      "2021-06-26 19:40:52,168 : INFO : EPOCH 10 - PROGRESS: at 42.13% examples, 1141347 words/s, in_qsize 15, out_qsize 0\n",
      "2021-06-26 19:40:53,169 : INFO : EPOCH 10 - PROGRESS: at 57.16% examples, 1165168 words/s, in_qsize 15, out_qsize 0\n",
      "2021-06-26 19:40:54,179 : INFO : EPOCH 10 - PROGRESS: at 72.54% examples, 1182627 words/s, in_qsize 16, out_qsize 1\n",
      "2021-06-26 19:40:55,181 : INFO : EPOCH 10 - PROGRESS: at 87.18% examples, 1185561 words/s, in_qsize 14, out_qsize 1\n",
      "2021-06-26 19:40:55,997 : INFO : worker thread finished; awaiting finish of 7 more threads\n",
      "2021-06-26 19:40:56,000 : INFO : worker thread finished; awaiting finish of 6 more threads\n",
      "2021-06-26 19:40:56,001 : INFO : worker thread finished; awaiting finish of 5 more threads\n",
      "2021-06-26 19:40:56,003 : INFO : worker thread finished; awaiting finish of 4 more threads\n",
      "2021-06-26 19:40:56,012 : INFO : worker thread finished; awaiting finish of 3 more threads\n",
      "2021-06-26 19:40:56,025 : INFO : worker thread finished; awaiting finish of 2 more threads\n",
      "2021-06-26 19:40:56,027 : INFO : worker thread finished; awaiting finish of 1 more threads\n",
      "2021-06-26 19:40:56,030 : INFO : worker thread finished; awaiting finish of 0 more threads\n",
      "2021-06-26 19:40:56,032 : INFO : EPOCH - 10 : training on 9227204 raw words (8222449 effective words) took 6.9s, 1191795 effective words/s\n",
      "2021-06-26 19:40:57,051 : INFO : EPOCH 11 - PROGRESS: at 13.79% examples, 1126887 words/s, in_qsize 15, out_qsize 0\n"
     ]
    },
    {
     "name": "stderr",
     "output_type": "stream",
     "text": [
      "2021-06-26 19:40:58,052 : INFO : EPOCH 11 - PROGRESS: at 26.99% examples, 1105636 words/s, in_qsize 15, out_qsize 0\n",
      "2021-06-26 19:40:59,056 : INFO : EPOCH 11 - PROGRESS: at 41.16% examples, 1124599 words/s, in_qsize 15, out_qsize 0\n",
      "2021-06-26 19:41:00,064 : INFO : EPOCH 11 - PROGRESS: at 56.62% examples, 1159794 words/s, in_qsize 15, out_qsize 0\n",
      "2021-06-26 19:41:01,069 : INFO : EPOCH 11 - PROGRESS: at 71.24% examples, 1167289 words/s, in_qsize 15, out_qsize 0\n",
      "2021-06-26 19:41:02,070 : INFO : EPOCH 11 - PROGRESS: at 86.42% examples, 1180160 words/s, in_qsize 16, out_qsize 0\n",
      "2021-06-26 19:41:02,926 : INFO : worker thread finished; awaiting finish of 7 more threads\n",
      "2021-06-26 19:41:02,928 : INFO : worker thread finished; awaiting finish of 6 more threads\n",
      "2021-06-26 19:41:02,940 : INFO : worker thread finished; awaiting finish of 5 more threads\n",
      "2021-06-26 19:41:02,941 : INFO : worker thread finished; awaiting finish of 4 more threads\n",
      "2021-06-26 19:41:02,947 : INFO : worker thread finished; awaiting finish of 3 more threads\n",
      "2021-06-26 19:41:02,950 : INFO : worker thread finished; awaiting finish of 2 more threads\n",
      "2021-06-26 19:41:02,954 : INFO : worker thread finished; awaiting finish of 1 more threads\n",
      "2021-06-26 19:41:02,955 : INFO : worker thread finished; awaiting finish of 0 more threads\n",
      "2021-06-26 19:41:02,956 : INFO : EPOCH - 11 : training on 9227204 raw words (8222647 effective words) took 6.9s, 1190076 effective words/s\n",
      "2021-06-26 19:41:03,986 : INFO : EPOCH 12 - PROGRESS: at 13.68% examples, 1114948 words/s, in_qsize 15, out_qsize 0\n",
      "2021-06-26 19:41:04,988 : INFO : EPOCH 12 - PROGRESS: at 28.94% examples, 1184183 words/s, in_qsize 16, out_qsize 0\n",
      "2021-06-26 19:41:05,991 : INFO : EPOCH 12 - PROGRESS: at 43.86% examples, 1197789 words/s, in_qsize 15, out_qsize 0\n",
      "2021-06-26 19:41:07,004 : INFO : EPOCH 12 - PROGRESS: at 56.95% examples, 1164286 words/s, in_qsize 15, out_qsize 0\n",
      "2021-06-26 19:41:08,009 : INFO : EPOCH 12 - PROGRESS: at 70.69% examples, 1156653 words/s, in_qsize 15, out_qsize 0\n",
      "2021-06-26 19:41:09,013 : INFO : EPOCH 12 - PROGRESS: at 85.77% examples, 1169302 words/s, in_qsize 14, out_qsize 1\n",
      "2021-06-26 19:41:09,890 : INFO : worker thread finished; awaiting finish of 7 more threads\n",
      "2021-06-26 19:41:09,893 : INFO : worker thread finished; awaiting finish of 6 more threads\n",
      "2021-06-26 19:41:09,898 : INFO : worker thread finished; awaiting finish of 5 more threads\n",
      "2021-06-26 19:41:09,900 : INFO : worker thread finished; awaiting finish of 4 more threads\n",
      "2021-06-26 19:41:09,913 : INFO : worker thread finished; awaiting finish of 3 more threads\n",
      "2021-06-26 19:41:09,915 : INFO : worker thread finished; awaiting finish of 2 more threads\n",
      "2021-06-26 19:41:09,921 : INFO : worker thread finished; awaiting finish of 1 more threads\n",
      "2021-06-26 19:41:09,924 : INFO : worker thread finished; awaiting finish of 0 more threads\n",
      "2021-06-26 19:41:09,925 : INFO : EPOCH - 12 : training on 9227204 raw words (8222850 effective words) took 6.9s, 1183787 effective words/s\n",
      "2021-06-26 19:41:10,951 : INFO : EPOCH 13 - PROGRESS: at 14.97% examples, 1228260 words/s, in_qsize 15, out_qsize 0\n",
      "2021-06-26 19:41:11,970 : INFO : EPOCH 13 - PROGRESS: at 30.13% examples, 1226121 words/s, in_qsize 15, out_qsize 0\n",
      "2021-06-26 19:41:12,974 : INFO : EPOCH 13 - PROGRESS: at 44.40% examples, 1207694 words/s, in_qsize 15, out_qsize 0\n",
      "2021-06-26 19:41:13,981 : INFO : EPOCH 13 - PROGRESS: at 58.79% examples, 1199827 words/s, in_qsize 15, out_qsize 0\n",
      "2021-06-26 19:41:14,991 : INFO : EPOCH 13 - PROGRESS: at 74.26% examples, 1212258 words/s, in_qsize 14, out_qsize 1\n",
      "2021-06-26 19:41:15,995 : INFO : EPOCH 13 - PROGRESS: at 89.02% examples, 1211359 words/s, in_qsize 13, out_qsize 2\n",
      "2021-06-26 19:41:16,686 : INFO : worker thread finished; awaiting finish of 7 more threads\n",
      "2021-06-26 19:41:16,700 : INFO : worker thread finished; awaiting finish of 6 more threads\n",
      "2021-06-26 19:41:16,707 : INFO : worker thread finished; awaiting finish of 5 more threads\n",
      "2021-06-26 19:41:16,712 : INFO : worker thread finished; awaiting finish of 4 more threads\n",
      "2021-06-26 19:41:16,714 : INFO : worker thread finished; awaiting finish of 3 more threads\n",
      "2021-06-26 19:41:16,722 : INFO : worker thread finished; awaiting finish of 2 more threads\n",
      "2021-06-26 19:41:16,725 : INFO : worker thread finished; awaiting finish of 1 more threads\n",
      "2021-06-26 19:41:16,726 : INFO : worker thread finished; awaiting finish of 0 more threads\n",
      "2021-06-26 19:41:16,728 : INFO : EPOCH - 13 : training on 9227204 raw words (8222627 effective words) took 6.8s, 1213186 effective words/s\n",
      "2021-06-26 19:41:17,784 : INFO : EPOCH 14 - PROGRESS: at 14.65% examples, 1179747 words/s, in_qsize 16, out_qsize 0\n",
      "2021-06-26 19:41:18,790 : INFO : EPOCH 14 - PROGRESS: at 27.96% examples, 1134629 words/s, in_qsize 15, out_qsize 0\n",
      "2021-06-26 19:41:19,796 : INFO : EPOCH 14 - PROGRESS: at 42.02% examples, 1140360 words/s, in_qsize 15, out_qsize 0\n",
      "2021-06-26 19:41:20,799 : INFO : EPOCH 14 - PROGRESS: at 57.05% examples, 1163767 words/s, in_qsize 16, out_qsize 0\n",
      "2021-06-26 19:41:21,821 : INFO : EPOCH 14 - PROGRESS: at 71.78% examples, 1168162 words/s, in_qsize 15, out_qsize 0\n",
      "2021-06-26 19:41:22,824 : INFO : EPOCH 14 - PROGRESS: at 86.10% examples, 1168772 words/s, in_qsize 15, out_qsize 0\n",
      "2021-06-26 19:41:23,731 : INFO : worker thread finished; awaiting finish of 7 more threads\n",
      "2021-06-26 19:41:23,735 : INFO : worker thread finished; awaiting finish of 6 more threads\n",
      "2021-06-26 19:41:23,751 : INFO : worker thread finished; awaiting finish of 5 more threads\n",
      "2021-06-26 19:41:23,756 : INFO : worker thread finished; awaiting finish of 4 more threads\n",
      "2021-06-26 19:41:23,757 : INFO : worker thread finished; awaiting finish of 3 more threads\n",
      "2021-06-26 19:41:23,759 : INFO : worker thread finished; awaiting finish of 2 more threads\n",
      "2021-06-26 19:41:23,763 : INFO : worker thread finished; awaiting finish of 1 more threads\n",
      "2021-06-26 19:41:23,765 : INFO : worker thread finished; awaiting finish of 0 more threads\n",
      "2021-06-26 19:41:23,766 : INFO : EPOCH - 14 : training on 9227204 raw words (8223066 effective words) took 7.0s, 1174350 effective words/s\n",
      "2021-06-26 19:41:24,796 : INFO : EPOCH 15 - PROGRESS: at 14.43% examples, 1183070 words/s, in_qsize 15, out_qsize 0\n",
      "2021-06-26 19:41:25,799 : INFO : EPOCH 15 - PROGRESS: at 29.16% examples, 1195609 words/s, in_qsize 15, out_qsize 0\n",
      "2021-06-26 19:41:26,813 : INFO : EPOCH 15 - PROGRESS: at 44.40% examples, 1209962 words/s, in_qsize 15, out_qsize 0\n",
      "2021-06-26 19:41:27,818 : INFO : EPOCH 15 - PROGRESS: at 58.79% examples, 1202539 words/s, in_qsize 15, out_qsize 0\n",
      "2021-06-26 19:41:28,818 : INFO : EPOCH 15 - PROGRESS: at 72.32% examples, 1184649 words/s, in_qsize 15, out_qsize 0\n",
      "2021-06-26 19:41:29,820 : INFO : EPOCH 15 - PROGRESS: at 87.94% examples, 1200598 words/s, in_qsize 15, out_qsize 0\n",
      "2021-06-26 19:41:30,564 : INFO : worker thread finished; awaiting finish of 7 more threads\n",
      "2021-06-26 19:41:30,566 : INFO : worker thread finished; awaiting finish of 6 more threads\n",
      "2021-06-26 19:41:30,575 : INFO : worker thread finished; awaiting finish of 5 more threads\n",
      "2021-06-26 19:41:30,580 : INFO : worker thread finished; awaiting finish of 4 more threads\n",
      "2021-06-26 19:41:30,585 : INFO : worker thread finished; awaiting finish of 3 more threads\n",
      "2021-06-26 19:41:30,587 : INFO : worker thread finished; awaiting finish of 2 more threads\n",
      "2021-06-26 19:41:30,591 : INFO : worker thread finished; awaiting finish of 1 more threads\n",
      "2021-06-26 19:41:30,594 : INFO : worker thread finished; awaiting finish of 0 more threads\n",
      "2021-06-26 19:41:30,595 : INFO : EPOCH - 15 : training on 9227204 raw words (8222237 effective words) took 6.8s, 1209055 effective words/s\n",
      "2021-06-26 19:41:31,628 : INFO : EPOCH 16 - PROGRESS: at 14.00% examples, 1139507 words/s, in_qsize 16, out_qsize 0\n",
      "2021-06-26 19:41:32,633 : INFO : EPOCH 16 - PROGRESS: at 29.37% examples, 1199213 words/s, in_qsize 15, out_qsize 0\n",
      "2021-06-26 19:41:33,645 : INFO : EPOCH 16 - PROGRESS: at 45.26% examples, 1230677 words/s, in_qsize 15, out_qsize 0\n",
      "2021-06-26 19:41:34,647 : INFO : EPOCH 16 - PROGRESS: at 60.41% examples, 1234212 words/s, in_qsize 15, out_qsize 0\n",
      "2021-06-26 19:41:35,655 : INFO : EPOCH 16 - PROGRESS: at 76.33% examples, 1247191 words/s, in_qsize 16, out_qsize 1\n"
     ]
    },
    {
     "name": "stderr",
     "output_type": "stream",
     "text": [
      "2021-06-26 19:41:36,655 : INFO : EPOCH 16 - PROGRESS: at 91.20% examples, 1242586 words/s, in_qsize 16, out_qsize 0\n",
      "2021-06-26 19:41:37,169 : INFO : worker thread finished; awaiting finish of 7 more threads\n",
      "2021-06-26 19:41:37,175 : INFO : worker thread finished; awaiting finish of 6 more threads\n",
      "2021-06-26 19:41:37,182 : INFO : worker thread finished; awaiting finish of 5 more threads\n",
      "2021-06-26 19:41:37,194 : INFO : worker thread finished; awaiting finish of 4 more threads\n",
      "2021-06-26 19:41:37,195 : INFO : worker thread finished; awaiting finish of 3 more threads\n",
      "2021-06-26 19:41:37,197 : INFO : worker thread finished; awaiting finish of 2 more threads\n",
      "2021-06-26 19:41:37,201 : INFO : worker thread finished; awaiting finish of 1 more threads\n",
      "2021-06-26 19:41:37,204 : INFO : worker thread finished; awaiting finish of 0 more threads\n",
      "2021-06-26 19:41:37,205 : INFO : EPOCH - 16 : training on 9227204 raw words (8221947 effective words) took 6.6s, 1248457 effective words/s\n",
      "2021-06-26 19:41:38,232 : INFO : EPOCH 17 - PROGRESS: at 14.11% examples, 1154789 words/s, in_qsize 15, out_qsize 0\n",
      "2021-06-26 19:41:39,239 : INFO : EPOCH 17 - PROGRESS: at 28.61% examples, 1170557 words/s, in_qsize 16, out_qsize 0\n",
      "2021-06-26 19:41:40,240 : INFO : EPOCH 17 - PROGRESS: at 44.07% examples, 1204207 words/s, in_qsize 15, out_qsize 0\n",
      "2021-06-26 19:41:41,244 : INFO : EPOCH 17 - PROGRESS: at 59.34% examples, 1216111 words/s, in_qsize 15, out_qsize 0\n",
      "2021-06-26 19:41:42,245 : INFO : EPOCH 17 - PROGRESS: at 74.27% examples, 1218507 words/s, in_qsize 14, out_qsize 3\n",
      "2021-06-26 19:41:43,246 : INFO : EPOCH 17 - PROGRESS: at 89.78% examples, 1227372 words/s, in_qsize 13, out_qsize 2\n",
      "2021-06-26 19:41:43,876 : INFO : worker thread finished; awaiting finish of 7 more threads\n",
      "2021-06-26 19:41:43,878 : INFO : worker thread finished; awaiting finish of 6 more threads\n",
      "2021-06-26 19:41:43,882 : INFO : worker thread finished; awaiting finish of 5 more threads\n",
      "2021-06-26 19:41:43,905 : INFO : worker thread finished; awaiting finish of 4 more threads\n",
      "2021-06-26 19:41:43,908 : INFO : worker thread finished; awaiting finish of 3 more threads\n",
      "2021-06-26 19:41:43,910 : INFO : worker thread finished; awaiting finish of 2 more threads\n",
      "2021-06-26 19:41:43,911 : INFO : worker thread finished; awaiting finish of 1 more threads\n",
      "2021-06-26 19:41:43,912 : INFO : worker thread finished; awaiting finish of 0 more threads\n",
      "2021-06-26 19:41:43,913 : INFO : EPOCH - 17 : training on 9227204 raw words (8223074 effective words) took 6.7s, 1230265 effective words/s\n",
      "2021-06-26 19:41:44,958 : INFO : EPOCH 18 - PROGRESS: at 15.62% examples, 1277846 words/s, in_qsize 15, out_qsize 0\n",
      "2021-06-26 19:41:45,961 : INFO : EPOCH 18 - PROGRESS: at 31.32% examples, 1282687 words/s, in_qsize 15, out_qsize 0\n",
      "2021-06-26 19:41:46,964 : INFO : EPOCH 18 - PROGRESS: at 46.24% examples, 1263698 words/s, in_qsize 15, out_qsize 0\n",
      "2021-06-26 19:41:47,982 : INFO : EPOCH 18 - PROGRESS: at 61.07% examples, 1247334 words/s, in_qsize 15, out_qsize 0\n",
      "2021-06-26 19:41:48,991 : INFO : EPOCH 18 - PROGRESS: at 76.98% examples, 1257445 words/s, in_qsize 15, out_qsize 0\n",
      "2021-06-26 19:41:49,996 : INFO : EPOCH 18 - PROGRESS: at 92.07% examples, 1253044 words/s, in_qsize 15, out_qsize 0\n",
      "2021-06-26 19:41:50,492 : INFO : worker thread finished; awaiting finish of 7 more threads\n",
      "2021-06-26 19:41:50,496 : INFO : worker thread finished; awaiting finish of 6 more threads\n",
      "2021-06-26 19:41:50,498 : INFO : worker thread finished; awaiting finish of 5 more threads\n",
      "2021-06-26 19:41:50,505 : INFO : worker thread finished; awaiting finish of 4 more threads\n",
      "2021-06-26 19:41:50,509 : INFO : worker thread finished; awaiting finish of 3 more threads\n",
      "2021-06-26 19:41:50,511 : INFO : worker thread finished; awaiting finish of 2 more threads\n",
      "2021-06-26 19:41:50,522 : INFO : worker thread finished; awaiting finish of 1 more threads\n",
      "2021-06-26 19:41:50,525 : INFO : worker thread finished; awaiting finish of 0 more threads\n",
      "2021-06-26 19:41:50,526 : INFO : EPOCH - 18 : training on 9227204 raw words (8222069 effective words) took 6.6s, 1251084 effective words/s\n",
      "2021-06-26 19:41:51,554 : INFO : EPOCH 19 - PROGRESS: at 14.11% examples, 1147374 words/s, in_qsize 15, out_qsize 0\n",
      "2021-06-26 19:41:52,578 : INFO : EPOCH 19 - PROGRESS: at 30.02% examples, 1213769 words/s, in_qsize 15, out_qsize 0\n",
      "2021-06-26 19:41:53,579 : INFO : EPOCH 19 - PROGRESS: at 45.81% examples, 1241506 words/s, in_qsize 15, out_qsize 0\n",
      "2021-06-26 19:41:54,583 : INFO : EPOCH 19 - PROGRESS: at 61.50% examples, 1252978 words/s, in_qsize 16, out_qsize 0\n",
      "2021-06-26 19:41:55,588 : INFO : EPOCH 19 - PROGRESS: at 75.78% examples, 1236453 words/s, in_qsize 15, out_qsize 0\n",
      "2021-06-26 19:41:56,596 : INFO : EPOCH 19 - PROGRESS: at 90.65% examples, 1232093 words/s, in_qsize 16, out_qsize 1\n",
      "2021-06-26 19:41:57,139 : INFO : worker thread finished; awaiting finish of 7 more threads\n",
      "2021-06-26 19:41:57,144 : INFO : worker thread finished; awaiting finish of 6 more threads\n",
      "2021-06-26 19:41:57,156 : INFO : worker thread finished; awaiting finish of 5 more threads\n",
      "2021-06-26 19:41:57,162 : INFO : worker thread finished; awaiting finish of 4 more threads\n",
      "2021-06-26 19:41:57,165 : INFO : worker thread finished; awaiting finish of 3 more threads\n",
      "2021-06-26 19:41:57,167 : INFO : worker thread finished; awaiting finish of 2 more threads\n",
      "2021-06-26 19:41:57,172 : INFO : worker thread finished; awaiting finish of 1 more threads\n",
      "2021-06-26 19:41:57,177 : INFO : worker thread finished; awaiting finish of 0 more threads\n",
      "2021-06-26 19:41:57,178 : INFO : EPOCH - 19 : training on 9227204 raw words (8222361 effective words) took 6.6s, 1239654 effective words/s\n",
      "2021-06-26 19:41:58,202 : INFO : EPOCH 20 - PROGRESS: at 15.08% examples, 1235375 words/s, in_qsize 15, out_qsize 0\n",
      "2021-06-26 19:41:59,206 : INFO : EPOCH 20 - PROGRESS: at 30.56% examples, 1252886 words/s, in_qsize 15, out_qsize 0\n",
      "2021-06-26 19:42:00,216 : INFO : EPOCH 20 - PROGRESS: at 45.92% examples, 1252516 words/s, in_qsize 15, out_qsize 0\n",
      "2021-06-26 19:42:01,217 : INFO : EPOCH 20 - PROGRESS: at 61.71% examples, 1264361 words/s, in_qsize 15, out_qsize 0\n",
      "2021-06-26 19:42:02,221 : INFO : EPOCH 20 - PROGRESS: at 76.98% examples, 1261654 words/s, in_qsize 16, out_qsize 0\n",
      "2021-06-26 19:42:03,224 : INFO : EPOCH 20 - PROGRESS: at 93.37% examples, 1274709 words/s, in_qsize 16, out_qsize 0\n",
      "2021-06-26 19:42:03,595 : INFO : worker thread finished; awaiting finish of 7 more threads\n",
      "2021-06-26 19:42:03,597 : INFO : worker thread finished; awaiting finish of 6 more threads\n",
      "2021-06-26 19:42:03,601 : INFO : worker thread finished; awaiting finish of 5 more threads\n",
      "2021-06-26 19:42:03,616 : INFO : worker thread finished; awaiting finish of 4 more threads\n",
      "2021-06-26 19:42:03,626 : INFO : worker thread finished; awaiting finish of 3 more threads\n",
      "2021-06-26 19:42:03,627 : INFO : worker thread finished; awaiting finish of 2 more threads\n",
      "2021-06-26 19:42:03,628 : INFO : worker thread finished; awaiting finish of 1 more threads\n",
      "2021-06-26 19:42:03,629 : INFO : worker thread finished; awaiting finish of 0 more threads\n",
      "2021-06-26 19:42:03,629 : INFO : EPOCH - 20 : training on 9227204 raw words (8221801 effective words) took 6.4s, 1279007 effective words/s\n",
      "2021-06-26 19:42:04,672 : INFO : EPOCH 21 - PROGRESS: at 16.05% examples, 1303798 words/s, in_qsize 16, out_qsize 0\n",
      "2021-06-26 19:42:05,680 : INFO : EPOCH 21 - PROGRESS: at 31.75% examples, 1292645 words/s, in_qsize 15, out_qsize 0\n",
      "2021-06-26 19:42:06,681 : INFO : EPOCH 21 - PROGRESS: at 47.43% examples, 1291780 words/s, in_qsize 15, out_qsize 0\n",
      "2021-06-26 19:42:07,689 : INFO : EPOCH 21 - PROGRESS: at 61.71% examples, 1260553 words/s, in_qsize 14, out_qsize 1\n",
      "2021-06-26 19:42:08,696 : INFO : EPOCH 21 - PROGRESS: at 77.09% examples, 1259691 words/s, in_qsize 14, out_qsize 1\n",
      "2021-06-26 19:42:09,699 : INFO : EPOCH 21 - PROGRESS: at 92.39% examples, 1258382 words/s, in_qsize 15, out_qsize 0\n",
      "2021-06-26 19:42:10,140 : INFO : worker thread finished; awaiting finish of 7 more threads\n",
      "2021-06-26 19:42:10,141 : INFO : worker thread finished; awaiting finish of 6 more threads\n",
      "2021-06-26 19:42:10,146 : INFO : worker thread finished; awaiting finish of 5 more threads\n"
     ]
    },
    {
     "name": "stderr",
     "output_type": "stream",
     "text": [
      "2021-06-26 19:42:10,157 : INFO : worker thread finished; awaiting finish of 4 more threads\n",
      "2021-06-26 19:42:10,159 : INFO : worker thread finished; awaiting finish of 3 more threads\n",
      "2021-06-26 19:42:10,161 : INFO : worker thread finished; awaiting finish of 2 more threads\n",
      "2021-06-26 19:42:10,168 : INFO : worker thread finished; awaiting finish of 1 more threads\n",
      "2021-06-26 19:42:10,173 : INFO : worker thread finished; awaiting finish of 0 more threads\n",
      "2021-06-26 19:42:10,174 : INFO : EPOCH - 21 : training on 9227204 raw words (8222392 effective words) took 6.5s, 1262472 effective words/s\n",
      "2021-06-26 19:42:11,206 : INFO : EPOCH 22 - PROGRESS: at 14.22% examples, 1156862 words/s, in_qsize 15, out_qsize 0\n",
      "2021-06-26 19:42:12,217 : INFO : EPOCH 22 - PROGRESS: at 29.48% examples, 1199465 words/s, in_qsize 14, out_qsize 1\n",
      "2021-06-26 19:42:13,218 : INFO : EPOCH 22 - PROGRESS: at 44.40% examples, 1208772 words/s, in_qsize 16, out_qsize 0\n",
      "2021-06-26 19:42:14,225 : INFO : EPOCH 22 - PROGRESS: at 59.87% examples, 1223096 words/s, in_qsize 15, out_qsize 0\n",
      "2021-06-26 19:42:15,230 : INFO : EPOCH 22 - PROGRESS: at 75.14% examples, 1228424 words/s, in_qsize 15, out_qsize 0\n",
      "2021-06-26 19:42:16,234 : INFO : EPOCH 22 - PROGRESS: at 90.43% examples, 1232102 words/s, in_qsize 15, out_qsize 0\n",
      "2021-06-26 19:42:16,848 : INFO : worker thread finished; awaiting finish of 7 more threads\n",
      "2021-06-26 19:42:16,850 : INFO : worker thread finished; awaiting finish of 6 more threads\n",
      "2021-06-26 19:42:16,851 : INFO : worker thread finished; awaiting finish of 5 more threads\n",
      "2021-06-26 19:42:16,867 : INFO : worker thread finished; awaiting finish of 4 more threads\n",
      "2021-06-26 19:42:16,875 : INFO : worker thread finished; awaiting finish of 3 more threads\n",
      "2021-06-26 19:42:16,883 : INFO : worker thread finished; awaiting finish of 2 more threads\n",
      "2021-06-26 19:42:16,885 : INFO : worker thread finished; awaiting finish of 1 more threads\n",
      "2021-06-26 19:42:16,886 : INFO : worker thread finished; awaiting finish of 0 more threads\n",
      "2021-06-26 19:42:16,887 : INFO : EPOCH - 22 : training on 9227204 raw words (8222564 effective words) took 6.7s, 1228971 effective words/s\n",
      "2021-06-26 19:42:17,915 : INFO : EPOCH 23 - PROGRESS: at 12.93% examples, 1048030 words/s, in_qsize 15, out_qsize 0\n",
      "2021-06-26 19:42:18,917 : INFO : EPOCH 23 - PROGRESS: at 27.96% examples, 1141517 words/s, in_qsize 15, out_qsize 0\n",
      "2021-06-26 19:42:19,918 : INFO : EPOCH 23 - PROGRESS: at 43.00% examples, 1173173 words/s, in_qsize 14, out_qsize 1\n",
      "2021-06-26 19:42:20,921 : INFO : EPOCH 23 - PROGRESS: at 57.16% examples, 1170795 words/s, in_qsize 15, out_qsize 0\n",
      "2021-06-26 19:42:21,934 : INFO : EPOCH 23 - PROGRESS: at 71.67% examples, 1172355 words/s, in_qsize 15, out_qsize 0\n",
      "2021-06-26 19:42:22,940 : INFO : EPOCH 23 - PROGRESS: at 87.83% examples, 1196774 words/s, in_qsize 15, out_qsize 0\n",
      "2021-06-26 19:42:23,638 : INFO : worker thread finished; awaiting finish of 7 more threads\n",
      "2021-06-26 19:42:23,643 : INFO : worker thread finished; awaiting finish of 6 more threads\n",
      "2021-06-26 19:42:23,644 : INFO : worker thread finished; awaiting finish of 5 more threads\n",
      "2021-06-26 19:42:23,657 : INFO : worker thread finished; awaiting finish of 4 more threads\n",
      "2021-06-26 19:42:23,661 : INFO : worker thread finished; awaiting finish of 3 more threads\n",
      "2021-06-26 19:42:23,665 : INFO : worker thread finished; awaiting finish of 2 more threads\n",
      "2021-06-26 19:42:23,669 : INFO : worker thread finished; awaiting finish of 1 more threads\n",
      "2021-06-26 19:42:23,672 : INFO : worker thread finished; awaiting finish of 0 more threads\n",
      "2021-06-26 19:42:23,673 : INFO : EPOCH - 23 : training on 9227204 raw words (8222434 effective words) took 6.8s, 1214750 effective words/s\n",
      "2021-06-26 19:42:24,691 : INFO : EPOCH 24 - PROGRESS: at 15.08% examples, 1234410 words/s, in_qsize 15, out_qsize 0\n",
      "2021-06-26 19:42:25,693 : INFO : EPOCH 24 - PROGRESS: at 30.13% examples, 1235471 words/s, in_qsize 15, out_qsize 0\n",
      "2021-06-26 19:42:26,709 : INFO : EPOCH 24 - PROGRESS: at 45.81% examples, 1247058 words/s, in_qsize 15, out_qsize 0\n",
      "2021-06-26 19:42:27,714 : INFO : EPOCH 24 - PROGRESS: at 60.19% examples, 1230013 words/s, in_qsize 15, out_qsize 0\n",
      "2021-06-26 19:42:28,723 : INFO : EPOCH 24 - PROGRESS: at 76.11% examples, 1243484 words/s, in_qsize 16, out_qsize 0\n",
      "2021-06-26 19:42:29,724 : INFO : EPOCH 24 - PROGRESS: at 91.96% examples, 1252785 words/s, in_qsize 15, out_qsize 0\n",
      "2021-06-26 19:42:30,175 : INFO : worker thread finished; awaiting finish of 7 more threads\n",
      "2021-06-26 19:42:30,179 : INFO : worker thread finished; awaiting finish of 6 more threads\n",
      "2021-06-26 19:42:30,180 : INFO : worker thread finished; awaiting finish of 5 more threads\n",
      "2021-06-26 19:42:30,184 : INFO : worker thread finished; awaiting finish of 4 more threads\n",
      "2021-06-26 19:42:30,199 : INFO : worker thread finished; awaiting finish of 3 more threads\n",
      "2021-06-26 19:42:30,200 : INFO : worker thread finished; awaiting finish of 2 more threads\n",
      "2021-06-26 19:42:30,201 : INFO : worker thread finished; awaiting finish of 1 more threads\n",
      "2021-06-26 19:42:30,214 : INFO : worker thread finished; awaiting finish of 0 more threads\n",
      "2021-06-26 19:42:30,215 : INFO : EPOCH - 24 : training on 9227204 raw words (8221351 effective words) took 6.5s, 1259688 effective words/s\n",
      "2021-06-26 19:42:31,245 : INFO : EPOCH 25 - PROGRESS: at 14.54% examples, 1177962 words/s, in_qsize 15, out_qsize 0\n",
      "2021-06-26 19:42:32,268 : INFO : EPOCH 25 - PROGRESS: at 29.16% examples, 1176705 words/s, in_qsize 14, out_qsize 1\n",
      "2021-06-26 19:42:33,268 : INFO : EPOCH 25 - PROGRESS: at 43.43% examples, 1176117 words/s, in_qsize 15, out_qsize 0\n",
      "2021-06-26 19:42:34,268 : INFO : EPOCH 25 - PROGRESS: at 57.27% examples, 1167389 words/s, in_qsize 15, out_qsize 0\n",
      "2021-06-26 19:42:35,271 : INFO : EPOCH 25 - PROGRESS: at 72.64% examples, 1186294 words/s, in_qsize 14, out_qsize 1\n",
      "2021-06-26 19:42:36,273 : INFO : EPOCH 25 - PROGRESS: at 88.26% examples, 1201776 words/s, in_qsize 13, out_qsize 2\n",
      "2021-06-26 19:42:36,945 : INFO : worker thread finished; awaiting finish of 7 more threads\n",
      "2021-06-26 19:42:36,951 : INFO : worker thread finished; awaiting finish of 6 more threads\n",
      "2021-06-26 19:42:36,962 : INFO : worker thread finished; awaiting finish of 5 more threads\n",
      "2021-06-26 19:42:36,964 : INFO : worker thread finished; awaiting finish of 4 more threads\n",
      "2021-06-26 19:42:36,966 : INFO : worker thread finished; awaiting finish of 3 more threads\n",
      "2021-06-26 19:42:36,967 : INFO : worker thread finished; awaiting finish of 2 more threads\n",
      "2021-06-26 19:42:36,970 : INFO : worker thread finished; awaiting finish of 1 more threads\n",
      "2021-06-26 19:42:36,971 : INFO : worker thread finished; awaiting finish of 0 more threads\n",
      "2021-06-26 19:42:36,972 : INFO : EPOCH - 25 : training on 9227204 raw words (8223333 effective words) took 6.7s, 1219800 effective words/s\n",
      "2021-06-26 19:42:38,013 : INFO : EPOCH 26 - PROGRESS: at 15.52% examples, 1270960 words/s, in_qsize 14, out_qsize 1\n",
      "2021-06-26 19:42:39,018 : INFO : EPOCH 26 - PROGRESS: at 31.75% examples, 1300416 words/s, in_qsize 16, out_qsize 0\n",
      "2021-06-26 19:42:40,019 : INFO : EPOCH 26 - PROGRESS: at 48.19% examples, 1317793 words/s, in_qsize 15, out_qsize 0\n",
      "2021-06-26 19:42:41,020 : INFO : EPOCH 26 - PROGRESS: at 64.30% examples, 1319618 words/s, in_qsize 15, out_qsize 0\n",
      "2021-06-26 19:42:42,022 : INFO : EPOCH 26 - PROGRESS: at 80.58% examples, 1322494 words/s, in_qsize 15, out_qsize 0\n",
      "2021-06-26 19:42:43,026 : INFO : EPOCH 26 - PROGRESS: at 96.31% examples, 1316401 words/s, in_qsize 16, out_qsize 0\n",
      "2021-06-26 19:42:43,216 : INFO : worker thread finished; awaiting finish of 7 more threads\n",
      "2021-06-26 19:42:43,218 : INFO : worker thread finished; awaiting finish of 6 more threads\n",
      "2021-06-26 19:42:43,226 : INFO : worker thread finished; awaiting finish of 5 more threads\n",
      "2021-06-26 19:42:43,228 : INFO : worker thread finished; awaiting finish of 4 more threads\n",
      "2021-06-26 19:42:43,229 : INFO : worker thread finished; awaiting finish of 3 more threads\n",
      "2021-06-26 19:42:43,230 : INFO : worker thread finished; awaiting finish of 2 more threads\n",
      "2021-06-26 19:42:43,235 : INFO : worker thread finished; awaiting finish of 1 more threads\n",
      "2021-06-26 19:42:43,245 : INFO : worker thread finished; awaiting finish of 0 more threads\n"
     ]
    },
    {
     "name": "stderr",
     "output_type": "stream",
     "text": [
      "2021-06-26 19:42:43,246 : INFO : EPOCH - 26 : training on 9227204 raw words (8222305 effective words) took 6.2s, 1318585 effective words/s\n",
      "2021-06-26 19:42:44,280 : INFO : EPOCH 27 - PROGRESS: at 16.27% examples, 1325872 words/s, in_qsize 16, out_qsize 0\n",
      "2021-06-26 19:42:45,285 : INFO : EPOCH 27 - PROGRESS: at 32.62% examples, 1331983 words/s, in_qsize 15, out_qsize 0\n",
      "2021-06-26 19:42:46,294 : INFO : EPOCH 27 - PROGRESS: at 49.59% examples, 1350465 words/s, in_qsize 14, out_qsize 1\n",
      "2021-06-26 19:42:47,309 : INFO : EPOCH 27 - PROGRESS: at 66.80% examples, 1361512 words/s, in_qsize 15, out_qsize 0\n",
      "2021-06-26 19:42:48,312 : INFO : EPOCH 27 - PROGRESS: at 84.15% examples, 1373652 words/s, in_qsize 15, out_qsize 0\n",
      "2021-06-26 19:42:49,231 : INFO : worker thread finished; awaiting finish of 7 more threads\n",
      "2021-06-26 19:42:49,237 : INFO : worker thread finished; awaiting finish of 6 more threads\n",
      "2021-06-26 19:42:49,240 : INFO : worker thread finished; awaiting finish of 5 more threads\n",
      "2021-06-26 19:42:49,251 : INFO : worker thread finished; awaiting finish of 4 more threads\n",
      "2021-06-26 19:42:49,258 : INFO : worker thread finished; awaiting finish of 3 more threads\n",
      "2021-06-26 19:42:49,262 : INFO : worker thread finished; awaiting finish of 2 more threads\n",
      "2021-06-26 19:42:49,266 : INFO : worker thread finished; awaiting finish of 1 more threads\n",
      "2021-06-26 19:42:49,267 : INFO : worker thread finished; awaiting finish of 0 more threads\n",
      "2021-06-26 19:42:49,268 : INFO : EPOCH - 27 : training on 9227204 raw words (8224072 effective words) took 6.0s, 1371560 effective words/s\n",
      "2021-06-26 19:42:50,301 : INFO : EPOCH 28 - PROGRESS: at 15.62% examples, 1281999 words/s, in_qsize 15, out_qsize 0\n",
      "2021-06-26 19:42:51,304 : INFO : EPOCH 28 - PROGRESS: at 32.19% examples, 1320432 words/s, in_qsize 15, out_qsize 0\n",
      "2021-06-26 19:42:52,316 : INFO : EPOCH 28 - PROGRESS: at 47.76% examples, 1302916 words/s, in_qsize 14, out_qsize 1\n",
      "2021-06-26 19:42:53,319 : INFO : EPOCH 28 - PROGRESS: at 63.54% examples, 1301350 words/s, in_qsize 15, out_qsize 0\n",
      "2021-06-26 19:42:54,330 : INFO : EPOCH 28 - PROGRESS: at 78.73% examples, 1287847 words/s, in_qsize 14, out_qsize 1\n",
      "2021-06-26 19:42:55,337 : INFO : EPOCH 28 - PROGRESS: at 94.36% examples, 1285223 words/s, in_qsize 15, out_qsize 0\n",
      "2021-06-26 19:42:55,628 : INFO : worker thread finished; awaiting finish of 7 more threads\n",
      "2021-06-26 19:42:55,634 : INFO : worker thread finished; awaiting finish of 6 more threads\n",
      "2021-06-26 19:42:55,637 : INFO : worker thread finished; awaiting finish of 5 more threads\n",
      "2021-06-26 19:42:55,639 : INFO : worker thread finished; awaiting finish of 4 more threads\n",
      "2021-06-26 19:42:55,646 : INFO : worker thread finished; awaiting finish of 3 more threads\n",
      "2021-06-26 19:42:55,657 : INFO : worker thread finished; awaiting finish of 2 more threads\n",
      "2021-06-26 19:42:55,660 : INFO : worker thread finished; awaiting finish of 1 more threads\n",
      "2021-06-26 19:42:55,665 : INFO : worker thread finished; awaiting finish of 0 more threads\n",
      "2021-06-26 19:42:55,666 : INFO : EPOCH - 28 : training on 9227204 raw words (8222432 effective words) took 6.4s, 1291680 effective words/s\n",
      "2021-06-26 19:42:56,700 : INFO : EPOCH 29 - PROGRESS: at 16.37% examples, 1340629 words/s, in_qsize 15, out_qsize 0\n",
      "2021-06-26 19:42:57,703 : INFO : EPOCH 29 - PROGRESS: at 32.41% examples, 1328354 words/s, in_qsize 14, out_qsize 1\n",
      "2021-06-26 19:42:58,709 : INFO : EPOCH 29 - PROGRESS: at 48.08% examples, 1313353 words/s, in_qsize 15, out_qsize 0\n",
      "2021-06-26 19:42:59,709 : INFO : EPOCH 29 - PROGRESS: at 62.36% examples, 1278931 words/s, in_qsize 15, out_qsize 0\n",
      "2021-06-26 19:43:00,721 : INFO : EPOCH 29 - PROGRESS: at 77.96% examples, 1276576 words/s, in_qsize 15, out_qsize 0\n",
      "2021-06-26 19:43:01,741 : INFO : EPOCH 29 - PROGRESS: at 94.03% examples, 1279294 words/s, in_qsize 15, out_qsize 0\n",
      "2021-06-26 19:43:02,052 : INFO : worker thread finished; awaiting finish of 7 more threads\n",
      "2021-06-26 19:43:02,054 : INFO : worker thread finished; awaiting finish of 6 more threads\n",
      "2021-06-26 19:43:02,056 : INFO : worker thread finished; awaiting finish of 5 more threads\n",
      "2021-06-26 19:43:02,062 : INFO : worker thread finished; awaiting finish of 4 more threads\n",
      "2021-06-26 19:43:02,065 : INFO : worker thread finished; awaiting finish of 3 more threads\n",
      "2021-06-26 19:43:02,075 : INFO : worker thread finished; awaiting finish of 2 more threads\n",
      "2021-06-26 19:43:02,079 : INFO : worker thread finished; awaiting finish of 1 more threads\n",
      "2021-06-26 19:43:02,080 : INFO : worker thread finished; awaiting finish of 0 more threads\n",
      "2021-06-26 19:43:02,081 : INFO : EPOCH - 29 : training on 9227204 raw words (8222227 effective words) took 6.4s, 1287871 effective words/s\n",
      "2021-06-26 19:43:03,118 : INFO : EPOCH 30 - PROGRESS: at 16.92% examples, 1365635 words/s, in_qsize 15, out_qsize 0\n",
      "2021-06-26 19:43:04,124 : INFO : EPOCH 30 - PROGRESS: at 33.81% examples, 1373859 words/s, in_qsize 16, out_qsize 0\n",
      "2021-06-26 19:43:05,135 : INFO : EPOCH 30 - PROGRESS: at 50.56% examples, 1370747 words/s, in_qsize 14, out_qsize 1\n",
      "2021-06-26 19:43:06,151 : INFO : EPOCH 30 - PROGRESS: at 68.21% examples, 1385435 words/s, in_qsize 15, out_qsize 0\n",
      "2021-06-26 19:43:07,154 : INFO : EPOCH 30 - PROGRESS: at 84.80% examples, 1380154 words/s, in_qsize 16, out_qsize 0\n",
      "2021-06-26 19:43:08,087 : INFO : worker thread finished; awaiting finish of 7 more threads\n",
      "2021-06-26 19:43:08,090 : INFO : worker thread finished; awaiting finish of 6 more threads\n",
      "2021-06-26 19:43:08,091 : INFO : worker thread finished; awaiting finish of 5 more threads\n",
      "2021-06-26 19:43:08,103 : INFO : worker thread finished; awaiting finish of 4 more threads\n",
      "2021-06-26 19:43:08,112 : INFO : worker thread finished; awaiting finish of 3 more threads\n",
      "2021-06-26 19:43:08,117 : INFO : worker thread finished; awaiting finish of 2 more threads\n",
      "2021-06-26 19:43:08,120 : INFO : worker thread finished; awaiting finish of 1 more threads\n",
      "2021-06-26 19:43:08,122 : INFO : worker thread finished; awaiting finish of 0 more threads\n",
      "2021-06-26 19:43:08,123 : INFO : EPOCH - 30 : training on 9227204 raw words (8222901 effective words) took 6.0s, 1365271 effective words/s\n",
      "2021-06-26 19:43:09,146 : INFO : EPOCH 31 - PROGRESS: at 14.22% examples, 1158879 words/s, in_qsize 14, out_qsize 1\n",
      "2021-06-26 19:43:10,156 : INFO : EPOCH 31 - PROGRESS: at 30.24% examples, 1232591 words/s, in_qsize 15, out_qsize 0\n",
      "2021-06-26 19:43:11,157 : INFO : EPOCH 31 - PROGRESS: at 47.54% examples, 1295761 words/s, in_qsize 15, out_qsize 0\n",
      "2021-06-26 19:43:12,169 : INFO : EPOCH 31 - PROGRESS: at 64.62% examples, 1319455 words/s, in_qsize 15, out_qsize 0\n",
      "2021-06-26 19:43:13,175 : INFO : EPOCH 31 - PROGRESS: at 81.45% examples, 1330214 words/s, in_qsize 15, out_qsize 0\n",
      "2021-06-26 19:43:14,182 : INFO : EPOCH 31 - PROGRESS: at 98.15% examples, 1335405 words/s, in_qsize 16, out_qsize 0\n",
      "2021-06-26 19:43:14,238 : INFO : worker thread finished; awaiting finish of 7 more threads\n",
      "2021-06-26 19:43:14,240 : INFO : worker thread finished; awaiting finish of 6 more threads\n",
      "2021-06-26 19:43:14,245 : INFO : worker thread finished; awaiting finish of 5 more threads\n",
      "2021-06-26 19:43:14,247 : INFO : worker thread finished; awaiting finish of 4 more threads\n",
      "2021-06-26 19:43:14,253 : INFO : worker thread finished; awaiting finish of 3 more threads\n",
      "2021-06-26 19:43:14,263 : INFO : worker thread finished; awaiting finish of 2 more threads\n",
      "2021-06-26 19:43:14,265 : INFO : worker thread finished; awaiting finish of 1 more threads\n",
      "2021-06-26 19:43:14,267 : INFO : worker thread finished; awaiting finish of 0 more threads\n",
      "2021-06-26 19:43:14,268 : INFO : EPOCH - 31 : training on 9227204 raw words (8222244 effective words) took 6.1s, 1341570 effective words/s\n",
      "2021-06-26 19:43:15,297 : INFO : EPOCH 32 - PROGRESS: at 16.27% examples, 1328153 words/s, in_qsize 15, out_qsize 0\n",
      "2021-06-26 19:43:16,298 : INFO : EPOCH 32 - PROGRESS: at 33.48% examples, 1371864 words/s, in_qsize 15, out_qsize 0\n",
      "2021-06-26 19:43:17,306 : INFO : EPOCH 32 - PROGRESS: at 50.88% examples, 1388991 words/s, in_qsize 16, out_qsize 2\n",
      "2021-06-26 19:43:18,318 : INFO : EPOCH 32 - PROGRESS: at 67.77% examples, 1384846 words/s, in_qsize 16, out_qsize 1\n",
      "2021-06-26 19:43:19,324 : INFO : EPOCH 32 - PROGRESS: at 85.55% examples, 1398109 words/s, in_qsize 15, out_qsize 0\n"
     ]
    },
    {
     "name": "stderr",
     "output_type": "stream",
     "text": [
      "2021-06-26 19:43:20,114 : INFO : worker thread finished; awaiting finish of 7 more threads\n",
      "2021-06-26 19:43:20,115 : INFO : worker thread finished; awaiting finish of 6 more threads\n",
      "2021-06-26 19:43:20,116 : INFO : worker thread finished; awaiting finish of 5 more threads\n",
      "2021-06-26 19:43:20,118 : INFO : worker thread finished; awaiting finish of 4 more threads\n",
      "2021-06-26 19:43:20,124 : INFO : worker thread finished; awaiting finish of 3 more threads\n",
      "2021-06-26 19:43:20,127 : INFO : worker thread finished; awaiting finish of 2 more threads\n",
      "2021-06-26 19:43:20,135 : INFO : worker thread finished; awaiting finish of 1 more threads\n",
      "2021-06-26 19:43:20,142 : INFO : worker thread finished; awaiting finish of 0 more threads\n",
      "2021-06-26 19:43:20,143 : INFO : EPOCH - 32 : training on 9227204 raw words (8222805 effective words) took 5.9s, 1405058 effective words/s\n",
      "2021-06-26 19:43:20,144 : INFO : Word2Vec lifecycle event {'msg': 'training on 295270528 raw words (263123676 effective words) took 212.9s, 1235698 effective words/s', 'datetime': '2021-06-26T19:43:20.144949', 'gensim': '4.0.1', 'python': '3.8.8 (default, Apr 13 2021, 15:08:03) [MSC v.1916 64 bit (AMD64)]', 'platform': 'Windows-10-10.0.19041-SP0', 'event': 'train'}\n"
     ]
    },
    {
     "name": "stdout",
     "output_type": "stream",
     "text": [
      "Wall time: 3min 32s\n"
     ]
    },
    {
     "data": {
      "text/plain": [
       "(263123676, 295270528)"
      ]
     },
     "execution_count": 17,
     "metadata": {},
     "output_type": "execute_result"
    }
   ],
   "source": [
    "%%time\n",
    "w2v_model.train(documents, total_examples=len(documents), epochs=W2V_EPOCH)"
   ]
  },
  {
   "cell_type": "code",
   "execution_count": 18,
   "metadata": {},
   "outputs": [
    {
     "data": {
      "text/plain": [
       "[('luv', 0.5833922624588013),\n",
       " ('loves', 0.548334002494812),\n",
       " ('adore', 0.5304512977600098),\n",
       " ('loved', 0.526610255241394),\n",
       " ('amazing', 0.5144081711769104),\n",
       " ('looove', 0.49020519852638245),\n",
       " ('awesome', 0.4680877923965454),\n",
       " ('loveee', 0.4504971504211426),\n",
       " ('loooove', 0.43897920846939087),\n",
       " ('lovee', 0.42727047204971313),\n",
       " ('miss', 0.42630326747894287),\n",
       " ('loove', 0.42630213499069214),\n",
       " ('loving', 0.41061490774154663),\n",
       " ('sings', 0.4072839617729187),\n",
       " ('ilove', 0.39841580390930176),\n",
       " ('loveeee', 0.39378610253334045),\n",
       " ('looooove', 0.39229464530944824),\n",
       " ('loveeeee', 0.3737368881702423),\n",
       " ('amaze', 0.3584062457084656),\n",
       " ('nickjonas', 0.3481847047805786)]"
      ]
     },
     "execution_count": 18,
     "metadata": {},
     "output_type": "execute_result"
    }
   ],
   "source": [
    "w2v_model.wv.most_similar(\"love\", topn=20)"
   ]
  },
  {
   "cell_type": "markdown",
   "metadata": {},
   "source": [
    "### Tokenize Text"
   ]
  },
  {
   "cell_type": "code",
   "execution_count": 19,
   "metadata": {},
   "outputs": [
    {
     "name": "stdout",
     "output_type": "stream",
     "text": [
      "Total words 290419\n",
      "Wall time: 14.5 s\n"
     ]
    }
   ],
   "source": [
    "%%time\n",
    "tokenizer = Tokenizer()\n",
    "tokenizer.fit_on_texts(df_train.text)\n",
    "\n",
    "vocab_size = len(tokenizer.word_index) + 1\n",
    "print(\"Total words\", vocab_size)"
   ]
  },
  {
   "cell_type": "code",
   "execution_count": 20,
   "metadata": {},
   "outputs": [
    {
     "name": "stdout",
     "output_type": "stream",
     "text": [
      "Wall time: 21.2 s\n"
     ]
    }
   ],
   "source": [
    "%%time\n",
    "x_train = pad_sequences(tokenizer.texts_to_sequences(df_train.text), maxlen=SEQUENCE_LENGTH)\n",
    "x_test = pad_sequences(tokenizer.texts_to_sequences(df_test.text), maxlen=SEQUENCE_LENGTH)"
   ]
  },
  {
   "cell_type": "markdown",
   "metadata": {},
   "source": [
    "### Label Encoder "
   ]
  },
  {
   "cell_type": "code",
   "execution_count": 21,
   "metadata": {},
   "outputs": [
    {
     "data": {
      "text/plain": [
       "['POSITIVE', 'NEGATIVE', 'NEUTRAL']"
      ]
     },
     "execution_count": 21,
     "metadata": {},
     "output_type": "execute_result"
    }
   ],
   "source": [
    "labels = df_train.target.unique().tolist()\n",
    "labels.append(NEUTRAL)\n",
    "labels"
   ]
  },
  {
   "cell_type": "code",
   "execution_count": 22,
   "metadata": {},
   "outputs": [
    {
     "name": "stdout",
     "output_type": "stream",
     "text": [
      "y_train (1280000, 1)\n",
      "y_test (320000, 1)\n"
     ]
    }
   ],
   "source": [
    "encoder = LabelEncoder()\n",
    "encoder.fit(df_train.target.tolist())\n",
    "\n",
    "y_train = encoder.transform(df_train.target.tolist())\n",
    "y_test = encoder.transform(df_test.target.tolist())\n",
    "\n",
    "y_train = y_train.reshape(-1,1)\n",
    "y_test = y_test.reshape(-1,1)\n",
    "\n",
    "print(\"y_train\",y_train.shape)\n",
    "print(\"y_test\",y_test.shape)"
   ]
  },
  {
   "cell_type": "code",
   "execution_count": 23,
   "metadata": {},
   "outputs": [
    {
     "name": "stdout",
     "output_type": "stream",
     "text": [
      "x_train (1280000, 300)\n",
      "y_train (1280000, 1)\n",
      "\n",
      "x_test (320000, 300)\n",
      "y_test (320000, 1)\n"
     ]
    }
   ],
   "source": [
    "print(\"x_train\", x_train.shape)\n",
    "print(\"y_train\", y_train.shape)\n",
    "print()\n",
    "print(\"x_test\", x_test.shape)\n",
    "print(\"y_test\", y_test.shape)"
   ]
  },
  {
   "cell_type": "code",
   "execution_count": 24,
   "metadata": {},
   "outputs": [
    {
     "data": {
      "text/plain": [
       "array([[1],\n",
       "       [1],\n",
       "       [1],\n",
       "       [0],\n",
       "       [1],\n",
       "       [1],\n",
       "       [1],\n",
       "       [1],\n",
       "       [1],\n",
       "       [1]], dtype=int64)"
      ]
     },
     "execution_count": 24,
     "metadata": {},
     "output_type": "execute_result"
    }
   ],
   "source": [
    "y_train[:10]"
   ]
  },
  {
   "cell_type": "markdown",
   "metadata": {},
   "source": [
    "### Embedding layer"
   ]
  },
  {
   "cell_type": "code",
   "execution_count": 26,
   "metadata": {},
   "outputs": [
    {
     "name": "stdout",
     "output_type": "stream",
     "text": [
      "(290419, 300)\n"
     ]
    }
   ],
   "source": [
    "embedding_matrix = np.zeros((vocab_size, W2V_SIZE))\n",
    "for word, i in tokenizer.word_index.items():\n",
    "    if word in w2v_model.wv:\n",
    "        embedding_matrix[i] = w2v_model.wv[word]\n",
    "print(embedding_matrix.shape)"
   ]
  },
  {
   "cell_type": "code",
   "execution_count": 27,
   "metadata": {},
   "outputs": [],
   "source": [
    "embedding_layer = Embedding(vocab_size, W2V_SIZE, weights=[embedding_matrix], input_length=SEQUENCE_LENGTH, trainable=False)"
   ]
  },
  {
   "cell_type": "markdown",
   "metadata": {},
   "source": [
    "### Build Model"
   ]
  },
  {
   "cell_type": "code",
   "execution_count": 28,
   "metadata": {},
   "outputs": [
    {
     "name": "stdout",
     "output_type": "stream",
     "text": [
      "Model: \"sequential_1\"\n",
      "_________________________________________________________________\n",
      "Layer (type)                 Output Shape              Param #   \n",
      "=================================================================\n",
      "embedding (Embedding)        (None, 300, 300)          87125700  \n",
      "_________________________________________________________________\n",
      "dropout (Dropout)            (None, 300, 300)          0         \n",
      "_________________________________________________________________\n",
      "lstm (LSTM)                  (None, 100)               160400    \n",
      "_________________________________________________________________\n",
      "dense (Dense)                (None, 1)                 101       \n",
      "=================================================================\n",
      "Total params: 87,286,201\n",
      "Trainable params: 160,501\n",
      "Non-trainable params: 87,125,700\n",
      "_________________________________________________________________\n"
     ]
    }
   ],
   "source": [
    "# Can use cuDNN (GPU) for training\n",
    "model = Sequential()\n",
    "model.add(embedding_layer)\n",
    "model.add(Dropout(0.5))\n",
    "model.add(LSTM(100, dropout=0.2, recurrent_dropout=0))\n",
    "model.add(Dense(1, activation='tanh')) \n",
    "\n",
    "model.summary()\n",
    "\n",
    "\n",
    "# can not use cuDNN (GPU) for training\n",
    "# model = Sequential()\n",
    "# model.add(embedding_layer)\n",
    "# model.add(Dropout(0.5))\n",
    "# model.add(LSTM(100, dropout=0.2, recurrent_dropout=0.2))\n",
    "# model.add(Dense(1, activation='sigmoid')) \n",
    "\n",
    "# model.summary()\n"
   ]
  },
  {
   "cell_type": "markdown",
   "metadata": {},
   "source": [
    "### Compile model"
   ]
  },
  {
   "cell_type": "code",
   "execution_count": 29,
   "metadata": {},
   "outputs": [],
   "source": [
    "model.compile(loss='binary_crossentropy',\n",
    "              optimizer=\"adam\",\n",
    "              metrics=['accuracy'])"
   ]
  },
  {
   "cell_type": "markdown",
   "metadata": {},
   "source": [
    "### Callbacks"
   ]
  },
  {
   "cell_type": "code",
   "execution_count": 30,
   "metadata": {},
   "outputs": [],
   "source": [
    "callbacks = [ ReduceLROnPlateau(monitor='val_loss', patience=5, cooldown=0),\n",
    "              EarlyStopping(monitor='val_accuracy', min_delta=1e-4, patience=5)] #monitor=val_acc"
   ]
  },
  {
   "cell_type": "markdown",
   "metadata": {},
   "source": [
    "### Train"
   ]
  },
  {
   "cell_type": "code",
   "execution_count": 31,
   "metadata": {
    "scrolled": true
   },
   "outputs": [
    {
     "name": "stdout",
     "output_type": "stream",
     "text": [
      "Epoch 1/8\n",
      "2000/2000 [==============================] - 205s 99ms/step - loss: 0.5925 - accuracy: 0.7095 - val_loss: 0.5019 - val_accuracy: 0.7600\n",
      "Epoch 2/8\n",
      "2000/2000 [==============================] - 198s 99ms/step - loss: 0.5213 - accuracy: 0.7437 - val_loss: 0.4916 - val_accuracy: 0.7637\n",
      "Epoch 3/8\n",
      "2000/2000 [==============================] - 202s 101ms/step - loss: 0.5091 - accuracy: 0.7511 - val_loss: 0.4921 - val_accuracy: 0.7630\n",
      "Epoch 4/8\n",
      "2000/2000 [==============================] - 198s 99ms/step - loss: 0.5039 - accuracy: 0.7543 - val_loss: 0.4737 - val_accuracy: 0.7727\n",
      "Epoch 5/8\n",
      "2000/2000 [==============================] - 197s 98ms/step - loss: 0.4964 - accuracy: 0.7591 - val_loss: 0.4775 - val_accuracy: 0.7722\n",
      "Epoch 6/8\n",
      "2000/2000 [==============================] - 196s 98ms/step - loss: 0.4927 - accuracy: 0.7622 - val_loss: 0.4722 - val_accuracy: 0.7746\n",
      "Epoch 7/8\n",
      "2000/2000 [==============================] - 197s 98ms/step - loss: 0.4881 - accuracy: 0.7647 - val_loss: 0.4729 - val_accuracy: 0.7787\n",
      "Epoch 8/8\n",
      "2000/2000 [==============================] - 198s 99ms/step - loss: 0.4861 - accuracy: 0.7663 - val_loss: 0.4652 - val_accuracy: 0.7802\n",
      "Wall time: 26min 31s\n"
     ]
    }
   ],
   "source": [
    "%%time\n",
    "history = model.fit(x_train, y_train,\n",
    "                    batch_size=BATCH_SIZE,\n",
    "                    epochs=EPOCHS,\n",
    "                    validation_split=0.2, #0.1\n",
    "                    verbose=1,\n",
    "                    callbacks=callbacks)"
   ]
  },
  {
   "cell_type": "code",
   "execution_count": 32,
   "metadata": {
    "scrolled": true
   },
   "outputs": [
    {
     "data": {
      "text/plain": [
       "{'loss': [0.5925383567810059,\n",
       "  0.521266520023346,\n",
       "  0.5091358423233032,\n",
       "  0.5038789510726929,\n",
       "  0.49636706709861755,\n",
       "  0.4927009344100952,\n",
       "  0.48808926343917847,\n",
       "  0.4860984981060028],\n",
       " 'accuracy': [0.709545910358429,\n",
       "  0.7436621189117432,\n",
       "  0.7510722875595093,\n",
       "  0.7542607188224792,\n",
       "  0.7590947151184082,\n",
       "  0.7622177600860596,\n",
       "  0.7647324204444885,\n",
       "  0.7663456797599792],\n",
       " 'val_loss': [0.5018899440765381,\n",
       "  0.4915831685066223,\n",
       "  0.4921469986438751,\n",
       "  0.47372400760650635,\n",
       "  0.4774939715862274,\n",
       "  0.47218868136405945,\n",
       "  0.47292348742485046,\n",
       "  0.4652336537837982],\n",
       " 'val_accuracy': [0.7599999904632568,\n",
       "  0.7637109160423279,\n",
       "  0.7629960775375366,\n",
       "  0.7726679444313049,\n",
       "  0.7721562385559082,\n",
       "  0.7745586037635803,\n",
       "  0.7786874771118164,\n",
       "  0.7801679968833923],\n",
       " 'lr': [0.001, 0.001, 0.001, 0.001, 0.001, 0.001, 0.001, 0.001]}"
      ]
     },
     "execution_count": 32,
     "metadata": {},
     "output_type": "execute_result"
    }
   ],
   "source": [
    "history.history"
   ]
  },
  {
   "cell_type": "markdown",
   "metadata": {},
   "source": [
    "### Evaluate"
   ]
  },
  {
   "cell_type": "code",
   "execution_count": 33,
   "metadata": {},
   "outputs": [
    {
     "name": "stdout",
     "output_type": "stream",
     "text": [
      "625/625 [==============================] - 30s 48ms/step - loss: 0.4650 - accuracy: 0.7804\n",
      "\n",
      "ACCURACY: 0.7803968787193298\n",
      "LOSS: 0.4650461971759796\n",
      "Wall time: 30.3 s\n"
     ]
    }
   ],
   "source": [
    "%%time\n",
    "score = model.evaluate(x_test, y_test, batch_size=BATCH_SIZE)\n",
    "print()\n",
    "print(\"ACCURACY:\",score[1])\n",
    "print(\"LOSS:\",score[0])"
   ]
  },
  {
   "cell_type": "code",
   "execution_count": 34,
   "metadata": {},
   "outputs": [
    {
     "data": {
      "image/png": "[encoded data removed]",
      "text/plain": [
       "<Figure size 432x288 with 1 Axes>"
      ]
     },
     "metadata": {
      "needs_background": "light"
     },
     "output_type": "display_data"
    },
    {
     "data": {
      "image/png": "[encoded data removed]",
      "text/plain": [
       "<Figure size 432x288 with 1 Axes>"
      ]
     },
     "metadata": {
      "needs_background": "light"
     },
     "output_type": "display_data"
    }
   ],
   "source": [
    "acc = history.history['accuracy']\n",
    "val_acc = history.history['val_accuracy']\n",
    "loss = history.history['loss']\n",
    "val_loss = history.history['val_loss']\n",
    " \n",
    "epochs = range(len(acc))\n",
    " \n",
    "plt.plot(epochs, acc, 'b', label='Training acc')\n",
    "plt.plot(epochs, val_acc, 'r', label='Validation acc')\n",
    "plt.title('Training and validation accuracy')\n",
    "plt.legend()\n",
    " \n",
    "plt.figure()\n",
    " \n",
    "plt.plot(epochs, loss, 'b', label='Training loss')\n",
    "plt.plot(epochs, val_loss, 'r', label='Validation loss')\n",
    "plt.title('Training and validation loss')\n",
    "plt.legend()\n",
    " \n",
    "plt.show()"
   ]
  },
  {
   "cell_type": "markdown",
   "metadata": {},
   "source": [
    "### Predict"
   ]
  },
  {
   "cell_type": "code",
   "execution_count": 35,
   "metadata": {},
   "outputs": [],
   "source": [
    "def decode_sentiment(score, include_neutral=True):\n",
    "    if include_neutral:        \n",
    "        label = NEUTRAL\n",
    "        if score <= SENTIMENT_THRESHOLDS[0]:\n",
    "            label = NEGATIVE\n",
    "        elif score >= SENTIMENT_THRESHOLDS[1]:\n",
    "            label = POSITIVE\n",
    "\n",
    "        return label\n",
    "    else:\n",
    "        return NEGATIVE if score < 0.5 else POSITIVE"
   ]
  },
  {
   "cell_type": "code",
   "execution_count": 36,
   "metadata": {},
   "outputs": [],
   "source": [
    "def predict(text, include_neutral=True):\n",
    "    start_at = time.time()\n",
    "    # Tokenize text\n",
    "    x_test = pad_sequences(tokenizer.texts_to_sequences([text]), maxlen=SEQUENCE_LENGTH)\n",
    "    # Predict\n",
    "    score = model.predict([x_test])[0]\n",
    "    # Decode sentiment\n",
    "    label = decode_sentiment(score, include_neutral=include_neutral)\n",
    "\n",
    "    return {\"label\": label, \"score\": float(score),\n",
    "       \"elapsed_time\": time.time()-start_at}  "
   ]
  },
  {
   "cell_type": "code",
   "execution_count": 37,
   "metadata": {},
   "outputs": [
    {
     "data": {
      "text/plain": [
       "{'label': 'POSITIVE',\n",
       " 'score': 0.9753027558326721,\n",
       " 'elapsed_time': 0.3749961853027344}"
      ]
     },
     "execution_count": 37,
     "metadata": {},
     "output_type": "execute_result"
    }
   ],
   "source": [
    "predict(\"I love the music\")"
   ]
  },
  {
   "cell_type": "code",
   "execution_count": 38,
   "metadata": {},
   "outputs": [
    {
     "data": {
      "text/plain": [
       "{'label': 'NEGATIVE',\n",
       " 'score': 0.013321682810783386,\n",
       " 'elapsed_time': 0.040999650955200195}"
      ]
     },
     "execution_count": 38,
     "metadata": {},
     "output_type": "execute_result"
    }
   ],
   "source": [
    "predict(\"I hate the rain\")"
   ]
  },
  {
   "cell_type": "code",
   "execution_count": 39,
   "metadata": {},
   "outputs": [
    {
     "data": {
      "text/plain": [
       "{'label': 'NEUTRAL',\n",
       " 'score': 0.46484920382499695,\n",
       " 'elapsed_time': 0.04199981689453125}"
      ]
     },
     "execution_count": 39,
     "metadata": {},
     "output_type": "execute_result"
    }
   ],
   "source": [
    "predict(\"i don't know what i'm doing\")"
   ]
  },
  {
   "cell_type": "markdown",
   "metadata": {},
   "source": [
    "### Confusion Matrix"
   ]
  },
  {
   "cell_type": "code",
   "execution_count": 40,
   "metadata": {},
   "outputs": [
    {
     "name": "stdout",
     "output_type": "stream",
     "text": [
      "313/313 [==============================] - 30s 93ms/step\n",
      "Wall time: 30.2 s\n"
     ]
    }
   ],
   "source": [
    "%%time\n",
    "y_pred_1d = []\n",
    "y_test_1d = list(df_test.target)\n",
    "scores = model.predict(x_test, verbose=1, batch_size=1024)\n",
    "y_pred_1d = [decode_sentiment(score, include_neutral=False) for score in scores]"
   ]
  },
  {
   "cell_type": "code",
   "execution_count": 41,
   "metadata": {},
   "outputs": [],
   "source": [
    "def plot_confusion_matrix(cm, classes,\n",
    "                          title='Confusion matrix',\n",
    "                          cmap=plt.cm.Blues):\n",
    "    \"\"\"\n",
    "    This function prints and plots the confusion matrix.\n",
    "    Normalization can be applied by setting `normalize=True`.\n",
    "    \"\"\"\n",
    "\n",
    "    cm = cm.astype('float') / cm.sum(axis=1)[:, np.newaxis]\n",
    "\n",
    "    plt.imshow(cm, interpolation='nearest', cmap=cmap)\n",
    "    plt.title(title, fontsize=30)\n",
    "    plt.colorbar()\n",
    "    tick_marks = np.arange(len(classes))\n",
    "    plt.xticks(tick_marks, classes, rotation=90, fontsize=22)\n",
    "    plt.yticks(tick_marks, classes, fontsize=22)\n",
    "\n",
    "    fmt = '.2f'\n",
    "    thresh = cm.max() / 2.\n",
    "    for i, j in itertools.product(range(cm.shape[0]), range(cm.shape[1])):\n",
    "        plt.text(j, i, format(cm[i, j], fmt),\n",
    "                 horizontalalignment=\"center\",\n",
    "                 color=\"white\" if cm[i, j] > thresh else \"black\")\n",
    "\n",
    "    plt.ylabel('True label', fontsize=25)\n",
    "    plt.xlabel('Predicted label', fontsize=25)"
   ]
  },
  {
   "cell_type": "code",
   "execution_count": 42,
   "metadata": {},
   "outputs": [
    {
     "data": {
      "image/png": "[encoded data removed]",
      "text/plain": [
       "<Figure size 864x864 with 2 Axes>"
      ]
     },
     "metadata": {
      "needs_background": "light"
     },
     "output_type": "display_data"
    },
    {
     "name": "stdout",
     "output_type": "stream",
     "text": [
      "Wall time: 1.03 s\n"
     ]
    }
   ],
   "source": [
    "%%time\n",
    "\n",
    "cnf_matrix = confusion_matrix(y_test_1d, y_pred_1d)\n",
    "plt.figure(figsize=(12,12))\n",
    "plot_confusion_matrix(cnf_matrix, classes=df_train.target.unique(), title=\"Confusion matrix\")\n",
    "plt.show()"
   ]
  },
  {
   "cell_type": "markdown",
   "metadata": {},
   "source": [
    "### Classification Report"
   ]
  },
  {
   "cell_type": "code",
   "execution_count": 43,
   "metadata": {},
   "outputs": [
    {
     "name": "stdout",
     "output_type": "stream",
     "text": [
      "              precision    recall  f1-score   support\n",
      "\n",
      "    NEGATIVE       0.81      0.73      0.77    159494\n",
      "    POSITIVE       0.76      0.83      0.79    160506\n",
      "\n",
      "    accuracy                           0.78    320000\n",
      "   macro avg       0.78      0.78      0.78    320000\n",
      "weighted avg       0.78      0.78      0.78    320000\n",
      "\n"
     ]
    }
   ],
   "source": [
    "print(classification_report(y_test_1d, y_pred_1d))"
   ]
  },
  {
   "cell_type": "markdown",
   "metadata": {},
   "source": [
    "### Accuracy Score"
   ]
  },
  {
   "cell_type": "code",
   "execution_count": 44,
   "metadata": {},
   "outputs": [
    {
     "data": {
      "text/plain": [
       "0.780403125"
      ]
     },
     "execution_count": 44,
     "metadata": {},
     "output_type": "execute_result"
    }
   ],
   "source": [
    "accuracy_score(y_test_1d, y_pred_1d)"
   ]
  },
  {
   "cell_type": "markdown",
   "metadata": {},
   "source": [
    "### Save model"
   ]
  },
  {
   "cell_type": "code",
   "execution_count": 45,
   "metadata": {},
   "outputs": [
    {
     "name": "stderr",
     "output_type": "stream",
     "text": [
      "2021-06-26 20:13:41,779 : INFO : Word2Vec lifecycle event {'fname_or_handle': 'model.w2v', 'separately': 'None', 'sep_limit': 10485760, 'ignore': frozenset(), 'datetime': '2021-06-26T20:13:41.779721', 'gensim': '4.0.1', 'python': '3.8.8 (default, Apr 13 2021, 15:08:03) [MSC v.1916 64 bit (AMD64)]', 'platform': 'Windows-10-10.0.19041-SP0', 'event': 'saving'}\n",
      "2021-06-26 20:13:41,781 : INFO : not storing attribute cum_table\n",
      "2021-06-26 20:13:41,908 : INFO : saved model.w2v\n"
     ]
    }
   ],
   "source": [
    "model.save(KERAS_MODEL)\n",
    "w2v_model.save(WORD2VEC_MODEL)\n",
    "pickle.dump(tokenizer, open(TOKENIZER_MODEL, \"wb\"), protocol=0)\n",
    "pickle.dump(encoder, open(ENCODER_MODEL, \"wb\"), protocol=0)"
   ]
  },
  {
   "cell_type": "code",
   "execution_count": null,
   "metadata": {},
   "outputs": [],
   "source": []
  },
  {
   "cell_type": "code",
   "execution_count": null,
   "metadata": {},
   "outputs": [],
   "source": []
  },
  {
   "cell_type": "code",
   "execution_count": null,
   "metadata": {},
   "outputs": [],
   "source": []
  }
 ],
 "metadata": {
  "kernelspec": {
   "display_name": "Python 3",
   "language": "python",
   "name": "python3"
  },
  "language_info": {
   "codemirror_mode": {
    "name": "ipython",
    "version": 3
   },
   "file_extension": ".py",
   "mimetype": "text/x-python",
   "name": "python",
   "nbconvert_exporter": "python",
   "pygments_lexer": "ipython3",
   "version": "3.8.8"
  }
 },
 "nbformat": 4,
 "nbformat_minor": 4
}
