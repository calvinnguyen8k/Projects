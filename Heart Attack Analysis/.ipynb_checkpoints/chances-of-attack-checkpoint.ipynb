{
 "cells": [
  {
   "cell_type": "markdown",
   "metadata": {},
   "source": [
    "<p id=\"part0\"></p>\n",
    "\n",
    "<p style=\"font-family: Arials; line-height: 2; font-size: 24px; font-weight: bold; letter-spacing: 2px; text-align: center; color: #FF8C00\">EDA ON CHANCES OF ❤️ ATTACK </p>\n",
    "\n",
    "\n",
    "<p style = \"font-family: Inter, sans-serif; font-size: 14px; color: rgba(0,0,0,.7)\">  A heart attack occurs when an artery supplying your heart with blood and oxygen becomes blocked. Fatty deposits build up over time, forming plaques in your heart's arteries. If a plaque ruptures, a blood clot can form and block your arteries, causing a heart attack..</p>\n",
    "\n",
    "\n",
    "<p style=\"font-family: Arials; font-size: 20px; font-style: normal; font-weight: bold; letter-spacing: 3px; color: #808080; line-height:1.0\">TABLE OF CONTENT</p>\n",
    "\n",
    "<p style=\"font-family: Arials; font-size: 16px; font-style: normal; font-weight: bold; letter-spacing: 2px; color: #808080; line-height:1.3\"><a href=\"#part1\" style=\"color:#808080\">0 PROLOGUE</a></p>\n",
    "\n",
    "<p style=\"font-family: Arials; font-size: 16px; font-style: normal; font-weight: bold; letter-spacing: 2px; color: #808080; line-height:1.3\"><a href=\"#part2\" style=\"color:#808080\">1 IMPORTING LIBRARIES</a></p>\n",
    "\n",
    "<p style=\"font-family: Arials; font-size: 16px; font-style: normal; font-weight: bold; letter-spacing: 2px; color: #808080; line-height:1.3\"><a href=\"#part3\" style=\"color:#808080\">2 DATA DESCRIPTION AND DATA CLEANING</a></p>\n",
    "\n",
    "<p style=\"text-indent: 1vw; font-family: Arials; font-size: 14px; font-style: normal; font-weight: bold; letter-spacing: 2px; color: #808080; line-height:1.3\">\n",
    "<a href=\"#part4\" style=\"color:#808080\">2.1 Import Data</a></p>\n",
    "\n",
    "<p style=\"text-indent: 1vw; font-family: Arials; font-size: 14px; font-style: normal; font-weight: bold; letter-spacing: 2px; color: #808080; line-height:1.3\">\n",
    "<a href=\"#part5\" style=\"color:#808080\">2.2 Data types</a></p>\n",
    "\n",
    "<p style=\"text-indent: 1vw; font-family: Arials; font-size: 14px; font-style: normal; font-weight: bold; letter-spacing: 2px; color: #808080; line-height:1.3\">\n",
    "<a href=\"#part6\" style=\"color:#808080\">2.3 Missing values</a></p>\n",
    "\n",
    "<p style=\"text-indent: 1vw; font-family: Arials; font-size: 14px; font-style: normal; font-weight: bold; letter-spacing: 2px; color: #808080; line-height:1.3\"> \n",
    "<a href=\"#part7\" style=\"color:#808080\">2.4 Duplicates</a></p>\n",
    "\n",
    "\n",
    "<p style=\"font-family: Arials; font-size: 16px; font-style: normal; font-weight: bold; letter-spacing: 2px; color: #808080; line-height:1.3\"><a href=\"#part8\" style=\"color:#808080\">3 ANALYSIS</a></p>\n",
    "\n",
    "<p style=\"text-indent: 1vw; font-family: Arials; font-size: 14px; font-style: normal; font-weight: bold; letter-spacing: 2px; color: #808080; line-height:1.3\"> \n",
    "<a href=\"#part9\" style=\"color:#808080\">3.1 Uni-Vriate Analysis:</a></p>\n",
    "\n",
    "<p style=\"text-indent: 1vw; font-family: Arials; font-size: 14px; font-style: normal; font-weight: bold; letter-spacing: 2px; color: #808080; line-height:1.3\"> \n",
    "<a href=\"#part10\" style=\"color:#808080\">3.2 Bi-Vriate Analysis:</a></p>\n",
    "\n",
    "<p style=\"text-indent: 1vw; font-family: Arials; font-size: 14px; font-style: normal; font-weight: bold; letter-spacing: 2px; color: #808080; line-height:1.3\"> \n",
    "<a href=\"#part11\" style=\"color:#808080\">3.3 Multi-Vriate Analysis:</a></p>\n",
    "\n",
    "\n",
    "<p style=\"font-family: Arials; font-size: 16px; font-style: normal; font-weight: bold; letter-spacing: 2px; color: #808080; line-height:1.3\"><a href=\"#part12\" style=\"color:#808080\">4 FINAL CONCLUSIONS</a></p>"
   ]
  },
  {
   "cell_type": "markdown",
   "metadata": {},
   "source": [
    "<p style=\"font-family: Arials; line-height: 1.5; font-size: 16px; font-weight: bold; letter-spacing: 2px; text-align: center; color: #FF8C00\">If you liked this notebook, please upvote.</p>\n",
    "<p style=\"text-align: center\">😊😊😊</p>"
   ]
  },
  {
   "cell_type": "markdown",
   "metadata": {},
   "source": [
    "<p id=\"part1\"></p>\n",
    "\n",
    "<p style=\"font-family: Arials; font-size: 16px; font-style: bold; font-weight: bold; letter-spacing: 3px; color: #FF8C00\">0 PROLOGUE</p>\n",
    "<hr style=\"height: 0.5px; border: 0; background-color: #808080\">\n",
    "\n",
    "<p style=\"font-family: Arials, sans-serif; font-size: 14px; color: rgba(0,0,0,.7)\">In this work, exploratory data analysis has been carried out for what are the reasons which can effect the heart attack</p>\n",
    "\n",
    "<p style=\"font-family: Arials, sans-serif; font-size: 14px; color: rgba(0,0,0,.7)\"><strong>FEATURES:</strong></p>\n",
    "\n",
    "<ol style=\"font-family: Arials, sans-serif; font-size: 14px; line-height:1.5; color: rgba(0,0,0,.7)\">\n",
    "<li><strong>AGE</strong> - AGE OF THE PATIENT </li>\n",
    "<p></p>    \n",
    "<li><strong>SEX</strong> - SEX OF THE PATIENT , (1:MALE , 0: FEMALE)</li>\n",
    "<p></p>\n",
    "<li><strong>EXANG</strong> - EXERCISE INCLUDE ANGIA (1=YES, 0=NO)</li>\n",
    "<p></p>    \n",
    "<li><strong>CA</strong> - NUMBER OF MAJOR VESSELS (0-3)</li>   \n",
    "<p></p>    \n",
    "<li><strong>CP</strong> - CHEST PAIN TYPE (Value 1: typical angina,\n",
    "    Value2: atypical angina,\n",
    "    Value 3: non-anginal pain,\n",
    "    Value 4: asymptomatic</li>   \n",
    "<p></p>    \n",
    "<li><strong>TRTBPS</strong> - RESTING BLOOD PRESSURE IN (MM|HG)</li>    \n",
    "<p></p>    \n",
    "<li><strong>CHOL</strong> - CHOLESTROL IN (MG|DL) FETCHED VIA BMI SENSOR</li>      \n",
    "<p></p>     \n",
    "<li><strong>FBS</strong> - (FASTING BLOOD SUGAR > 120 MG/DL) (1=TRUE, 0=FALSE)</li>    \n",
    "<p></p> \n",
    "<li><strong>REST-ECG</strong> -(RESTING ELECTROCARDIOGRAPHIC RESULTS)   Value 0: normal,\n",
    "Value 1: having ST-T wave abnormality (T wave inversions and/or ST elevation or depression of > 0.05 mV),\n",
    "Value 2: showing probable or definite left ventricular hypertrophy by Estes' criteria</li>    \n",
    "<p></p> \n",
    "<li><strong>THALACH</strong> -MAXIMUM HEAERT RATE ACHIEVED</li>    \n",
    "<p></p>\n",
    "<li><strong>TARGET</strong> -0=LESS CHANCE OF HEART ATTACK, 1= MORE CHANCE OF HEART ATTACK</li>    \n",
    "<p></p>     \n",
    "</ol>\n",
    "\n",
    "\n",
    "\n",
    "<p style=\"font-family: Arials, sans-serif; font-size: 14px; line-height:1.0; color: rgba(0,0,0,.7)\"><strong>ANSWER TO THE FOLLOWING QUESTIONS ARE GIVEN:</strong></p>\n",
    "\n",
    "<ol style=\"font-family: Arials, sans-serif; font-size: 14px; line-height:1.5; color: rgba(0,0,0,.7)\">\n",
    "<li>Increasing in age have any effect towards heart attack.</li>\n",
    "<p></p>\n",
    "<li>Does increase in cholestrol level in body have any effect towards the heart attack</li>\n",
    "<p></p>\n",
    "<li>Increase in blood pressure have any relation with heart attack.</li>\n",
    "<p></p>\n",
    "</ol>"
   ]
  },
  {
   "cell_type": "markdown",
   "metadata": {},
   "source": [
    "<p id=\"part2\"></p>\n",
    "\n",
    "# <span style=\"font-family: Arials; font-size: 16px; font-style: normal; font-weight: bold; letter-spacing: 3px; color: #FF8C00\">1 IMPORTING LIBRARIES</span>\n",
    "<hr style=\"height: 0.5px; border: 0; background-color: #808080\">\n",
    "\n",
    "<p style=\"font-family: Arials, sans-serif; font-size: 14px; line-height:1.0; color: rgba(0,0,0,.7)\"><strong>LIBRARIES:</strong></p>\n",
    "\n",
    "<ol style=\"font-family: Arials, sans-serif; font-size: 14px; line-height:1.5; color: rgba(0,0,0,.7)\">\n",
    "<li>Library <strong>pandas</strong> will be required to work with data in tabular representation.</li>\n",
    "<p></p>\n",
    "<li>Library <strong>numpy</strong> will be required to round the data in the correlation matrix.</li>\n",
    "<p></p>\n",
    "<li>Library <strong>missingno</strong> will be required to visualize missing values in the data.</li>\n",
    "<p></p>   \n",
    "<li>Library <strong>matplotlib, seaborn, plotly</strong> required for data visualization.</li>\n",
    "<p></p>\n",
    "</ol>"
   ]
  },
  {
   "cell_type": "code",
   "execution_count": null,
   "metadata": {
    "execution": {
     "iopub.execute_input": "2021-06-11T10:01:09.164229Z",
     "iopub.status.busy": "2021-06-11T10:01:09.16378Z",
     "iopub.status.idle": "2021-06-11T10:01:12.565407Z",
     "shell.execute_reply": "2021-06-11T10:01:12.564314Z",
     "shell.execute_reply.started": "2021-06-11T10:01:09.164134Z"
    }
   },
   "outputs": [],
   "source": [
    "import pandas as pd\n",
    "import numpy as np\n",
    "import seaborn as sns\n",
    "import plotly.express as px\n",
    "import missingno\n",
    "import matplotlib.pyplot as plt\n",
    "from plotly.subplots import make_subplots\n",
    "import plotly.graph_objects as go\n",
    "import plotly.figure_factory as ff"
   ]
  },
  {
   "cell_type": "markdown",
   "metadata": {},
   "source": [
    "<p id=\"part3\"></p>\n",
    "\n",
    "# <span style=\"font-family: Arials; font-size: 16px; font-style: normal; font-weight: bold; letter-spacing: 3px; color: #FF8C00\">2 DATA DESCRIPTION AND DATA CLEANING</span>\n",
    "<hr style=\"height: 0.5px; border: 0; background-color: #808080\">\n",
    "\n",
    "<p style=\"font-family: Arials, sans-serif; font-size: 14px; color: rgba(0,0,0,.7)\">In this block, cleaning part will be carried out, data types, missing values, duplicates.</p>"
   ]
  },
  {
   "cell_type": "markdown",
   "metadata": {},
   "source": [
    "<p id=\"part4\"></p>\n",
    "\n",
    "<p style=\"font-family: Arials; font-size: 16px; font-style: normal; font-weight: normal; letter-spacing: 3px; color: #FF8C00; line-height:1.0\">2.1 Import Data</p>"
   ]
  },
  {
   "cell_type": "code",
   "execution_count": null,
   "metadata": {
    "execution": {
     "iopub.execute_input": "2021-06-11T10:05:44.061245Z",
     "iopub.status.busy": "2021-06-11T10:05:44.060775Z",
     "iopub.status.idle": "2021-06-11T10:05:44.111969Z",
     "shell.execute_reply": "2021-06-11T10:05:44.110886Z",
     "shell.execute_reply.started": "2021-06-11T10:05:44.061211Z"
    }
   },
   "outputs": [],
   "source": [
    "# Reading Data:\n",
    "df=pd.read_csv(\"/kaggle/input/heart-attack-analysis-prediction-dataset/heart.csv\")\n",
    "df.head()  #Loading the First Five Rows:"
   ]
  },
  {
   "cell_type": "code",
   "execution_count": null,
   "metadata": {
    "execution": {
     "iopub.execute_input": "2021-06-11T10:05:48.501865Z",
     "iopub.status.busy": "2021-06-11T10:05:48.501441Z",
     "iopub.status.idle": "2021-06-11T10:05:48.50735Z",
     "shell.execute_reply": "2021-06-11T10:05:48.506431Z",
     "shell.execute_reply.started": "2021-06-11T10:05:48.50183Z"
    }
   },
   "outputs": [],
   "source": [
    "# Let's Look The Dimensions Of The Data:\n",
    "print(f'The Data-Set Contain {df.shape[0]} Rows and {df.shape[1]} Columns')\n"
   ]
  },
  {
   "cell_type": "markdown",
   "metadata": {},
   "source": [
    "<p id=\"part5\"></p>\n",
    "\n",
    "<p style=\"font-family: Arials; font-size: 16px; font-style: normal; font-weight: normal; letter-spacing: 3px; color: #FF8C00; line-height:1.0\">2.2 Data Types</p>"
   ]
  },
  {
   "cell_type": "code",
   "execution_count": null,
   "metadata": {
    "execution": {
     "iopub.execute_input": "2021-06-11T10:05:51.913421Z",
     "iopub.status.busy": "2021-06-11T10:05:51.912964Z",
     "iopub.status.idle": "2021-06-11T10:05:51.923818Z",
     "shell.execute_reply": "2021-06-11T10:05:51.922726Z",
     "shell.execute_reply.started": "2021-06-11T10:05:51.913382Z"
    }
   },
   "outputs": [],
   "source": [
    "#Check Data Types\n",
    "df.dtypes"
   ]
  },
  {
   "cell_type": "markdown",
   "metadata": {},
   "source": [
    "<p style=\"font-family: Arials, sans-serif; font-size: 14px; color: rgba(0,0,0,.7)\">Data contains 13 Numerical columns and 1 Float Column.</p>"
   ]
  },
  {
   "cell_type": "markdown",
   "metadata": {},
   "source": [
    "<p id=\"part6\"></p>\n",
    "\n",
    "<p style=\"font-family: Arials; font-size: 16px; font-style: normal; font-weight: normal; letter-spacing: 3px; color: #FF8C00; line-height:1.0\">2.3 Missing values</p>"
   ]
  },
  {
   "cell_type": "markdown",
   "metadata": {},
   "source": [
    "<p style = \"font-family: Inter, sans-serif; font-size: 14px; color: rgba(0,0,0,.7)\"> Let's calculate the percentage of blanks and filled values for all columns.</p>"
   ]
  },
  {
   "cell_type": "code",
   "execution_count": null,
   "metadata": {
    "execution": {
     "iopub.execute_input": "2021-06-11T10:05:57.940174Z",
     "iopub.status.busy": "2021-06-11T10:05:57.939808Z",
     "iopub.status.idle": "2021-06-11T10:05:57.953747Z",
     "shell.execute_reply": "2021-06-11T10:05:57.95263Z",
     "shell.execute_reply.started": "2021-06-11T10:05:57.940144Z"
    }
   },
   "outputs": [],
   "source": [
    "# loop through the columns and check the missing values\n",
    "for col in df.columns:\n",
    "    pct_missing = df[col].isnull().sum()\n",
    "    print(f'{col} - {pct_missing :.1%}')"
   ]
  },
  {
   "cell_type": "code",
   "execution_count": null,
   "metadata": {
    "execution": {
     "iopub.execute_input": "2021-06-11T10:06:13.98559Z",
     "iopub.status.busy": "2021-06-11T10:06:13.98513Z",
     "iopub.status.idle": "2021-06-11T10:06:14.523291Z",
     "shell.execute_reply": "2021-06-11T10:06:14.522245Z",
     "shell.execute_reply.started": "2021-06-11T10:06:13.98555Z"
    }
   },
   "outputs": [],
   "source": [
    "# Build a matrix of missing values\n",
    "missingno.matrix(df, fontsize = 16)\n",
    "plt.show()"
   ]
  },
  {
   "cell_type": "markdown",
   "metadata": {},
   "source": [
    "<div style=\"background: #DCDCDC\"><p style=\"font-family: Arials, sans-serif; font-size: 16px; color: #000000\"><strong>CONCLUSION:</strong> The data has no missing values, so no further transformations are required.</p></div>"
   ]
  },
  {
   "cell_type": "markdown",
   "metadata": {},
   "source": [
    "<p id=\"part7\"></p>\n",
    "\n",
    "<p style=\"font-family: Arials; font-size: 16px; font-style: normal; font-weight: normal; letter-spacing: 3px; color: #FF8C00; line-height:1.0\">2.4 Duplicates</p>"
   ]
  },
  {
   "cell_type": "code",
   "execution_count": null,
   "metadata": {},
   "outputs": [],
   "source": [
    "#Check The Duplicates In the Data-Set:\n",
    "df.duplicated().sum()"
   ]
  },
  {
   "cell_type": "markdown",
   "metadata": {},
   "source": [
    "<p style = \"font-family: Inter, sans-serif; font-size: 14px; color: rgba(0,0,0,.7)\">There is 1 Duplicate Value Present in the Data-set.</p>"
   ]
  },
  {
   "cell_type": "code",
   "execution_count": null,
   "metadata": {},
   "outputs": [],
   "source": [
    "# We will drop the Duplicate value:\n",
    "df=df.drop_duplicates(keep=\"first\")"
   ]
  },
  {
   "cell_type": "markdown",
   "metadata": {},
   "source": [
    "<div style=\"background: #DCDCDC\"><p style=\"font-family: Arials, sans-serif; font-size: 16px; color: #000000\"><strong>CONCLUSION:</strong>Now our Data is Clean We can do Further Analysis.</p></div>"
   ]
  },
  {
   "cell_type": "markdown",
   "metadata": {},
   "source": [
    "<p id=\"part8\"></p>\n",
    "\n",
    "<p style=\"font-family: Arials; font-size: 16px; font-style: normal; font-weight: normal; letter-spacing: 3px; color: #FF8C00; line-height:1.0\">3. Analysis:</p>"
   ]
  },
  {
   "cell_type": "markdown",
   "metadata": {},
   "source": [
    "<p id=\"part9\"></p>\n",
    "\n",
    "<p style=\"font-family: Arials; font-size: 16px; font-style: normal; font-weight: normal; letter-spacing: 3px; color: #FF8C00; line-height:1.0\">3.1 Uni-variate Analysis:</p>"
   ]
  },
  {
   "cell_type": "code",
   "execution_count": null,
   "metadata": {
    "execution": {
     "iopub.execute_input": "2021-06-11T10:14:10.580003Z",
     "iopub.status.busy": "2021-06-11T10:14:10.579598Z",
     "iopub.status.idle": "2021-06-11T10:14:11.086124Z",
     "shell.execute_reply": "2021-06-11T10:14:11.085156Z",
     "shell.execute_reply.started": "2021-06-11T10:14:10.57997Z"
    }
   },
   "outputs": [],
   "source": [
    "plt.figure(figsize=(20,10))\n",
    "sns.countplot(x=df[\"age\"])\n",
    "plt.title(\"COUNT OF PATIENTS AGE\",fontsize=20)\n",
    "plt.xlabel(\"AGE\",fontsize=20)\n",
    "plt.ylabel(\"COUNT\",fontsize=20)\n",
    "plt.show()"
   ]
  },
  {
   "cell_type": "code",
   "execution_count": null,
   "metadata": {
    "execution": {
     "iopub.execute_input": "2021-06-11T10:14:31.119374Z",
     "iopub.status.busy": "2021-06-11T10:14:31.118898Z",
     "iopub.status.idle": "2021-06-11T10:14:31.418808Z",
     "shell.execute_reply": "2021-06-11T10:14:31.418038Z",
     "shell.execute_reply.started": "2021-06-11T10:14:31.119331Z"
    }
   },
   "outputs": [],
   "source": [
    "sns.displot(df[\"age\"])\n",
    "plt.title(\"DISTRIBUTION OF AGE\",fontsize=20)\n",
    "plt.show()"
   ]
  },
  {
   "cell_type": "code",
   "execution_count": null,
   "metadata": {
    "execution": {
     "iopub.execute_input": "2021-06-11T10:15:58.054348Z",
     "iopub.status.busy": "2021-06-11T10:15:58.053798Z",
     "iopub.status.idle": "2021-06-11T10:15:58.107587Z",
     "shell.execute_reply": "2021-06-11T10:15:58.106855Z",
     "shell.execute_reply.started": "2021-06-11T10:15:58.054291Z"
    }
   },
   "outputs": [],
   "source": [
    "s=df[\"sex\"].value_counts().reset_index()\n",
    "px.pie(s,names=\"index\",values=\"sex\",title=\"%AGE OF MALE AND FEMALE PATIENTS:\")\n"
   ]
  },
  {
   "cell_type": "code",
   "execution_count": null,
   "metadata": {
    "execution": {
     "iopub.execute_input": "2021-06-11T10:18:39.215387Z",
     "iopub.status.busy": "2021-06-11T10:18:39.214765Z",
     "iopub.status.idle": "2021-06-11T10:18:39.405817Z",
     "shell.execute_reply": "2021-06-11T10:18:39.404555Z",
     "shell.execute_reply.started": "2021-06-11T10:18:39.215331Z"
    }
   },
   "outputs": [],
   "source": [
    "c=df[\"cp\"].value_counts().reset_index()\n",
    "plt.figure(figsize=(20,10))\n",
    "sns.barplot(x=c[\"index\"],y=c[\"cp\"])\n",
    "plt.title(\"TYPE OF CHEST PAIN WITH NUMBER OF PATIENTS\",fontsize=20)\n",
    "plt.xlabel(\"TYPE\",fontsize=20)\n",
    "plt.ylabel(\"COUNT\",fontsize=20)\n",
    "plt.show()\n"
   ]
  },
  {
   "cell_type": "code",
   "execution_count": null,
   "metadata": {
    "execution": {
     "iopub.execute_input": "2021-06-11T10:19:30.21971Z",
     "iopub.status.busy": "2021-06-11T10:19:30.219287Z",
     "iopub.status.idle": "2021-06-11T10:19:30.52235Z",
     "shell.execute_reply": "2021-06-11T10:19:30.521125Z",
     "shell.execute_reply.started": "2021-06-11T10:19:30.219676Z"
    }
   },
   "outputs": [],
   "source": [
    "sns.displot(df[\"trtbps\"])\n",
    "plt.title(\"DISTRIBUTION OF BLOOD PRESSURE AROUND PATIENTS\",fontsize=20)\n",
    "plt.xlabel(\"BLOOD PRESSURE\",fontsize=20)\n",
    "plt.ylabel(\"COUNT\",fontsize=20)\n",
    "plt.show()\n"
   ]
  },
  {
   "cell_type": "code",
   "execution_count": null,
   "metadata": {
    "execution": {
     "iopub.execute_input": "2021-06-11T10:19:54.04429Z",
     "iopub.status.busy": "2021-06-11T10:19:54.04386Z",
     "iopub.status.idle": "2021-06-11T10:19:54.360005Z",
     "shell.execute_reply": "2021-06-11T10:19:54.358822Z",
     "shell.execute_reply.started": "2021-06-11T10:19:54.04423Z"
    }
   },
   "outputs": [],
   "source": [
    "sns.displot(df[\"chol\"])\n",
    "plt.title(\"DISTRIBUTION OF CHOLESTROL LEVEL AROUND PATIENTS\",fontsize=20)\n",
    "plt.xlabel(\"CHOLESTROL LEVEL\",fontsize=20)\n",
    "plt.ylabel(\"COUNT\",fontsize=20)\n",
    "plt.show()"
   ]
  },
  {
   "cell_type": "code",
   "execution_count": null,
   "metadata": {
    "execution": {
     "iopub.execute_input": "2021-06-11T10:20:21.94606Z",
     "iopub.status.busy": "2021-06-11T10:20:21.94559Z",
     "iopub.status.idle": "2021-06-11T10:20:22.243475Z",
     "shell.execute_reply": "2021-06-11T10:20:22.24222Z",
     "shell.execute_reply.started": "2021-06-11T10:20:21.946002Z"
    }
   },
   "outputs": [],
   "source": [
    "sns.displot(df[\"thalachh\"])\n",
    "plt.title(\"DISTRIBUTION OF HEART RATE AROUND PATIENTS\",fontsize=20)\n",
    "plt.xlabel(\"HEART RATE\",fontsize=20)\n",
    "plt.ylabel(\"COUNT\",fontsize=20)\n",
    "plt.show()"
   ]
  },
  {
   "cell_type": "markdown",
   "metadata": {},
   "source": [
    "<div style=\"background: #DCDCDC\">\n",
    "<p style=\"font-family: Arials, sans-serif; font-size: 16px; color: #000000\"><strong>INSIGHT : </strong> Uni-Variate Analysis Of The Data:</p>\n",
    "<ol style=\"font-family: Arials, sans-serif; font-size: 14px; line-height:1.5; color: rgba(0,0,0,.7)\">\n",
    "<li>Most of the patients have age (50-60).In which maximum number of Patients have age 56.</li>\n",
    "<p></p>\n",
    "<li>Around 68.2% (207) are Male patients and 31.8%  (96) are Female patients .</li>\n",
    "<p></p>\n",
    "<li>Most of the patients have type Value 1 Chest Pain that is typical angina Value.</li>\n",
    "<p></p>\n",
    "<li>Most of the patients Blood Pressure lies between (130-140).</li>\n",
    "<p></p>\n",
    "<li>Most of the patients Chlostrol level lies between (200-250).</li>\n",
    "<p></p>\n",
    "<li>Most of the patients Heart Rate lies between (155-165).</li>\n",
    "<p></p>\n",
    "</ol>        \n",
    "</div>"
   ]
  },
  {
   "cell_type": "markdown",
   "metadata": {},
   "source": [
    "<p id=\"part10\"></p>\n",
    "\n",
    "<p style=\"font-family: Arials; font-size: 16px; font-style: normal; font-weight: normal; letter-spacing: 3px; color: #FF8C00; line-height:1.0\">3.2 Bi-Variate Analysis:</p>"
   ]
  },
  {
   "cell_type": "markdown",
   "metadata": {},
   "source": [
    "### 01. AGE"
   ]
  },
  {
   "cell_type": "code",
   "execution_count": null,
   "metadata": {
    "execution": {
     "iopub.execute_input": "2021-06-11T10:23:56.427453Z",
     "iopub.status.busy": "2021-06-11T10:23:56.426942Z",
     "iopub.status.idle": "2021-06-11T10:23:56.694233Z",
     "shell.execute_reply": "2021-06-11T10:23:56.692848Z",
     "shell.execute_reply.started": "2021-06-11T10:23:56.427413Z"
    }
   },
   "outputs": [],
   "source": [
    "plt.figure(figsize=(10,6))\n",
    "sns.histplot(data = df, x = 'age', hue = 'output')\n",
    "plt.title(\"DOES AGE EFFECT THE HEART-ATTACK\")\n",
    "plt.show()"
   ]
  },
  {
   "cell_type": "code",
   "execution_count": null,
   "metadata": {
    "execution": {
     "iopub.execute_input": "2021-06-11T10:25:33.933253Z",
     "iopub.status.busy": "2021-06-11T10:25:33.932869Z",
     "iopub.status.idle": "2021-06-11T10:25:34.060726Z",
     "shell.execute_reply": "2021-06-11T10:25:34.059564Z",
     "shell.execute_reply.started": "2021-06-11T10:25:33.933221Z"
    }
   },
   "outputs": [],
   "source": [
    "v=pd.crosstab(df[\"age\"],df[\"output\"]).reset_index()\n",
    "\n",
    "v.columns=[\"age\",\"low_risk\",\"high_risk\"]\n",
    "\n",
    "px.line(v,v[\"age\"],v[\"high_risk\"],title=\"RISK OF HIGH HEART-ATTACK WITH AGE\")"
   ]
  },
  {
   "cell_type": "code",
   "execution_count": null,
   "metadata": {
    "execution": {
     "iopub.execute_input": "2021-06-11T10:26:16.010524Z",
     "iopub.status.busy": "2021-06-11T10:26:16.009865Z",
     "iopub.status.idle": "2021-06-11T10:26:16.080009Z",
     "shell.execute_reply": "2021-06-11T10:26:16.078962Z",
     "shell.execute_reply.started": "2021-06-11T10:26:16.010482Z"
    }
   },
   "outputs": [],
   "source": [
    "px.line(v,v[\"age\"],v[\"low_risk\"],title=\"RISK OF LOW HEART-ATTACK WITH AGE\")"
   ]
  },
  {
   "cell_type": "code",
   "execution_count": null,
   "metadata": {
    "execution": {
     "iopub.execute_input": "2021-06-11T10:26:37.947758Z",
     "iopub.status.busy": "2021-06-11T10:26:37.94725Z",
     "iopub.status.idle": "2021-06-11T10:26:39.372129Z",
     "shell.execute_reply": "2021-06-11T10:26:39.371224Z",
     "shell.execute_reply.started": "2021-06-11T10:26:37.94772Z"
    }
   },
   "outputs": [],
   "source": [
    "plt.figure(figsize=(20,10))\n",
    "sns.lineplot(y=\"trtbps\",x=\"age\",data=df)\n",
    "plt.title(\"BLOOD PRESSURE WITH AGE\",fontsize=20)\n",
    "plt.xlabel(\"AGE\",fontsize=20)\n",
    "plt.ylabel(\"BLOOD PRESSURE\",fontsize=20)\n",
    "plt.show()"
   ]
  },
  {
   "cell_type": "code",
   "execution_count": null,
   "metadata": {
    "execution": {
     "iopub.execute_input": "2021-06-11T10:27:13.411383Z",
     "iopub.status.busy": "2021-06-11T10:27:13.410926Z",
     "iopub.status.idle": "2021-06-11T10:27:14.775344Z",
     "shell.execute_reply": "2021-06-11T10:27:14.774499Z",
     "shell.execute_reply.started": "2021-06-11T10:27:13.411346Z"
    }
   },
   "outputs": [],
   "source": [
    "plt.figure(figsize=(20,10))\n",
    "sns.lineplot(y=\"chol\",x=\"age\",data=df)\n",
    "plt.title(\"CHOLESTROL LEVEL  WITH AGE\",fontsize=20)\n",
    "plt.xlabel(\"AGE\",fontsize=20)\n",
    "plt.ylabel(\"CHOLESTROL LEVEL\",fontsize=20)\n",
    "plt.show()"
   ]
  },
  {
   "cell_type": "markdown",
   "metadata": {},
   "source": [
    "#### THERE IS HIGH CHANCES OF INCREASE IN CHOLESTROL LEVEL IN THE BODY WITH INCREASE IN THE AGE:"
   ]
  },
  {
   "cell_type": "code",
   "execution_count": null,
   "metadata": {
    "execution": {
     "iopub.execute_input": "2021-06-11T10:29:37.553972Z",
     "iopub.status.busy": "2021-06-11T10:29:37.553477Z",
     "iopub.status.idle": "2021-06-11T10:29:38.947433Z",
     "shell.execute_reply": "2021-06-11T10:29:38.946274Z",
     "shell.execute_reply.started": "2021-06-11T10:29:37.553935Z"
    }
   },
   "outputs": [],
   "source": [
    "plt.figure(figsize=(20,10))\n",
    "sns.lineplot(y=\"thalachh\",x=\"age\",data=df)\n",
    "plt.title(\"HEART RATE  WITH AGE\",fontsize=20)\n",
    "plt.xlabel(\"AGE\",fontsize=20)\n",
    "plt.ylabel(\"HEART RATE\",fontsize=20)\n",
    "plt.show()"
   ]
  },
  {
   "cell_type": "markdown",
   "metadata": {},
   "source": [
    "#### AS WE CAN SEE WITH INCREASE IN THE AGE OF THE PATIENTS THE HEART RATE IS GETTING LOWER:"
   ]
  },
  {
   "cell_type": "markdown",
   "metadata": {},
   "source": [
    "<div style=\"background: #DCDCDC\">\n",
    "<p style=\"font-family: Arials, sans-serif; font-size: 16px; color: #000000\"><strong>INSIGHT : </strong> Bi-Variate Analysis Of The Data:</p>\n",
    "<ol style=\"font-family: Arials, sans-serif; font-size: 14px; line-height:1.5; color: rgba(0,0,0,.7)\">\n",
    "<li>There is no strong Relationship with age and heart attack.So we can't say with Increasing the Age There is high Chance of Heart attack or Low Chance of Heart Attack.</li>\n",
    "<p></p>\n",
    "<li>There is high chance of Increase in Blood Pressure in the body  With  Increase in Age .</li>\n",
    "<p></p>\n",
    "<li>There is high chance of Increase in Cholestrol Level in the body with increase in Age.</li>\n",
    "<p></p>\n",
    "<li>There is high chance of Increase in Heart Rate in the body with increase in Age</li>\n",
    "<p></p>\n",
    "</ol>        \n",
    "</div>"
   ]
  },
  {
   "cell_type": "markdown",
   "metadata": {},
   "source": [
    "<p id=\"part11\"></p>\n",
    "\n",
    "<p style=\"font-family: Arials; font-size: 16px; font-style: normal; font-weight: normal; letter-spacing: 3px; color: #FF8C00; line-height:1.0\">3.3 Multi-Variate Analysis:</p>"
   ]
  },
  {
   "cell_type": "code",
   "execution_count": null,
   "metadata": {
    "execution": {
     "iopub.execute_input": "2021-06-11T10:33:26.116436Z",
     "iopub.status.busy": "2021-06-11T10:33:26.115988Z",
     "iopub.status.idle": "2021-06-11T10:33:28.461171Z",
     "shell.execute_reply": "2021-06-11T10:33:28.46037Z",
     "shell.execute_reply.started": "2021-06-11T10:33:26.1164Z"
    }
   },
   "outputs": [],
   "source": [
    "plt.figure(figsize=(10,6))\n",
    "sns.lineplot(x=\"age\",y=\"chol\",hue=\"output\",data=df)\n",
    "plt.title(\"EFFECT OF HEART ATTACK WITH INCREASE IN AGE AND CHOLESTROL\")\n",
    "plt.show()"
   ]
  },
  {
   "cell_type": "markdown",
   "metadata": {},
   "source": [
    "### Q1: DOES INCREASE IN blood pressure IN BODY HAVE ANY EFFECT TOWARDS THE HEART ATTACK:"
   ]
  },
  {
   "cell_type": "code",
   "execution_count": null,
   "metadata": {
    "execution": {
     "iopub.execute_input": "2021-06-11T10:35:15.101968Z",
     "iopub.status.busy": "2021-06-11T10:35:15.101596Z",
     "iopub.status.idle": "2021-06-11T10:35:17.199677Z",
     "shell.execute_reply": "2021-06-11T10:35:17.198404Z",
     "shell.execute_reply.started": "2021-06-11T10:35:15.101937Z"
    }
   },
   "outputs": [],
   "source": [
    "plt.figure(figsize=(10,6))\n",
    "sns.lineplot(x=\"age\",y=\"trtbps\",hue=\"output\",data=df)\n",
    "plt.title(\"EFFECT OF HEART ATTACK WITH INCREASE IN AGE AND BLOOD PRESSURE\")\n",
    "plt.show()"
   ]
  },
  {
   "cell_type": "code",
   "execution_count": null,
   "metadata": {
    "execution": {
     "iopub.execute_input": "2021-06-11T10:36:09.346002Z",
     "iopub.status.busy": "2021-06-11T10:36:09.345585Z",
     "iopub.status.idle": "2021-06-11T10:36:11.697581Z",
     "shell.execute_reply": "2021-06-11T10:36:11.696175Z",
     "shell.execute_reply.started": "2021-06-11T10:36:09.345968Z"
    }
   },
   "outputs": [],
   "source": [
    "plt.figure(figsize=(10,6))\n",
    "sns.lineplot(x=\"age\",y=\"thalachh\",hue=\"output\",data=df)\n",
    "plt.title(\"EFFECT OF HEART ATTACK WITH INCREASE IN AGE AND MAXIMUM HEART RATE\")\n",
    "plt.show()"
   ]
  },
  {
   "cell_type": "code",
   "execution_count": null,
   "metadata": {
    "execution": {
     "iopub.execute_input": "2021-06-11T10:36:38.39719Z",
     "iopub.status.busy": "2021-06-11T10:36:38.396592Z",
     "iopub.status.idle": "2021-06-11T10:36:39.555942Z",
     "shell.execute_reply": "2021-06-11T10:36:39.554884Z",
     "shell.execute_reply.started": "2021-06-11T10:36:38.397127Z"
    }
   },
   "outputs": [],
   "source": [
    "plt.figure(figsize=(20,6))\n",
    "sns.heatmap(df.corr(),annot=True,cmap=\"PuBuGn\")"
   ]
  },
  {
   "cell_type": "markdown",
   "metadata": {},
   "source": [
    "<div style=\"background: #DCDCDC\">\n",
    "<p style=\"font-family: Arials, sans-serif; font-size: 16px; color: #000000\"><strong>INSIGHT : </strong> Multi-Variate Analysis Of The Data:</p>\n",
    "<ol style=\"font-family: Arials, sans-serif; font-size: 14px; line-height:1.5; color: rgba(0,0,0,.7)\">\n",
    "<li>With increasing in age Cholestrol level is also increasing but With increasing Cholestrol Level in the body it doesn't show the good Relation.So we can't say that it really effect the Heart Attack</li>\n",
    "<p></p>\n",
    "<li>Increasing in the Blood Pressure have high Risk of Heart Attack .</li>\n",
    "<p></p>\n",
    "<li>Person with High Heart Rate Have High Risk of Heart Attack .</li>\n",
    "</ol>        \n",
    "</div>"
   ]
  },
  {
   "cell_type": "markdown",
   "metadata": {},
   "source": [
    "<p id=\"part12\"></p>\n",
    "\n",
    "# <span style=\"font-family: Arials; font-size: 16px; font-style: bold; font-weight: bold; letter-spacing: 3px; color: #FF8C00\">4 FINAL CONCLUSIONS</span>\n",
    "<hr style=\"height: 0.5px; border: 0; background-color: #808080\">\n",
    "\n",
    "<p style=\"font-family: Arials, sans-serif;font-style: bold;font-size: 20px; color: rgba(0,0,0,.7)\">\n",
    "<ol style=\"font-family: Arials, sans-serif; font-size: 20px; line-height:1.5; color: rgba(0,0,0,.7)\">\n",
    "<li>With increasing the age there is no strong relationship of Heart-Attack .</li>\n",
    "<p></p>\n",
    "<li>Increasing in heart rate will have high Risk of heart attack:</li>\n",
    "<p></p>\n",
    "<li>Increasing in Blood Pressure will have high Risk of heart attack:</li>\n",
    "<p></p>\n",
    "<li>Increasing in Cholestrol Level will have high Risk of heart attack:</li>\n",
    "<p></p>\n",
    "</p>\n",
    "</ol>\n",
    "\n"
   ]
  },
  {
   "cell_type": "markdown",
   "metadata": {},
   "source": [
    "<p style=\"font-family: Arials; line-height: 1.5; font-size: 16px; font-weight: bold; letter-spacing: 2px; text-align: center; color: #FF8C00\">Thank you for reading this work!\n",
    "Any feedback on this work would be very grateful.\n",
    "If you liked this notebook, Upvote.</p>\n",
    "    <p style=\"text-align: center\">😊😊😊</p>"
   ]
  },
  {
   "cell_type": "code",
   "execution_count": null,
   "metadata": {},
   "outputs": [],
   "source": []
  }
 ],
 "metadata": {
  "kernelspec": {
   "display_name": "Python 3",
   "language": "python",
   "name": "python3"
  },
  "language_info": {
   "codemirror_mode": {
    "name": "ipython",
    "version": 3
   },
   "file_extension": ".py",
   "mimetype": "text/x-python",
   "name": "python",
   "nbconvert_exporter": "python",
   "pygments_lexer": "ipython3",
   "version": "3.8.8"
  }
 },
 "nbformat": 4,
 "nbformat_minor": 4
}
